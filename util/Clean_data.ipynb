{
 "cells": [
  {
   "cell_type": "code",
   "execution_count": 1,
   "metadata": {},
   "outputs": [],
   "source": [
    "# CLean data from scraped reviews"
   ]
  },
  {
   "cell_type": "code",
   "execution_count": 2,
   "metadata": {},
   "outputs": [],
   "source": [
    "import pandas as pd\n",
    "import numpy as np\n",
    "import matplotlib.pyplot as plt\n",
    "import seaborn as sns\n",
    "import re"
   ]
  },
  {
   "cell_type": "code",
   "execution_count": 3,
   "metadata": {},
   "outputs": [],
   "source": [
    "%matplotlib inline"
   ]
  },
  {
   "cell_type": "markdown",
   "metadata": {},
   "source": []
  },
  {
   "cell_type": "code",
   "execution_count": 147,
   "metadata": {},
   "outputs": [],
   "source": [
    "df = pd.read_csv('../scrape/scraped_reviews.csv')"
   ]
  },
  {
   "cell_type": "code",
   "execution_count": 4,
   "metadata": {},
   "outputs": [
    {
     "data": {
      "text/plain": [
       "2034"
      ]
     },
     "execution_count": 4,
     "metadata": {},
     "output_type": "execute_result"
    }
   ],
   "source": [
    "len(df)"
   ]
  },
  {
   "cell_type": "code",
   "execution_count": null,
   "metadata": {},
   "outputs": [],
   "source": []
  },
  {
   "cell_type": "code",
   "execution_count": null,
   "metadata": {},
   "outputs": [],
   "source": []
  },
  {
   "cell_type": "code",
   "execution_count": null,
   "metadata": {
    "scrolled": true
   },
   "outputs": [],
   "source": []
  },
  {
   "cell_type": "code",
   "execution_count": 148,
   "metadata": {},
   "outputs": [
    {
     "name": "stderr",
     "output_type": "stream",
     "text": [
      "/Users/jacobberger/anaconda3/lib/python3.7/site-packages/ipykernel_launcher.py:2: SettingWithCopyWarning: \n",
      "A value is trying to be set on a copy of a slice from a DataFrame.\n",
      "Try using .loc[row_indexer,col_indexer] = value instead\n",
      "\n",
      "See the caveats in the documentation: https://pandas.pydata.org/pandas-docs/stable/user_guide/indexing.html#returning-a-view-versus-a-copy\n",
      "  \n",
      "/Users/jacobberger/anaconda3/lib/python3.7/site-packages/ipykernel_launcher.py:3: SettingWithCopyWarning: \n",
      "A value is trying to be set on a copy of a slice from a DataFrame.\n",
      "Try using .loc[row_indexer,col_indexer] = value instead\n",
      "\n",
      "See the caveats in the documentation: https://pandas.pydata.org/pandas-docs/stable/user_guide/indexing.html#returning-a-view-versus-a-copy\n",
      "  This is separate from the ipykernel package so we can avoid doing imports until\n",
      "/Users/jacobberger/anaconda3/lib/python3.7/site-packages/ipykernel_launcher.py:5: SettingWithCopyWarning: \n",
      "A value is trying to be set on a copy of a slice from a DataFrame.\n",
      "Try using .loc[row_indexer,col_indexer] = value instead\n",
      "\n",
      "See the caveats in the documentation: https://pandas.pydata.org/pandas-docs/stable/user_guide/indexing.html#returning-a-view-versus-a-copy\n",
      "  \"\"\"\n",
      "/Users/jacobberger/anaconda3/lib/python3.7/site-packages/ipykernel_launcher.py:6: SettingWithCopyWarning: \n",
      "A value is trying to be set on a copy of a slice from a DataFrame.\n",
      "Try using .loc[row_indexer,col_indexer] = value instead\n",
      "\n",
      "See the caveats in the documentation: https://pandas.pydata.org/pandas-docs/stable/user_guide/indexing.html#returning-a-view-versus-a-copy\n",
      "  \n",
      "/Users/jacobberger/anaconda3/lib/python3.7/site-packages/ipykernel_launcher.py:8: SettingWithCopyWarning: \n",
      "A value is trying to be set on a copy of a slice from a DataFrame.\n",
      "Try using .loc[row_indexer,col_indexer] = value instead\n",
      "\n",
      "See the caveats in the documentation: https://pandas.pydata.org/pandas-docs/stable/user_guide/indexing.html#returning-a-view-versus-a-copy\n",
      "  \n",
      "/Users/jacobberger/anaconda3/lib/python3.7/site-packages/ipykernel_launcher.py:9: SettingWithCopyWarning: \n",
      "A value is trying to be set on a copy of a slice from a DataFrame.\n",
      "Try using .loc[row_indexer,col_indexer] = value instead\n",
      "\n",
      "See the caveats in the documentation: https://pandas.pydata.org/pandas-docs/stable/user_guide/indexing.html#returning-a-view-versus-a-copy\n",
      "  if __name__ == '__main__':\n",
      "/Users/jacobberger/anaconda3/lib/python3.7/site-packages/ipykernel_launcher.py:11: SettingWithCopyWarning: \n",
      "A value is trying to be set on a copy of a slice from a DataFrame.\n",
      "Try using .loc[row_indexer,col_indexer] = value instead\n",
      "\n",
      "See the caveats in the documentation: https://pandas.pydata.org/pandas-docs/stable/user_guide/indexing.html#returning-a-view-versus-a-copy\n",
      "  # This is added back by InteractiveShellApp.init_path()\n",
      "/Users/jacobberger/anaconda3/lib/python3.7/site-packages/ipykernel_launcher.py:12: SettingWithCopyWarning: \n",
      "A value is trying to be set on a copy of a slice from a DataFrame.\n",
      "Try using .loc[row_indexer,col_indexer] = value instead\n",
      "\n",
      "See the caveats in the documentation: https://pandas.pydata.org/pandas-docs/stable/user_guide/indexing.html#returning-a-view-versus-a-copy\n",
      "  if sys.path[0] == '':\n",
      "/Users/jacobberger/anaconda3/lib/python3.7/site-packages/ipykernel_launcher.py:14: SettingWithCopyWarning: \n",
      "A value is trying to be set on a copy of a slice from a DataFrame.\n",
      "Try using .loc[row_indexer,col_indexer] = value instead\n",
      "\n",
      "See the caveats in the documentation: https://pandas.pydata.org/pandas-docs/stable/user_guide/indexing.html#returning-a-view-versus-a-copy\n",
      "  \n",
      "/Users/jacobberger/anaconda3/lib/python3.7/site-packages/ipykernel_launcher.py:15: SettingWithCopyWarning: \n",
      "A value is trying to be set on a copy of a slice from a DataFrame.\n",
      "Try using .loc[row_indexer,col_indexer] = value instead\n",
      "\n",
      "See the caveats in the documentation: https://pandas.pydata.org/pandas-docs/stable/user_guide/indexing.html#returning-a-view-versus-a-copy\n",
      "  from ipykernel import kernelapp as app\n",
      "/Users/jacobberger/anaconda3/lib/python3.7/site-packages/ipykernel_launcher.py:17: SettingWithCopyWarning: \n",
      "A value is trying to be set on a copy of a slice from a DataFrame.\n",
      "Try using .loc[row_indexer,col_indexer] = value instead\n",
      "\n",
      "See the caveats in the documentation: https://pandas.pydata.org/pandas-docs/stable/user_guide/indexing.html#returning-a-view-versus-a-copy\n",
      "/Users/jacobberger/anaconda3/lib/python3.7/site-packages/ipykernel_launcher.py:18: SettingWithCopyWarning: \n",
      "A value is trying to be set on a copy of a slice from a DataFrame.\n",
      "Try using .loc[row_indexer,col_indexer] = value instead\n",
      "\n",
      "See the caveats in the documentation: https://pandas.pydata.org/pandas-docs/stable/user_guide/indexing.html#returning-a-view-versus-a-copy\n",
      "/Users/jacobberger/anaconda3/lib/python3.7/site-packages/ipykernel_launcher.py:20: SettingWithCopyWarning: \n",
      "A value is trying to be set on a copy of a slice from a DataFrame.\n",
      "Try using .loc[row_indexer,col_indexer] = value instead\n",
      "\n",
      "See the caveats in the documentation: https://pandas.pydata.org/pandas-docs/stable/user_guide/indexing.html#returning-a-view-versus-a-copy\n",
      "/Users/jacobberger/anaconda3/lib/python3.7/site-packages/ipykernel_launcher.py:21: SettingWithCopyWarning: \n",
      "A value is trying to be set on a copy of a slice from a DataFrame.\n",
      "Try using .loc[row_indexer,col_indexer] = value instead\n",
      "\n",
      "See the caveats in the documentation: https://pandas.pydata.org/pandas-docs/stable/user_guide/indexing.html#returning-a-view-versus-a-copy\n",
      "/Users/jacobberger/anaconda3/lib/python3.7/site-packages/ipykernel_launcher.py:23: SettingWithCopyWarning: \n",
      "A value is trying to be set on a copy of a slice from a DataFrame.\n",
      "Try using .loc[row_indexer,col_indexer] = value instead\n",
      "\n",
      "See the caveats in the documentation: https://pandas.pydata.org/pandas-docs/stable/user_guide/indexing.html#returning-a-view-versus-a-copy\n",
      "/Users/jacobberger/anaconda3/lib/python3.7/site-packages/ipykernel_launcher.py:24: SettingWithCopyWarning: \n",
      "A value is trying to be set on a copy of a slice from a DataFrame.\n",
      "Try using .loc[row_indexer,col_indexer] = value instead\n",
      "\n",
      "See the caveats in the documentation: https://pandas.pydata.org/pandas-docs/stable/user_guide/indexing.html#returning-a-view-versus-a-copy\n",
      "/Users/jacobberger/anaconda3/lib/python3.7/site-packages/ipykernel_launcher.py:26: SettingWithCopyWarning: \n",
      "A value is trying to be set on a copy of a slice from a DataFrame.\n",
      "Try using .loc[row_indexer,col_indexer] = value instead\n",
      "\n",
      "See the caveats in the documentation: https://pandas.pydata.org/pandas-docs/stable/user_guide/indexing.html#returning-a-view-versus-a-copy\n",
      "/Users/jacobberger/anaconda3/lib/python3.7/site-packages/ipykernel_launcher.py:27: SettingWithCopyWarning: \n",
      "A value is trying to be set on a copy of a slice from a DataFrame.\n",
      "Try using .loc[row_indexer,col_indexer] = value instead\n",
      "\n",
      "See the caveats in the documentation: https://pandas.pydata.org/pandas-docs/stable/user_guide/indexing.html#returning-a-view-versus-a-copy\n",
      "/Users/jacobberger/anaconda3/lib/python3.7/site-packages/ipykernel_launcher.py:29: SettingWithCopyWarning: \n",
      "A value is trying to be set on a copy of a slice from a DataFrame.\n",
      "Try using .loc[row_indexer,col_indexer] = value instead\n",
      "\n",
      "See the caveats in the documentation: https://pandas.pydata.org/pandas-docs/stable/user_guide/indexing.html#returning-a-view-versus-a-copy\n",
      "/Users/jacobberger/anaconda3/lib/python3.7/site-packages/ipykernel_launcher.py:30: SettingWithCopyWarning: \n",
      "A value is trying to be set on a copy of a slice from a DataFrame.\n",
      "Try using .loc[row_indexer,col_indexer] = value instead\n",
      "\n",
      "See the caveats in the documentation: https://pandas.pydata.org/pandas-docs/stable/user_guide/indexing.html#returning-a-view-versus-a-copy\n"
     ]
    }
   ],
   "source": [
    "df1 = df[['clinic_name','clinic_score','doc_score','success','income','Question 1','Answer 1']]\n",
    "df1['Question'] = df1['Question 1']\n",
    "df1['Answer']   = df1['Answer 1']\n",
    "df2 = df[['clinic_name','clinic_score','doc_score','success','income','Question 2','Answer 2']]\n",
    "df2['Question'] = df2['Question 2']\n",
    "df2['Answer']   = df2['Answer 2']\n",
    "df3 = df[['clinic_name','clinic_score','doc_score','success','income','Question 3','Answer 3']]\n",
    "df3['Question'] = df3['Question 3']\n",
    "df3['Answer']   = df3['Answer 3']\n",
    "df4 = df[['clinic_name','clinic_score','doc_score','success','income','Question 4','Answer 4']]\n",
    "df4['Question'] = df4['Question 4']\n",
    "df4['Answer']   = df4['Answer 4']\n",
    "df5 = df[['clinic_name','clinic_score','doc_score','success','income','Question 5','Answer 5']]\n",
    "df5['Question'] = df5['Question 5']\n",
    "df5['Answer']   = df5['Answer 5']\n",
    "df6 = df[['clinic_name','clinic_score','doc_score','success','income','Question 6','Answer 6']]\n",
    "df6['Question'] = df6['Question 6']\n",
    "df6['Answer']   = df6['Answer 6']\n",
    "df7 = df[['clinic_name','clinic_score','doc_score','success','income','Question 7','Answer 7']]\n",
    "df7['Question'] = df7['Question 7']\n",
    "df7['Answer']   = df7['Answer 7']\n",
    "df8 = df[['clinic_name','clinic_score','doc_score','success','income','Question 8','Answer 8']]\n",
    "df8['Question'] = df8['Question 8']\n",
    "df8['Answer']   = df8['Answer 8']\n",
    "df9 = df[['clinic_name','clinic_score','doc_score','success','income','Question 9','Answer 9']]\n",
    "df9['Question'] = df9['Question 9']\n",
    "df9['Answer']   = df9['Answer 9']\n",
    "df10 = df[['clinic_name','clinic_score','doc_score','success','income','Question 10','Answer 10']]\n",
    "df10['Question'] = df10['Question 10']\n",
    "df10['Answer']   = df10['Answer 10']\n",
    "\n",
    "\n",
    "\n",
    "#df_qa = pd.concat(df[['clinic_name']])"
   ]
  },
  {
   "cell_type": "code",
   "execution_count": 186,
   "metadata": {},
   "outputs": [],
   "source": [
    "df_qa = pd.concat([df1,df2,df3,df4,df5,df6,df7,df8,df9,df10], ignore_index=True)\n",
    "\n",
    "df_t = df_qa.drop(['Question 1','Answer 1','Question 2','Answer 2','Question 3','Answer 3','Question 4','Answer 4',\n",
    "                   'Question 5','Answer 5','Question 6','Answer 6','Question 7','Answer 7','Question 8','Answer 8',\n",
    "                   'Question 9','Answer 9','Question 10','Answer 10'], axis=1)"
   ]
  },
  {
   "cell_type": "code",
   "execution_count": 187,
   "metadata": {},
   "outputs": [
    {
     "data": {
      "text/plain": [
       "clinic_name        0\n",
       "clinic_score     360\n",
       "doc_score          0\n",
       "success            0\n",
       "income             0\n",
       "Question        5414\n",
       "Answer          5510\n",
       "dtype: int64"
      ]
     },
     "execution_count": 187,
     "metadata": {},
     "output_type": "execute_result"
    }
   ],
   "source": [
    "df_t.isnull().sum()"
   ]
  },
  {
   "cell_type": "code",
   "execution_count": 151,
   "metadata": {},
   "outputs": [
    {
     "data": {
      "text/plain": [
       "(20340, 7)"
      ]
     },
     "execution_count": 151,
     "metadata": {},
     "output_type": "execute_result"
    }
   ],
   "source": [
    "df_t.shape"
   ]
  },
  {
   "cell_type": "code",
   "execution_count": 177,
   "metadata": {},
   "outputs": [],
   "source": []
  },
  {
   "cell_type": "code",
   "execution_count": null,
   "metadata": {},
   "outputs": [],
   "source": []
  },
  {
   "cell_type": "code",
   "execution_count": 188,
   "metadata": {},
   "outputs": [],
   "source": [
    "df_t = df_t.dropna().reset_index(drop=True)\n"
   ]
  },
  {
   "cell_type": "code",
   "execution_count": null,
   "metadata": {},
   "outputs": [],
   "source": []
  },
  {
   "cell_type": "code",
   "execution_count": 183,
   "metadata": {},
   "outputs": [],
   "source": [
    "def replace_q (val):\n",
    "    if val[:28]=='How was your experience with':\n",
    "        val = 'experience with doctor'   # classify under doctor\n",
    "    elif val[:16] =='During treatment':  # Treated like num or human\n",
    "        val = \"experience with doctor\"   # classify under doctor\n",
    "    elif val[:16] == \"What's one piece\":\n",
    "        val = 'advice give prospective patient'\n",
    "    elif val[:40] == \"Describe your experience with your nurse\":\n",
    "        val = \"experience with nurse\"\n",
    "    elif val[:42] == \"Describe your experience with your nursing\":\n",
    "        val = \"experience with nurse\"\n",
    "    elif val[:29]==\"Describe your experience with\":\n",
    "        val = \"experience with clinic\"\n",
    "    elif val[:22] == \"Describe the protocols\":\n",
    "        val = \"protocols and success\"\n",
    "    elif val[:18]== \"Describe the costs\":\n",
    "        val = \"cost\"\n",
    "    elif val[:31] == \"What specific things went wrong\":\n",
    "        val = \"specific things went wrong\"\n",
    "    else:\n",
    "        if \"eSET\" in val:\n",
    "            val = \"eSET vs. multiple embryo transfer\"\n",
    "        else:\n",
    "            val=val\n",
    "       \n",
    "    return val\n",
    "    "
   ]
  },
  {
   "cell_type": "code",
   "execution_count": 222,
   "metadata": {},
   "outputs": [],
   "source": [
    "human = data[data.Question==\"experience with nurse\"]['Answer']"
   ]
  },
  {
   "cell_type": "code",
   "execution_count": 223,
   "metadata": {},
   "outputs": [
    {
     "data": {
      "text/plain": [
       "1075"
      ]
     },
     "execution_count": 223,
     "metadata": {},
     "output_type": "execute_result"
    }
   ],
   "source": [
    "len(human)"
   ]
  },
  {
   "cell_type": "code",
   "execution_count": 189,
   "metadata": {},
   "outputs": [],
   "source": [
    "df_t.Question = df_t.Question.apply(replace_q)"
   ]
  },
  {
   "cell_type": "code",
   "execution_count": 190,
   "metadata": {},
   "outputs": [
    {
     "name": "stdout",
     "output_type": "stream",
     "text": [
      "0 experience with doctor\n",
      "1 advice give prospective patient\n",
      "2 experience with nurse\n",
      "3 experience with clinic\n",
      "4 protocols and success\n",
      "5 cost\n",
      "6 eSET vs. multiple embryo transfer\n",
      "7 specific things went wrong\n"
     ]
    }
   ],
   "source": [
    "for i,q in enumerate (df_t.Question.unique()):\n",
    "    #if type(q)==float:\n",
    "    print (i, q)"
   ]
  },
  {
   "cell_type": "code",
   "execution_count": 191,
   "metadata": {},
   "outputs": [],
   "source": [
    "def failed_list(text):\n",
    "    if \"<ul\" in text:\n",
    "        text_list = text.split(\">\")\n",
    "        fail_list =[]\n",
    "        for i in text_list:\n",
    "            if \"</li\" in i:\n",
    "                fail_list.append(i.split('<')[0])\n",
    "        doc = ', '.join(fail_list)\n",
    "        return doc\n",
    "    \n",
    "    else:\n",
    "        return text"
   ]
  },
  {
   "cell_type": "code",
   "execution_count": 192,
   "metadata": {},
   "outputs": [],
   "source": [
    "df_t.Answer = df_t.Answer.apply(failed_list)"
   ]
  },
  {
   "cell_type": "code",
   "execution_count": 193,
   "metadata": {},
   "outputs": [],
   "source": [
    "df_t.to_csv('reviews.csv')"
   ]
  },
  {
   "cell_type": "code",
   "execution_count": 194,
   "metadata": {},
   "outputs": [],
   "source": [
    "data = pd.read_csv('reviews.csv')"
   ]
  },
  {
   "cell_type": "code",
   "execution_count": null,
   "metadata": {},
   "outputs": [],
   "source": []
  },
  {
   "cell_type": "code",
   "execution_count": 132,
   "metadata": {
    "scrolled": true
   },
   "outputs": [
    {
     "data": {
      "text/html": [
       "<div>\n",
       "<style scoped>\n",
       "    .dataframe tbody tr th:only-of-type {\n",
       "        vertical-align: middle;\n",
       "    }\n",
       "\n",
       "    .dataframe tbody tr th {\n",
       "        vertical-align: top;\n",
       "    }\n",
       "\n",
       "    .dataframe thead th {\n",
       "        text-align: right;\n",
       "    }\n",
       "</style>\n",
       "<table border=\"1\" class=\"dataframe\">\n",
       "  <thead>\n",
       "    <tr style=\"text-align: right;\">\n",
       "      <th></th>\n",
       "      <th>clinic_name</th>\n",
       "      <th>clinic_score</th>\n",
       "      <th>doc_score</th>\n",
       "      <th>success</th>\n",
       "      <th>income</th>\n",
       "      <th>Question</th>\n",
       "      <th>Answer</th>\n",
       "    </tr>\n",
       "  </thead>\n",
       "  <tbody>\n",
       "    <tr>\n",
       "      <th>10</th>\n",
       "      <td>Columbia University</td>\n",
       "      <td>7.0</td>\n",
       "      <td>4</td>\n",
       "      <td>?</td>\n",
       "      <td>$100K - $199K</td>\n",
       "      <td>experience with doctor at clinic</td>\n",
       "      <td>Again, I only saw her once and she responded t...</td>\n",
       "    </tr>\n",
       "    <tr>\n",
       "      <th>41</th>\n",
       "      <td>Columbia University</td>\n",
       "      <td>0.0</td>\n",
       "      <td>5</td>\n",
       "      <td>No</td>\n",
       "      <td>$200K - $499K</td>\n",
       "      <td>experience with doctor at clinic</td>\n",
       "      <td>Dr. Grossman as an individual is compassionate...</td>\n",
       "    </tr>\n",
       "    <tr>\n",
       "      <th>49</th>\n",
       "      <td>Columbia University</td>\n",
       "      <td>0.0</td>\n",
       "      <td>0</td>\n",
       "      <td>No</td>\n",
       "      <td>$200K - $499K</td>\n",
       "      <td>experience with doctor at clinic</td>\n",
       "      <td>Communication skills are poor. Next steps were...</td>\n",
       "    </tr>\n",
       "    <tr>\n",
       "      <th>50</th>\n",
       "      <td>Columbia University</td>\n",
       "      <td>0.0</td>\n",
       "      <td>0</td>\n",
       "      <td>No</td>\n",
       "      <td>$200K - $499K</td>\n",
       "      <td>experience with doctor at clinic</td>\n",
       "      <td>I don't know if Dr. Rackow is really familiar ...</td>\n",
       "    </tr>\n",
       "    <tr>\n",
       "      <th>51</th>\n",
       "      <td>Columbia University</td>\n",
       "      <td>1.0</td>\n",
       "      <td>0</td>\n",
       "      <td>No</td>\n",
       "      <td>$200K - $499K</td>\n",
       "      <td>experience with doctor at clinic</td>\n",
       "      <td>Dr. McConnell seemed like a warm person and sh...</td>\n",
       "    </tr>\n",
       "    <tr>\n",
       "      <th>...</th>\n",
       "      <td>...</td>\n",
       "      <td>...</td>\n",
       "      <td>...</td>\n",
       "      <td>...</td>\n",
       "      <td>...</td>\n",
       "      <td>...</td>\n",
       "      <td>...</td>\n",
       "    </tr>\n",
       "    <tr>\n",
       "      <th>14630</th>\n",
       "      <td>RMA of New Jersey</td>\n",
       "      <td>3.0</td>\n",
       "      <td>6</td>\n",
       "      <td>No</td>\n",
       "      <td>$200K - $499K</td>\n",
       "      <td>specific things that went wrong</td>\n",
       "      <td>[&lt;ul class=\"reviewer-clinic-fails__list\"&gt;&lt;li c...</td>\n",
       "    </tr>\n",
       "    <tr>\n",
       "      <th>14631</th>\n",
       "      <td>RMA of New Jersey</td>\n",
       "      <td>6.0</td>\n",
       "      <td>5</td>\n",
       "      <td>No</td>\n",
       "      <td>—</td>\n",
       "      <td>specific things that went wrong</td>\n",
       "      <td>[&lt;ul class=\"reviewer-clinic-fails__list\"&gt;&lt;li c...</td>\n",
       "    </tr>\n",
       "    <tr>\n",
       "      <th>14642</th>\n",
       "      <td>RMA of New Jersey</td>\n",
       "      <td>5.0</td>\n",
       "      <td>5</td>\n",
       "      <td>No</td>\n",
       "      <td>$200K - $499K</td>\n",
       "      <td>specific things that went wrong</td>\n",
       "      <td>[&lt;ul class=\"reviewer-clinic-fails__list\"&gt;&lt;li c...</td>\n",
       "    </tr>\n",
       "    <tr>\n",
       "      <th>14646</th>\n",
       "      <td>RMA of New Jersey</td>\n",
       "      <td>2.0</td>\n",
       "      <td>6</td>\n",
       "      <td>Yes</td>\n",
       "      <td>$50K - $99K</td>\n",
       "      <td>specific things that went wrong</td>\n",
       "      <td>[&lt;ul class=\"reviewer-clinic-fails__list\"&gt;&lt;li c...</td>\n",
       "    </tr>\n",
       "    <tr>\n",
       "      <th>14647</th>\n",
       "      <td>RMA of New Jersey</td>\n",
       "      <td>5.0</td>\n",
       "      <td>5</td>\n",
       "      <td>No</td>\n",
       "      <td>$100K - $199K</td>\n",
       "      <td>specific things that went wrong</td>\n",
       "      <td>[&lt;ul class=\"reviewer-clinic-fails__list\"&gt;&lt;li c...</td>\n",
       "    </tr>\n",
       "  </tbody>\n",
       "</table>\n",
       "<p>2241 rows × 7 columns</p>\n",
       "</div>"
      ],
      "text/plain": [
       "               clinic_name  clinic_score  doc_score success         income  \\\n",
       "10     Columbia University           7.0          4       ?  $100K - $199K   \n",
       "41     Columbia University           0.0          5      No  $200K - $499K   \n",
       "49     Columbia University           0.0          0      No  $200K - $499K   \n",
       "50     Columbia University           0.0          0      No  $200K - $499K   \n",
       "51     Columbia University           1.0          0      No  $200K - $499K   \n",
       "...                    ...           ...        ...     ...            ...   \n",
       "14630    RMA of New Jersey           3.0          6      No  $200K - $499K   \n",
       "14631    RMA of New Jersey           6.0          5      No              —   \n",
       "14642    RMA of New Jersey           5.0          5      No  $200K - $499K   \n",
       "14646    RMA of New Jersey           2.0          6     Yes    $50K - $99K   \n",
       "14647    RMA of New Jersey           5.0          5      No  $100K - $199K   \n",
       "\n",
       "                               Question  \\\n",
       "10     experience with doctor at clinic   \n",
       "41     experience with doctor at clinic   \n",
       "49     experience with doctor at clinic   \n",
       "50     experience with doctor at clinic   \n",
       "51     experience with doctor at clinic   \n",
       "...                                 ...   \n",
       "14630   specific things that went wrong   \n",
       "14631   specific things that went wrong   \n",
       "14642   specific things that went wrong   \n",
       "14646   specific things that went wrong   \n",
       "14647   specific things that went wrong   \n",
       "\n",
       "                                                  Answer  \n",
       "10     Again, I only saw her once and she responded t...  \n",
       "41     Dr. Grossman as an individual is compassionate...  \n",
       "49     Communication skills are poor. Next steps were...  \n",
       "50     I don't know if Dr. Rackow is really familiar ...  \n",
       "51     Dr. McConnell seemed like a warm person and sh...  \n",
       "...                                                  ...  \n",
       "14630  [<ul class=\"reviewer-clinic-fails__list\"><li c...  \n",
       "14631  [<ul class=\"reviewer-clinic-fails__list\"><li c...  \n",
       "14642  [<ul class=\"reviewer-clinic-fails__list\"><li c...  \n",
       "14646  [<ul class=\"reviewer-clinic-fails__list\"><li c...  \n",
       "14647  [<ul class=\"reviewer-clinic-fails__list\"><li c...  \n",
       "\n",
       "[2241 rows x 7 columns]"
      ]
     },
     "execution_count": 132,
     "metadata": {},
     "output_type": "execute_result"
    }
   ],
   "source": [
    "df_t[df_t.doc_score<7]"
   ]
  },
  {
   "cell_type": "code",
   "execution_count": null,
   "metadata": {},
   "outputs": [],
   "source": []
  },
  {
   "cell_type": "code",
   "execution_count": null,
   "metadata": {},
   "outputs": [],
   "source": [
    "# Clean answers\n",
    "# remove common words and stopwords\n",
    "\n",
    "# Remove words from data that are too common\n",
    "def remove_common_words(val):\n",
    "    list_of_common_words = ['time','questions','really','ask',\n",
    "                            'know','patients','think','said','day']\n",
    "    for i in range(len(list_of_common_words)):\n",
    "        val = val.replace(list_of_common_words[i],'')\n",
    "    return val\n",
    "\n",
    "df['text_string'] = df.text_string.apply(remove_common_words)\n",
    "\n",
    "df['text_string'] = df['text_string'].map(lambda x: re.sub('[,\\.!?]', '', x))\n",
    "# Convert the titles to lowercase\n",
    "df['text_string'] = df['text_string'].map(lambda x: x.lower())\n"
   ]
  },
  {
   "cell_type": "code",
   "execution_count": 6,
   "metadata": {},
   "outputs": [],
   "source": [
    "import nltk\n"
   ]
  },
  {
   "cell_type": "code",
   "execution_count": 15,
   "metadata": {},
   "outputs": [],
   "source": [
    "# Function to clean scraped data\n",
    "wpt = nltk.WordPunctTokenizer()\n",
    "stopword_list = nltk.corpus.stopwords.words('english')\n",
    "stopword_list.remove('no')\n",
    "stopword_list.remove('not')\n",
    "\n",
    "def normalize_document(doc):\n",
    "    # lower case and remove special characters\\whitespaces\n",
    "    #doc = re.sub(r'[^a-zA-Z\\s]', '', doc, re.I|re.A)\n",
    "    \n",
    "    doc = doc.lower()\n",
    "    doc = doc.strip()\n",
    "    # tokenize document\n",
    "    tokens = wpt.tokenize(doc)\n",
    "    # filter stopwords out of document\n",
    "    filtered_tokens = [token for token in tokens if token not in stopword_list]\n",
    "    # re-create document from filtered tokens\n",
    "    doc = ' '.join(filtered_tokens)\n",
    "    return doc"
   ]
  },
  {
   "cell_type": "code",
   "execution_count": null,
   "metadata": {},
   "outputs": [],
   "source": []
  },
  {
   "cell_type": "code",
   "execution_count": 145,
   "metadata": {},
   "outputs": [],
   "source": [
    "import spacy\n",
    "nlp = spacy.load('en_core_web_sm')"
   ]
  },
  {
   "cell_type": "code",
   "execution_count": 146,
   "metadata": {},
   "outputs": [],
   "source": [
    "intro_text = df_t.Answer[0]"
   ]
  },
  {
   "cell_type": "code",
   "execution_count": 147,
   "metadata": {},
   "outputs": [
    {
     "data": {
      "text/plain": [
       "\"Dr. Rudick is very professional and knowledgeable. She never pushed me to do something I was not ready to do, and let me set the pace of my treatments. When I decided to take a short break between cycles, she was very understanding. She is also very straight forward and matter-of fact with results and reasons for those results, and she doesn't sugar-coat, which I appreciated and which added to my trust of her. When I received bad news after a few cycles back to back, Dr. Rudick sent me a very nice email and I felt that we were  in this together, working toward a common goal. Although Dr. Rudick was not always available at every visit, all of the doctors and nurses at Columbia were pleasant to work with. Before and during each procedure, Dr. Rudick would explain each step in detail, which helped ease my anxiety. I felt very cared for by her and the team at Columbia.\""
      ]
     },
     "execution_count": 147,
     "metadata": {},
     "output_type": "execute_result"
    }
   ],
   "source": [
    "intro_text"
   ]
  },
  {
   "cell_type": "code",
   "execution_count": 282,
   "metadata": {},
   "outputs": [],
   "source": [
    "intro_doc = nlp(intro_text)"
   ]
  },
  {
   "cell_type": "code",
   "execution_count": 283,
   "metadata": {},
   "outputs": [
    {
     "data": {
      "text/plain": [
       "Dr. Rudick is very professional and knowledgeable. She never pushed me to do something I was not ready to do, and let me set the pace of my treatments. When I decided to take a short break between cycles, she was very understanding. She is also very straight forward and matter-of fact with results and reasons for those results, and she doesn't sugar-coat, which I appreciated and which added to my trust of her. When I received bad news after a few cycles back to back, Dr. Rudick sent me a very nice email and I felt that we were  in this together, working toward a common goal. Although Dr. Rudick was not always available at every visit, all of the doctors and nurses at Columbia were pleasant to work with. Before and during each procedure, Dr. Rudick would explain each step in detail, which helped ease my anxiety. I felt very cared for by her and the team at Columbia."
      ]
     },
     "execution_count": 283,
     "metadata": {},
     "output_type": "execute_result"
    }
   ],
   "source": [
    "intro_doc"
   ]
  },
  {
   "cell_type": "code",
   "execution_count": null,
   "metadata": {},
   "outputs": [],
   "source": []
  },
  {
   "cell_type": "code",
   "execution_count": 153,
   "metadata": {},
   "outputs": [],
   "source": [
    "# Step 1 convert text to spacy doc object\n",
    "def spacy_doc (text):\n",
    "    return nlp(text)\n",
    "# Step 2 either convert into sentences or remove stopwords\n",
    "\n",
    "# Step 3 Lemmatization "
   ]
  },
  {
   "cell_type": "code",
   "execution_count": 154,
   "metadata": {},
   "outputs": [],
   "source": [
    "sentences = list(intro_doc.sents)"
   ]
  },
  {
   "cell_type": "code",
   "execution_count": 155,
   "metadata": {},
   "outputs": [
    {
     "data": {
      "text/plain": [
       "[Dr. Rudick is very professional and knowledgeable.,\n",
       " She never pushed me to do something I was not ready to do, and let me set the pace of my treatments.,\n",
       " When I decided to take a short break between cycles, she was very understanding.,\n",
       " She is also very straight forward and matter-of fact with results and reasons for those results, and she doesn't sugar-coat, which I appreciated and which added to my trust of her.,\n",
       " When I received bad news after a few cycles back to back, Dr. Rudick sent me a very nice email and I felt that we were  in this together, working toward a common goal.,\n",
       " Although Dr. Rudick was not always available at every visit, all of the doctors and nurses at Columbia were pleasant to work with.,\n",
       " Before and during each procedure, Dr. Rudick would explain each step in detail, which helped ease my anxiety.,\n",
       " I felt very cared for by her and the team at Columbia.]"
      ]
     },
     "execution_count": 155,
     "metadata": {},
     "output_type": "execute_result"
    }
   ],
   "source": [
    "sentences"
   ]
  },
  {
   "cell_type": "code",
   "execution_count": null,
   "metadata": {
    "scrolled": true
   },
   "outputs": [],
   "source": []
  },
  {
   "cell_type": "code",
   "execution_count": 280,
   "metadata": {},
   "outputs": [],
   "source": [
    "def remove_punc(text):\n",
    "    punc_list = ['.',',',\"!\",'*','?','-']\n",
    "    text = ''.join(char for char in text if char not in punc_list)\n",
    "    return text"
   ]
  },
  {
   "cell_type": "code",
   "execution_count": null,
   "metadata": {},
   "outputs": [],
   "source": []
  },
  {
   "cell_type": "code",
   "execution_count": null,
   "metadata": {},
   "outputs": [],
   "source": []
  },
  {
   "cell_type": "code",
   "execution_count": null,
   "metadata": {},
   "outputs": [],
   "source": []
  },
  {
   "cell_type": "code",
   "execution_count": 162,
   "metadata": {
    "scrolled": true
   },
   "outputs": [
    {
     "name": "stderr",
     "output_type": "stream",
     "text": [
      "[nltk_data] Downloading package wordnet to\n",
      "[nltk_data]     /Users/jacobberger/nltk_data...\n",
      "[nltk_data]   Unzipping corpora/wordnet.zip.\n"
     ]
    }
   ],
   "source": [
    "#https://towardsdatascience.com/topic-modelling-in-python-with-nltk-and-gensim-4ef03213cd21\n",
    "import spacy\n",
    "spacy.load('en')\n",
    "from spacy.lang.en import English\n",
    "parser = English()\n",
    "\n",
    "def tokenize(text):\n",
    "    lda_tokens = []\n",
    "    tokens = parser(text)\n",
    "    for token in tokens:\n",
    "        if token.orth_.isspace():\n",
    "            continue\n",
    "        elif token.like_url:\n",
    "            lda_tokens.append('URL')\n",
    "        elif token.orth_.startswith('@'):\n",
    "            lda_tokens.append('SCREEN_NAME')\n",
    "        else:\n",
    "            lda_tokens.append(token.lower_)\n",
    "    return lda_tokens\n",
    "\n",
    "\n",
    "import nltk\n",
    "nltk.download('wordnet')\n",
    "from nltk.corpus import wordnet as wn\n",
    "\n",
    "def get_lemma(word):\n",
    "    lemma = wn.morphy(word)\n",
    "    if lemma is None:\n",
    "        return word\n",
    "    else:\n",
    "        return lemma\n",
    "    \n",
    "from nltk.stem.wordnet import WordNetLemmatizer\n",
    "\n",
    "def get_lemma2(word):\n",
    "    return WordNetLemmatizer().lemmatize(word)"
   ]
  },
  {
   "cell_type": "code",
   "execution_count": 170,
   "metadata": {
    "scrolled": true
   },
   "outputs": [],
   "source": [
    "nltk.download('stopwords')\n",
    "en_stop = set(nltk.corpus.stopwords.words('english'))"
   ]
  },
  {
   "cell_type": "code",
   "execution_count": 171,
   "metadata": {},
   "outputs": [],
   "source": [
    "#list of words to not remove\n",
    "remove_form_stop_words = ['no','not',\"aren't\",\"couldn't\",\"didn't\",\"doesn't\",\n",
    "                          \"wasn't\",\"wouldn't\",\"won't\"]\n",
    "for w in remove_form_stop_words:\n",
    "    en_stop.remove(w)"
   ]
  },
  {
   "cell_type": "code",
   "execution_count": 182,
   "metadata": {},
   "outputs": [],
   "source": [
    "#from pycontractions import Contractions\n",
    "import contractions"
   ]
  },
  {
   "cell_type": "code",
   "execution_count": 160,
   "metadata": {},
   "outputs": [],
   "source": [
    "test = tokenize(intro_text)"
   ]
  },
  {
   "cell_type": "code",
   "execution_count": null,
   "metadata": {},
   "outputs": [],
   "source": []
  },
  {
   "cell_type": "code",
   "execution_count": 13,
   "metadata": {},
   "outputs": [],
   "source": [
    "\n",
    "    "
   ]
  },
  {
   "cell_type": "code",
   "execution_count": null,
   "metadata": {},
   "outputs": [],
   "source": []
  },
  {
   "cell_type": "code",
   "execution_count": 284,
   "metadata": {},
   "outputs": [],
   "source": [
    "def prepare_text_for_lda(text):\n",
    "    \n",
    "    text = remove_punc(text)\n",
    "    \n",
    "    tokens = tokenize(text)\n",
    "    \n",
    "    # Contractions\n",
    "    #tokens = [contractions.fix(token) for token in tokens if \"'\" in token]\n",
    "    #tokens = [token for token in tokens if len(token) > 2]\n",
    "    # Remove Stop Words\n",
    "    tokens = [token for token in tokens if token not in en_stop]\n",
    "    #Lemmatization\n",
    "    tokens = [get_lemma(token) for token in tokens]\n",
    "    return tokens"
   ]
  },
  {
   "cell_type": "code",
   "execution_count": null,
   "metadata": {},
   "outputs": [],
   "source": []
  },
  {
   "cell_type": "code",
   "execution_count": 267,
   "metadata": {},
   "outputs": [],
   "source": [
    "df_answers = df_t.Answer.apply(prepare_text_for_lda)"
   ]
  },
  {
   "cell_type": "code",
   "execution_count": null,
   "metadata": {},
   "outputs": [],
   "source": []
  },
  {
   "cell_type": "code",
   "execution_count": 272,
   "metadata": {},
   "outputs": [],
   "source": [
    "from gensim import corpora\n",
    "dictionary = corpora.Dictionary(df_answers)"
   ]
  },
  {
   "cell_type": "code",
   "execution_count": 273,
   "metadata": {},
   "outputs": [],
   "source": [
    "corpus = [dictionary.doc2bow(text) for text in df_answers]"
   ]
  },
  {
   "cell_type": "code",
   "execution_count": 274,
   "metadata": {},
   "outputs": [],
   "source": [
    "import gensim\n",
    "NUM_TOPICS = 8\n",
    "ldamodel = gensim.models.ldamodel.LdaModel(corpus, num_topics = NUM_TOPICS, id2word=dictionary, passes=15)"
   ]
  },
  {
   "cell_type": "code",
   "execution_count": null,
   "metadata": {},
   "outputs": [],
   "source": []
  },
  {
   "cell_type": "code",
   "execution_count": 291,
   "metadata": {},
   "outputs": [],
   "source": [
    "from sklearn.pipeline import Pipeline"
   ]
  },
  {
   "cell_type": "code",
   "execution_count": null,
   "metadata": {},
   "outputs": [],
   "source": []
  },
  {
   "cell_type": "markdown",
   "metadata": {},
   "source": [
    "# Cleaning data"
   ]
  },
  {
   "cell_type": "code",
   "execution_count": null,
   "metadata": {},
   "outputs": [],
   "source": []
  },
  {
   "cell_type": "code",
   "execution_count": 196,
   "metadata": {},
   "outputs": [],
   "source": [
    "import numpy as np\n",
    "import pandas as pd\n",
    "\n",
    "import gensim\n",
    "import gensim.corpora as corpora\n",
    "from gensim.utils import simple_preprocess\n",
    "from gensim.models import CoherenceModel\n",
    "\n",
    "import spacy\n",
    "from spacy.lemmatizer import Lemmatizer\n",
    "from spacy.lang.en import English\n",
    "from spacy.lang.en.stop_words import STOP_WORDS\n",
    "#import en_core_web_lg"
   ]
  },
  {
   "cell_type": "code",
   "execution_count": null,
   "metadata": {},
   "outputs": [],
   "source": []
  },
  {
   "cell_type": "code",
   "execution_count": null,
   "metadata": {},
   "outputs": [],
   "source": [
    "# Remove stop words\n",
    "# Lemmatize\n",
    "# Remove punctuation"
   ]
  },
  {
   "cell_type": "code",
   "execution_count": 197,
   "metadata": {},
   "outputs": [],
   "source": [
    "# Remove Stopwords\n",
    "# Function to clean scraped data\n",
    "wpt = nltk.WordPunctTokenizer()\n",
    "stopword_list = nltk.corpus.stopwords.words('english')\n",
    "stopword_list.remove('no')\n",
    "stopword_list.remove('not')\n",
    "\n",
    "def normalize_document(doc):\n",
    "    # lower case and remove special characters\\whitespaces\n",
    "    #doc = re.sub(r'[^a-zA-Z\\s]', '', doc, re.I|re.A)\n",
    "    \n",
    "    doc = doc.lower()\n",
    "    doc = doc.strip()\n",
    "    # tokenize document\n",
    "    tokens = wpt.tokenize(doc)\n",
    "    # filter stopwords out of document\n",
    "    filtered_tokens = [token for token in tokens if token not in stopword_list]\n",
    "    # re-create document from filtered tokens\n",
    "    doc = ' '.join(filtered_tokens)\n",
    "    return doc\n",
    "\n",
    "def remove_punc(text):\n",
    "    punc_list = ['.',',',\"!\",'*','?','-']\n",
    "    text = ''.join(char for char in text if char not in punc_list)\n",
    "    return text"
   ]
  },
  {
   "cell_type": "code",
   "execution_count": 198,
   "metadata": {},
   "outputs": [],
   "source": [
    "data['answers'] = data.Answer.apply(normalize_document)\n",
    "data['answers'] = data.answers.apply(remove_punc)"
   ]
  },
  {
   "cell_type": "code",
   "execution_count": 199,
   "metadata": {},
   "outputs": [
    {
     "data": {
      "text/plain": [
       "0        dr  rudick professional knowledgeable  never p...\n",
       "1        dr  forman listened concerns good first time i...\n",
       "2        ' enough words describe amazing dr  eric forma...\n",
       "3        level contact patience patient goes beyond doc...\n",
       "4        physician  impressed dr  brady ' clinical know...\n",
       "                               ...                        \n",
       "14645                                    lost appointments\n",
       "14646    failed order appropriate test  failed send cha...\n",
       "14647                     provided conflicting information\n",
       "14648                     provided conflicting information\n",
       "14649                        failed order appropriate test\n",
       "Name: answers, Length: 14650, dtype: object"
      ]
     },
     "execution_count": 199,
     "metadata": {},
     "output_type": "execute_result"
    }
   ],
   "source": [
    "data.answers"
   ]
  },
  {
   "cell_type": "code",
   "execution_count": null,
   "metadata": {},
   "outputs": [],
   "source": []
  },
  {
   "cell_type": "code",
   "execution_count": 43,
   "metadata": {},
   "outputs": [],
   "source": [
    "import gensim\n",
    "import gensim.corpora as corpora\n",
    "from gensim.utils import simple_preprocess\n",
    "from gensim.models import CoherenceModel\n",
    "\n",
    "import spacy\n",
    "from spacy.lemmatizer import Lemmatizer\n",
    "from spacy.lang.en.stop_words import STOP_WORDS\n",
    "nlp= spacy.load(\"en\")\n",
    "def lemmatizer(doc):\n",
    "    # This takes in a doc of tokens from the NER and lemmatizes them. \n",
    "    # Pronouns (like \"I\" and \"you\" get lemmatized to '-PRON-', so I'm removing those.\n",
    "    doc = [token.lemma_ for token in doc if token.lemma_ != '-PRON-']\n",
    "    doc = u' '.join(doc)\n",
    "    return nlp.make_doc(doc)\n",
    "    \n",
    "def remove_stopwords(doc):\n",
    "    nlp= spacy.load(\"en\")\n",
    "    # This will remove stopwords and punctuation.\n",
    "    # Use token.text to return strings, which we'll need for Gensim.\n",
    "    doc = [token.text for token in doc if token.is_stop != True and token.is_punct != True]\n",
    "    return doc"
   ]
  },
  {
   "cell_type": "code",
   "execution_count": 47,
   "metadata": {},
   "outputs": [
    {
     "data": {
      "text/plain": [
       "Dr. Rudick be very professional and knowledgeable . never push to do something be not ready to do , and let set the pace of treatment . when decide to take a short break between cycle , be very understanding . be also very straight forward and matter - of fact with result and reason for those result , and do not sugar - coat , which appreciate and which add to trust of . when receive bad news after a few cycle back to back , Dr. Rudick send a very nice email and feel that be   in this together , work toward a common goal . although Dr. Rudick be not always available at every visit , all of the doctor and nurse at Columbia be pleasant to work with . before and during each procedure , Dr. Rudick would explain each step in detail , which help ease anxiety . feel very care for by and the team at Columbia ."
      ]
     },
     "execution_count": 47,
     "metadata": {},
     "output_type": "execute_result"
    }
   ],
   "source": [
    "lemmatizer(nlp(data.Answer[0]))"
   ]
  },
  {
   "cell_type": "code",
   "execution_count": 201,
   "metadata": {},
   "outputs": [],
   "source": [
    "def preprocessor(text):\n",
    "    if type(text) == str:\n",
    "        text = re.sub('<[^>]*>', '', text)\n",
    "        text = re.sub('[\\W]+', '', text.lower())\n",
    "    return text\n",
    "\n",
    "\n",
    "\n",
    "def spacy_clean_text(review):\n",
    "                 \n",
    "    nlp = English()\n",
    "    tokenizer = nlp.Defaults.create_tokenizer(nlp)\n",
    "    tokens = tokenizer(review)\n",
    "    \n",
    "    lemma_list = []\n",
    "    n=0\n",
    "    for token in tokens:\n",
    "        if token.is_stop is False:\n",
    "            token_preprocessed = preprocessor(token.lemma_)\n",
    "            if token_preprocessed != '':\n",
    "                lemma_list.append(token_preprocessed) \n",
    "                \n",
    "    return (lemma_list)"
   ]
  },
  {
   "cell_type": "code",
   "execution_count": null,
   "metadata": {},
   "outputs": [],
   "source": []
  },
  {
   "cell_type": "code",
   "execution_count": null,
   "metadata": {
    "scrolled": true
   },
   "outputs": [],
   "source": []
  },
  {
   "cell_type": "code",
   "execution_count": 202,
   "metadata": {},
   "outputs": [],
   "source": [
    "data['token_answers'] = data.Answer.apply(spacy_clean_text)"
   ]
  },
  {
   "cell_type": "code",
   "execution_count": 215,
   "metadata": {},
   "outputs": [],
   "source": [
    "data.to_csv('reviews_token.csv')"
   ]
  },
  {
   "cell_type": "code",
   "execution_count": 203,
   "metadata": {},
   "outputs": [],
   "source": [
    "def combine_token(text):\n",
    "    text = ' '.join(text)\n",
    "    return text"
   ]
  },
  {
   "cell_type": "code",
   "execution_count": 204,
   "metadata": {},
   "outputs": [],
   "source": [
    "data['clean_text'] = data.token_answers.apply(combine_token)"
   ]
  },
  {
   "cell_type": "code",
   "execution_count": 218,
   "metadata": {},
   "outputs": [
    {
     "data": {
      "text/plain": [
       "Unnamed: 0                                  2059\n",
       "clinic_name                  Columbia University\n",
       "clinic_score                                   0\n",
       "doc_score                                      0\n",
       "success                                       No\n",
       "income                                         —\n",
       "Question         advice give prospective patient\n",
       "Answer                             Go elsewhere.\n",
       "answers                            go elsewhere \n",
       "token_answers                                 []\n",
       "clean_text                                      \n",
       "Name: 2059, dtype: object"
      ]
     },
     "execution_count": 218,
     "metadata": {},
     "output_type": "execute_result"
    }
   ],
   "source": [
    "data.loc[2059]"
   ]
  },
  {
   "cell_type": "code",
   "execution_count": null,
   "metadata": {},
   "outputs": [],
   "source": []
  },
  {
   "cell_type": "code",
   "execution_count": 68,
   "metadata": {},
   "outputs": [],
   "source": [
    "from sklearn.model_selection import train_test_split"
   ]
  },
  {
   "cell_type": "code",
   "execution_count": 206,
   "metadata": {},
   "outputs": [],
   "source": [
    "msg_train, msg_test, label_train, label_test = train_test_split(data.clean_text, data.Question, test_size=0.3)"
   ]
  },
  {
   "cell_type": "code",
   "execution_count": null,
   "metadata": {},
   "outputs": [],
   "source": []
  },
  {
   "cell_type": "code",
   "execution_count": 70,
   "metadata": {},
   "outputs": [],
   "source": [
    "from sklearn.feature_extraction.text import CountVectorizer"
   ]
  },
  {
   "cell_type": "code",
   "execution_count": 116,
   "metadata": {},
   "outputs": [],
   "source": [
    "vec = CountVectorizer()"
   ]
  },
  {
   "cell_type": "code",
   "execution_count": 117,
   "metadata": {},
   "outputs": [],
   "source": [
    "data_bow = vec.fit_transform(data.clean_text)\n"
   ]
  },
  {
   "cell_type": "code",
   "execution_count": 118,
   "metadata": {},
   "outputs": [],
   "source": [
    "from sklearn.feature_extraction.text import TfidfTransformer"
   ]
  },
  {
   "cell_type": "code",
   "execution_count": 124,
   "metadata": {},
   "outputs": [],
   "source": [
    "tfidf_transformer = TfidfTransformer().fit_transform(data_bow)"
   ]
  },
  {
   "cell_type": "code",
   "execution_count": 207,
   "metadata": {},
   "outputs": [],
   "source": [
    "from sklearn.pipeline import Pipeline\n",
    "\n",
    "pipeline = Pipeline([\n",
    "    ('bow', CountVectorizer()),  # strings to token integer counts\n",
    "    ('tfidf', TfidfTransformer()),  # integer counts to weighted TF-IDF scores\n",
    "    ('classifier', MultinomialNB()),  # train on TF-IDF vectors w/ Naive Bayes classifier\n",
    "])"
   ]
  },
  {
   "cell_type": "code",
   "execution_count": 208,
   "metadata": {},
   "outputs": [
    {
     "data": {
      "text/plain": [
       "Pipeline(steps=[('bow', CountVectorizer()), ('tfidf', TfidfTransformer()),\n",
       "                ('classifier', MultinomialNB())])"
      ]
     },
     "execution_count": 208,
     "metadata": {},
     "output_type": "execute_result"
    }
   ],
   "source": [
    "pipeline.fit(msg_train,label_train)"
   ]
  },
  {
   "cell_type": "code",
   "execution_count": 209,
   "metadata": {},
   "outputs": [],
   "source": [
    "predictions = pipeline.predict(msg_test)"
   ]
  },
  {
   "cell_type": "code",
   "execution_count": 210,
   "metadata": {},
   "outputs": [],
   "source": [
    "from sklearn.metrics import classification_report, confusion_matrix"
   ]
  },
  {
   "cell_type": "code",
   "execution_count": 211,
   "metadata": {},
   "outputs": [
    {
     "name": "stdout",
     "output_type": "stream",
     "text": [
      "[[ 132    0    0   46  367    0    1    0]\n",
      " [   0  434    0   25   21    0    4    0]\n",
      " [   1    2  123    2  107    0    9    0]\n",
      " [   0    1    0  820  187    0    1    0]\n",
      " [   0    0    0   60 1100    1    6    0]\n",
      " [   0    0    0  131  164   11    0    0]\n",
      " [   1    4    0    1   97    0  361    0]\n",
      " [   0    0    0    0    0    0    0  175]]\n",
      "\n",
      "\n",
      "                                   precision    recall  f1-score   support\n",
      "\n",
      "  advice give prospective patient       0.99      0.24      0.39       546\n",
      "                             cost       0.98      0.90      0.94       484\n",
      "eSET vs. multiple embryo transfer       1.00      0.50      0.67       244\n",
      "           experience with clinic       0.76      0.81      0.78      1009\n",
      "           experience with doctor       0.54      0.94      0.69      1167\n",
      "            experience with nurse       0.92      0.04      0.07       306\n",
      "            protocols and success       0.95      0.78      0.85       464\n",
      "       specific things went wrong       1.00      1.00      1.00       175\n",
      "\n",
      "                         accuracy                           0.72      4395\n",
      "                        macro avg       0.89      0.65      0.67      4395\n",
      "                     weighted avg       0.81      0.72      0.69      4395\n",
      "\n"
     ]
    }
   ],
   "source": [
    "print(confusion_matrix(label_test,predictions))\n",
    "print('\\n')\n",
    "print(classification_report(label_test,predictions))"
   ]
  },
  {
   "cell_type": "code",
   "execution_count": 213,
   "metadata": {},
   "outputs": [
    {
     "data": {
      "image/png": "[encoded data removed]",
      "text/plain": [
       "<Figure size 432x288 with 1 Axes>"
      ]
     },
     "metadata": {
      "needs_background": "light"
     },
     "output_type": "display_data"
    }
   ],
   "source": [
    "g = sns.countplot(label_test)\n"
   ]
  },
  {
   "cell_type": "code",
   "execution_count": null,
   "metadata": {},
   "outputs": [],
   "source": []
  },
  {
   "cell_type": "code",
   "execution_count": 121,
   "metadata": {},
   "outputs": [],
   "source": [
    "from sklearn.naive_bayes import MultinomialNB"
   ]
  },
  {
   "cell_type": "code",
   "execution_count": 126,
   "metadata": {},
   "outputs": [],
   "source": [
    "label_model = MultinomialNB().fit(tfidf_transformer, data.Question)"
   ]
  },
  {
   "cell_type": "markdown",
   "metadata": {},
   "source": [
    "# Prediction"
   ]
  },
  {
   "cell_type": "code",
   "execution_count": 127,
   "metadata": {},
   "outputs": [],
   "source": [
    "data_test_bow = vec.transform(msg_test)"
   ]
  },
  {
   "cell_type": "code",
   "execution_count": null,
   "metadata": {},
   "outputs": [],
   "source": [
    "data_test_tfidf = "
   ]
  }
 ],
 "metadata": {
  "kernelspec": {
   "display_name": "Python 3",
   "language": "python",
   "name": "python3"
  },
  "language_info": {
   "codemirror_mode": {
    "name": "ipython",
    "version": 3
   },
   "file_extension": ".py",
   "mimetype": "text/x-python",
   "name": "python",
   "nbconvert_exporter": "python",
   "pygments_lexer": "ipython3",
   "version": "3.7.6"
  }
 },
 "nbformat": 4,
 "nbformat_minor": 4
}
