{
 "cells": [
  {
   "cell_type": "markdown",
   "metadata": {},
   "source": [
    "# Vader Sentiment Analysis"
   ]
  },
  {
   "cell_type": "code",
   "execution_count": 5,
   "metadata": {},
   "outputs": [],
   "source": [
    "#pip install vaderSentiment"
   ]
  },
  {
   "cell_type": "code",
   "execution_count": 28,
   "metadata": {},
   "outputs": [],
   "source": [
    "import pandas as pd\n",
    "import matplotlib.pyplot as plt\n",
    "import seaborn as sns\n",
    "from vaderSentiment.vaderSentiment import SentimentIntensityAnalyzer"
   ]
  },
  {
   "cell_type": "code",
   "execution_count": 29,
   "metadata": {},
   "outputs": [],
   "source": [
    "%matplotlib inline"
   ]
  },
  {
   "cell_type": "code",
   "execution_count": null,
   "metadata": {},
   "outputs": [],
   "source": []
  },
  {
   "cell_type": "code",
   "execution_count": 16,
   "metadata": {},
   "outputs": [],
   "source": [
    "analyser = SentimentIntensityAnalyzer()"
   ]
  },
  {
   "cell_type": "code",
   "execution_count": 45,
   "metadata": {},
   "outputs": [],
   "source": [
    "#Function to test score for text.\n",
    "def sentiment_analyzer_scores(sentence):\n",
    "    score = analyser.polarity_scores(sentence)\n",
    "    return score\n",
    "    #print(\"{:-<40} {}\".format(sentence, str(score)))"
   ]
  },
  {
   "cell_type": "code",
   "execution_count": 93,
   "metadata": {},
   "outputs": [],
   "source": [
    "A = \"even call short notice get back quite quickly\""
   ]
  },
  {
   "cell_type": "code",
   "execution_count": 94,
   "metadata": {},
   "outputs": [],
   "source": [
    "b = sentiment_analyzer_scores(A)"
   ]
  },
  {
   "cell_type": "code",
   "execution_count": 95,
   "metadata": {},
   "outputs": [
    {
     "data": {
      "text/plain": [
       "{'neg': 0.0, 'neu': 1.0, 'pos': 0.0, 'compound': 0.0}"
      ]
     },
     "execution_count": 95,
     "metadata": {},
     "output_type": "execute_result"
    }
   ],
   "source": [
    "b"
   ]
  },
  {
   "cell_type": "code",
   "execution_count": 107,
   "metadata": {},
   "outputs": [],
   "source": [
    "# Import Cleaned reviews\n",
    "yelp = pd.read_csv('../Model/yelp_wv_model.csv')\n",
    "\n",
    "fiq = pd.read_csv('fiq_clean_text.csv') "
   ]
  },
  {
   "cell_type": "code",
   "execution_count": 96,
   "metadata": {},
   "outputs": [],
   "source": [
    "def get_sentiment(df,col):\n",
    "    scores =[]\n",
    "    c_scores=[]\n",
    "    cat = []\n",
    "    for rev in df[col]:\n",
    "        score = sentiment_analyzer_scores(rev)\n",
    "        \n",
    "        scores.append(score)\n",
    "        \n",
    "        c_scores.append(score['compound'])\n",
    "        if score['compound'] >= 0.05:\n",
    "            cat.append('POSITIVE')\n",
    "        elif score['compound'] <= -0.05:\n",
    "            cat.append('NEGATIVE')\n",
    "        else:\n",
    "            cat.append('NEUTRAL')\n",
    "        \n",
    "        \n",
    "    df['Score']=scores\n",
    "    df['Compound_Score'] = c_scores\n",
    "    df['Sentiment'] = cat\n",
    "    return df\n",
    "        "
   ]
  },
  {
   "cell_type": "code",
   "execution_count": 97,
   "metadata": {},
   "outputs": [],
   "source": [
    "for i,rev in enumerate(yelp.clean_answers):\n",
    "    if type(rev)!= str:\n",
    "        print(i,type(rev))"
   ]
  },
  {
   "cell_type": "code",
   "execution_count": 108,
   "metadata": {},
   "outputs": [],
   "source": [
    "yelp = get_sentiment(yelp, 'clean_answers')"
   ]
  },
  {
   "cell_type": "code",
   "execution_count": 114,
   "metadata": {},
   "outputs": [],
   "source": [
    "fiq = get_sentiment(fiq, 'Answer')"
   ]
  },
  {
   "cell_type": "code",
   "execution_count": 110,
   "metadata": {},
   "outputs": [
    {
     "data": {
      "text/plain": [
       "<matplotlib.axes._subplots.AxesSubplot at 0x1a242cf7d0>"
      ]
     },
     "execution_count": 110,
     "metadata": {},
     "output_type": "execute_result"
    },
    {
     "data": {
      "image/png": "[encoded data removed]",
      "text/plain": [
       "<Figure size 432x288 with 1 Axes>"
      ]
     },
     "metadata": {
      "needs_background": "light"
     },
     "output_type": "display_data"
    }
   ],
   "source": [
    "yelp.Ratings.hist()\n",
    "#yelp.Compound_Score.hist(bins=8)"
   ]
  },
  {
   "cell_type": "code",
   "execution_count": 111,
   "metadata": {},
   "outputs": [
    {
     "data": {
      "text/plain": [
       "<matplotlib.axes._subplots.AxesSubplot at 0x1a23f114d0>"
      ]
     },
     "execution_count": 111,
     "metadata": {},
     "output_type": "execute_result"
    },
    {
     "data": {
      "image/png": "[encoded data removed]",
      "text/plain": [
       "<Figure size 432x288 with 1 Axes>"
      ]
     },
     "metadata": {
      "needs_background": "light"
     },
     "output_type": "display_data"
    }
   ],
   "source": [
    "sns.countplot(yelp.Sentiment)"
   ]
  },
  {
   "cell_type": "code",
   "execution_count": 105,
   "metadata": {},
   "outputs": [
    {
     "data": {
      "text/plain": [
       "<matplotlib.axes._subplots.AxesSubplot at 0x1a227140d0>"
      ]
     },
     "execution_count": 105,
     "metadata": {},
     "output_type": "execute_result"
    },
    {
     "data": {
      "image/png": "[encoded data removed]",
      "text/plain": [
       "<Figure size 432x288 with 1 Axes>"
      ]
     },
     "metadata": {
      "needs_background": "light"
     },
     "output_type": "display_data"
    }
   ],
   "source": [
    "sns.countplot(fiq.Sentiment)"
   ]
  },
  {
   "cell_type": "code",
   "execution_count": 117,
   "metadata": {},
   "outputs": [],
   "source": [
    "yelp.to_csv('yelp_vader.csv')\n",
    "fiq.to_csv('fiq_vader.csv')"
   ]
  },
  {
   "cell_type": "code",
   "execution_count": 120,
   "metadata": {},
   "outputs": [
    {
     "data": {
      "text/html": [
       "<div>\n",
       "<style scoped>\n",
       "    .dataframe tbody tr th:only-of-type {\n",
       "        vertical-align: middle;\n",
       "    }\n",
       "\n",
       "    .dataframe tbody tr th {\n",
       "        vertical-align: top;\n",
       "    }\n",
       "\n",
       "    .dataframe thead th {\n",
       "        text-align: right;\n",
       "    }\n",
       "</style>\n",
       "<table border=\"1\" class=\"dataframe\">\n",
       "  <thead>\n",
       "    <tr style=\"text-align: right;\">\n",
       "      <th></th>\n",
       "      <th>Unnamed: 0</th>\n",
       "      <th>clinic_name</th>\n",
       "      <th>avg_clinic_score</th>\n",
       "      <th>avg_doc_score</th>\n",
       "      <th>success</th>\n",
       "      <th>income</th>\n",
       "      <th>Question</th>\n",
       "      <th>Answer</th>\n",
       "      <th>Clean_Text</th>\n",
       "      <th>Score</th>\n",
       "      <th>Compound_Score</th>\n",
       "      <th>Sentiment</th>\n",
       "    </tr>\n",
       "  </thead>\n",
       "  <tbody>\n",
       "    <tr>\n",
       "      <th>0</th>\n",
       "      <td>0</td>\n",
       "      <td>Columbia University</td>\n",
       "      <td>8.3</td>\n",
       "      <td>8.4</td>\n",
       "      <td>Yes</td>\n",
       "      <td>$100K - $199K</td>\n",
       "      <td>Doctor</td>\n",
       "      <td>Dr. Rudick is very professional and knowledgea...</td>\n",
       "      <td>dr rudick professional knowledgeable never pus...</td>\n",
       "      <td>{'neg': 0.041, 'neu': 0.843, 'pos': 0.116, 'co...</td>\n",
       "      <td>0.9256</td>\n",
       "      <td>POSITIVE</td>\n",
       "    </tr>\n",
       "    <tr>\n",
       "      <th>1</th>\n",
       "      <td>1</td>\n",
       "      <td>Columbia University</td>\n",
       "      <td>8.3</td>\n",
       "      <td>8.4</td>\n",
       "      <td>?</td>\n",
       "      <td>$200K - $499K</td>\n",
       "      <td>Doctor</td>\n",
       "      <td>Dr. Forman listened to my concerns and is very...</td>\n",
       "      <td>dr forman listen concern good first time ivf p...</td>\n",
       "      <td>{'neg': 0.058, 'neu': 0.872, 'pos': 0.07, 'com...</td>\n",
       "      <td>-0.1036</td>\n",
       "      <td>NEGATIVE</td>\n",
       "    </tr>\n",
       "    <tr>\n",
       "      <th>2</th>\n",
       "      <td>2</td>\n",
       "      <td>Columbia University</td>\n",
       "      <td>8.3</td>\n",
       "      <td>8.4</td>\n",
       "      <td>Yes</td>\n",
       "      <td>$0 - $49K</td>\n",
       "      <td>Doctor</td>\n",
       "      <td>There aren't enough words to describe how amaz...</td>\n",
       "      <td>not not enough words describe amaze dr eric fo...</td>\n",
       "      <td>{'neg': 0.0, 'neu': 0.75, 'pos': 0.25, 'compou...</td>\n",
       "      <td>0.9882</td>\n",
       "      <td>POSITIVE</td>\n",
       "    </tr>\n",
       "    <tr>\n",
       "      <th>3</th>\n",
       "      <td>3</td>\n",
       "      <td>Columbia University</td>\n",
       "      <td>8.3</td>\n",
       "      <td>8.4</td>\n",
       "      <td>Yes</td>\n",
       "      <td>$100K - $199K</td>\n",
       "      <td>Doctor</td>\n",
       "      <td>The level of contact and patience he had for m...</td>\n",
       "      <td>level contact patience patient go beyond docto...</td>\n",
       "      <td>{'neg': 0.0, 'neu': 0.858, 'pos': 0.142, 'comp...</td>\n",
       "      <td>0.7880</td>\n",
       "      <td>POSITIVE</td>\n",
       "    </tr>\n",
       "    <tr>\n",
       "      <th>4</th>\n",
       "      <td>4</td>\n",
       "      <td>Columbia University</td>\n",
       "      <td>8.3</td>\n",
       "      <td>8.4</td>\n",
       "      <td>Yes</td>\n",
       "      <td>$100K - $199K</td>\n",
       "      <td>Doctor</td>\n",
       "      <td>As a physician myself, I was impressed with bo...</td>\n",
       "      <td>physician impress dr brady ' clinical knowledg...</td>\n",
       "      <td>{'neg': 0.044, 'neu': 0.842, 'pos': 0.114, 'co...</td>\n",
       "      <td>0.7581</td>\n",
       "      <td>POSITIVE</td>\n",
       "    </tr>\n",
       "    <tr>\n",
       "      <th>...</th>\n",
       "      <td>...</td>\n",
       "      <td>...</td>\n",
       "      <td>...</td>\n",
       "      <td>...</td>\n",
       "      <td>...</td>\n",
       "      <td>...</td>\n",
       "      <td>...</td>\n",
       "      <td>...</td>\n",
       "      <td>...</td>\n",
       "      <td>...</td>\n",
       "      <td>...</td>\n",
       "      <td>...</td>\n",
       "    </tr>\n",
       "    <tr>\n",
       "      <th>14825</th>\n",
       "      <td>14825</td>\n",
       "      <td>RMA of New Jersey</td>\n",
       "      <td>9.1</td>\n",
       "      <td>9.1</td>\n",
       "      <td>Yes</td>\n",
       "      <td>$50K - $99K</td>\n",
       "      <td>Problems</td>\n",
       "      <td>Lost appointments</td>\n",
       "      <td>lost appointment</td>\n",
       "      <td>{'neg': 0.697, 'neu': 0.303, 'pos': 0.0, 'comp...</td>\n",
       "      <td>-0.3182</td>\n",
       "      <td>NEGATIVE</td>\n",
       "    </tr>\n",
       "    <tr>\n",
       "      <th>14826</th>\n",
       "      <td>14826</td>\n",
       "      <td>RMA of New Jersey</td>\n",
       "      <td>9.1</td>\n",
       "      <td>9.1</td>\n",
       "      <td>Yes</td>\n",
       "      <td>$50K - $99K</td>\n",
       "      <td>Problems</td>\n",
       "      <td>Failed to order appropriate test, Failed to se...</td>\n",
       "      <td>fail order appropriate test fail send chart an...</td>\n",
       "      <td>{'neg': 0.375, 'neu': 0.625, 'pos': 0.0, 'comp...</td>\n",
       "      <td>-0.7650</td>\n",
       "      <td>NEGATIVE</td>\n",
       "    </tr>\n",
       "    <tr>\n",
       "      <th>14827</th>\n",
       "      <td>14827</td>\n",
       "      <td>RMA of New Jersey</td>\n",
       "      <td>9.1</td>\n",
       "      <td>9.1</td>\n",
       "      <td>No</td>\n",
       "      <td>$100K - $199K</td>\n",
       "      <td>Problems</td>\n",
       "      <td>Provided conflicting information</td>\n",
       "      <td>provide conflict information</td>\n",
       "      <td>{'neg': 0.574, 'neu': 0.426, 'pos': 0.0, 'comp...</td>\n",
       "      <td>-0.4019</td>\n",
       "      <td>NEGATIVE</td>\n",
       "    </tr>\n",
       "    <tr>\n",
       "      <th>14828</th>\n",
       "      <td>14828</td>\n",
       "      <td>RMA of Philadelphia</td>\n",
       "      <td>8.5</td>\n",
       "      <td>8.5</td>\n",
       "      <td>No</td>\n",
       "      <td>$100K - $199K</td>\n",
       "      <td>Problems</td>\n",
       "      <td>Provided conflicting information</td>\n",
       "      <td>provide conflict information</td>\n",
       "      <td>{'neg': 0.574, 'neu': 0.426, 'pos': 0.0, 'comp...</td>\n",
       "      <td>-0.4019</td>\n",
       "      <td>NEGATIVE</td>\n",
       "    </tr>\n",
       "    <tr>\n",
       "      <th>14829</th>\n",
       "      <td>14829</td>\n",
       "      <td>Main Line Fertility</td>\n",
       "      <td>9.0</td>\n",
       "      <td>7.7</td>\n",
       "      <td>Yes</td>\n",
       "      <td>$100K - $199K</td>\n",
       "      <td>Problems</td>\n",
       "      <td>Failed to order appropriate test</td>\n",
       "      <td>fail order appropriate test</td>\n",
       "      <td>{'neg': 0.452, 'neu': 0.548, 'pos': 0.0, 'comp...</td>\n",
       "      <td>-0.5106</td>\n",
       "      <td>NEGATIVE</td>\n",
       "    </tr>\n",
       "  </tbody>\n",
       "</table>\n",
       "<p>14830 rows × 12 columns</p>\n",
       "</div>"
      ],
      "text/plain": [
       "       Unnamed: 0            clinic_name  avg_clinic_score  avg_doc_score  \\\n",
       "0               0    Columbia University               8.3            8.4   \n",
       "1               1    Columbia University               8.3            8.4   \n",
       "2               2    Columbia University               8.3            8.4   \n",
       "3               3    Columbia University               8.3            8.4   \n",
       "4               4    Columbia University               8.3            8.4   \n",
       "...           ...                    ...               ...            ...   \n",
       "14825       14825      RMA of New Jersey               9.1            9.1   \n",
       "14826       14826      RMA of New Jersey               9.1            9.1   \n",
       "14827       14827      RMA of New Jersey               9.1            9.1   \n",
       "14828       14828    RMA of Philadelphia               8.5            8.5   \n",
       "14829       14829  Main Line Fertility                 9.0            7.7   \n",
       "\n",
       "      success         income  Question  \\\n",
       "0         Yes  $100K - $199K    Doctor   \n",
       "1           ?  $200K - $499K    Doctor   \n",
       "2         Yes      $0 - $49K    Doctor   \n",
       "3         Yes  $100K - $199K    Doctor   \n",
       "4         Yes  $100K - $199K    Doctor   \n",
       "...       ...            ...       ...   \n",
       "14825     Yes    $50K - $99K  Problems   \n",
       "14826     Yes    $50K - $99K  Problems   \n",
       "14827      No  $100K - $199K  Problems   \n",
       "14828      No  $100K - $199K  Problems   \n",
       "14829     Yes  $100K - $199K  Problems   \n",
       "\n",
       "                                                  Answer  \\\n",
       "0      Dr. Rudick is very professional and knowledgea...   \n",
       "1      Dr. Forman listened to my concerns and is very...   \n",
       "2      There aren't enough words to describe how amaz...   \n",
       "3      The level of contact and patience he had for m...   \n",
       "4      As a physician myself, I was impressed with bo...   \n",
       "...                                                  ...   \n",
       "14825                                  Lost appointments   \n",
       "14826  Failed to order appropriate test, Failed to se...   \n",
       "14827                   Provided conflicting information   \n",
       "14828                   Provided conflicting information   \n",
       "14829                   Failed to order appropriate test   \n",
       "\n",
       "                                              Clean_Text  \\\n",
       "0      dr rudick professional knowledgeable never pus...   \n",
       "1      dr forman listen concern good first time ivf p...   \n",
       "2      not not enough words describe amaze dr eric fo...   \n",
       "3      level contact patience patient go beyond docto...   \n",
       "4      physician impress dr brady ' clinical knowledg...   \n",
       "...                                                  ...   \n",
       "14825                                   lost appointment   \n",
       "14826  fail order appropriate test fail send chart an...   \n",
       "14827                       provide conflict information   \n",
       "14828                       provide conflict information   \n",
       "14829                        fail order appropriate test   \n",
       "\n",
       "                                                   Score  Compound_Score  \\\n",
       "0      {'neg': 0.041, 'neu': 0.843, 'pos': 0.116, 'co...          0.9256   \n",
       "1      {'neg': 0.058, 'neu': 0.872, 'pos': 0.07, 'com...         -0.1036   \n",
       "2      {'neg': 0.0, 'neu': 0.75, 'pos': 0.25, 'compou...          0.9882   \n",
       "3      {'neg': 0.0, 'neu': 0.858, 'pos': 0.142, 'comp...          0.7880   \n",
       "4      {'neg': 0.044, 'neu': 0.842, 'pos': 0.114, 'co...          0.7581   \n",
       "...                                                  ...             ...   \n",
       "14825  {'neg': 0.697, 'neu': 0.303, 'pos': 0.0, 'comp...         -0.3182   \n",
       "14826  {'neg': 0.375, 'neu': 0.625, 'pos': 0.0, 'comp...         -0.7650   \n",
       "14827  {'neg': 0.574, 'neu': 0.426, 'pos': 0.0, 'comp...         -0.4019   \n",
       "14828  {'neg': 0.574, 'neu': 0.426, 'pos': 0.0, 'comp...         -0.4019   \n",
       "14829  {'neg': 0.452, 'neu': 0.548, 'pos': 0.0, 'comp...         -0.5106   \n",
       "\n",
       "      Sentiment  \n",
       "0      POSITIVE  \n",
       "1      NEGATIVE  \n",
       "2      POSITIVE  \n",
       "3      POSITIVE  \n",
       "4      POSITIVE  \n",
       "...         ...  \n",
       "14825  NEGATIVE  \n",
       "14826  NEGATIVE  \n",
       "14827  NEGATIVE  \n",
       "14828  NEGATIVE  \n",
       "14829  NEGATIVE  \n",
       "\n",
       "[14830 rows x 12 columns]"
      ]
     },
     "execution_count": 120,
     "metadata": {},
     "output_type": "execute_result"
    }
   ],
   "source": [
    "fiq"
   ]
  },
  {
   "cell_type": "code",
   "execution_count": null,
   "metadata": {},
   "outputs": [],
   "source": []
  }
 ],
 "metadata": {
  "kernelspec": {
   "display_name": "Python 3",
   "language": "python",
   "name": "python3"
  },
  "language_info": {
   "codemirror_mode": {
    "name": "ipython",
    "version": 3
   },
   "file_extension": ".py",
   "mimetype": "text/x-python",
   "name": "python",
   "nbconvert_exporter": "python",
   "pygments_lexer": "ipython3",
   "version": "3.7.6"
  }
 },
 "nbformat": 4,
 "nbformat_minor": 4
}
