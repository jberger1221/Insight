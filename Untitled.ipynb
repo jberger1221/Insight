{
 "cells": [
  {
   "cell_type": "code",
   "execution_count": 1,
   "metadata": {},
   "outputs": [],
   "source": [
    "# Use Random forest regression to evaluate important data features"
   ]
  },
  {
   "cell_type": "code",
   "execution_count": 32,
   "metadata": {},
   "outputs": [],
   "source": [
    "import pandas as pd\n",
    "import matplotlib.pyplot as plt\n",
    "import seaborn as sns\n",
    "import numpy as np\n",
    "from numpy import nan"
   ]
  },
  {
   "cell_type": "code",
   "execution_count": 3,
   "metadata": {},
   "outputs": [
    {
     "data": {
      "text/plain": [
       "(464, 215)"
      ]
     },
     "execution_count": 3,
     "metadata": {},
     "output_type": "execute_result"
    }
   ],
   "source": [
    "df_2015 = pd.read_excel(\"IVF Datasets/FINAL-2015-clinic-table-dataset.xls\",sheet_name=\"Clinic Table Data Records\")\n",
    "df_2015['Year']='2015'\n",
    "#convert_col_to_num(df_2015)\n",
    "df_2015.shape"
   ]
  },
  {
   "cell_type": "code",
   "execution_count": 29,
   "metadata": {},
   "outputs": [],
   "source": [
    "#Function to remove \n",
    "def convert_to_num(val):\n",
    "    if type(val) == int or type(val)==float:\n",
    "        return val\n",
    "    \n",
    "    elif '*' in val:\n",
    "        return 0\n",
    "    \n",
    "    elif '/' in val:\n",
    "        t = val.split('/')\n",
    "        t = [int(i) for i in t]\n",
    "        if t[0] == 0:\n",
    "            return 0\n",
    "        elif t[1]<10:\n",
    "            return nan\n",
    "        else:\n",
    "            return 100*t[0]/t[1]\n",
    "        \n",
    "    elif '<' in val:\n",
    "        val= ''.join(char for char in val if char != '<')\n",
    "        val= ''.join(char for char in val if char != '%')\n",
    "        return float(val)\n",
    "    \n",
    "    elif '>' in val:\n",
    "        val= ''.join(char for char in val if char != '>')\n",
    "        val= ''.join(char for char in val if char != '%')\n",
    "        return float(val)\n",
    "    \n",
    "    elif '%' in val:\n",
    "        val= ''.join(char for char in val if char != '%')\n",
    "        return float(val)   \n",
    "    \n",
    "    elif ',' in val:\n",
    "        val= ''.join(char for char in val if char != ',')\n",
    "        return float(val)\n",
    "    \n",
    "    else:\n",
    "        return float(val)"
   ]
  },
  {
   "cell_type": "code",
   "execution_count": 5,
   "metadata": {},
   "outputs": [],
   "source": [
    "def convert_col_to_num (dataf):\n",
    "    for i in range (3,(len(dataf.columns))):\n",
    "        dataf[dataf.columns[i]] = dataf[dataf.columns[i]].apply(convert_to_num)\n",
    "    return dataf"
   ]
  },
  {
   "cell_type": "code",
   "execution_count": 6,
   "metadata": {},
   "outputs": [
    {
     "data": {
      "text/html": [
       "<div>\n",
       "<style scoped>\n",
       "    .dataframe tbody tr th:only-of-type {\n",
       "        vertical-align: middle;\n",
       "    }\n",
       "\n",
       "    .dataframe tbody tr th {\n",
       "        vertical-align: top;\n",
       "    }\n",
       "\n",
       "    .dataframe thead th {\n",
       "        text-align: right;\n",
       "    }\n",
       "</style>\n",
       "<table border=\"1\" class=\"dataframe\">\n",
       "  <thead>\n",
       "    <tr style=\"text-align: right;\">\n",
       "      <th></th>\n",
       "      <th>Order ID</th>\n",
       "      <th>PrevClinName1</th>\n",
       "      <th>PrevClinName2</th>\n",
       "      <th>ClinCityCode</th>\n",
       "      <th>ClinStateCode</th>\n",
       "      <th>IVF_Rate</th>\n",
       "      <th>ICSI_Rate</th>\n",
       "      <th>Unstimulated_Rate</th>\n",
       "      <th>Gest_Rate</th>\n",
       "      <th>PGD_Rate</th>\n",
       "      <th>...</th>\n",
       "      <th>DonorEgg</th>\n",
       "      <th>DonorEmbryo</th>\n",
       "      <th>SingleWomen</th>\n",
       "      <th>Surrogates</th>\n",
       "      <th>Cryopreservation</th>\n",
       "      <th>SART_Member</th>\n",
       "      <th>Accreditation</th>\n",
       "      <th>TotExcludedResearchCycles</th>\n",
       "      <th>state_code</th>\n",
       "      <th>Year</th>\n",
       "    </tr>\n",
       "  </thead>\n",
       "  <tbody>\n",
       "    <tr>\n",
       "      <th>0</th>\n",
       "      <td>1</td>\n",
       "      <td>ALABAMA FERTILITY SPECIALISTS</td>\n",
       "      <td>NaN</td>\n",
       "      <td>BIRMINGHAM</td>\n",
       "      <td>ALABAMA</td>\n",
       "      <td>100%</td>\n",
       "      <td>43%</td>\n",
       "      <td>0%</td>\n",
       "      <td>0%</td>\n",
       "      <td>0%</td>\n",
       "      <td>...</td>\n",
       "      <td>Yes</td>\n",
       "      <td>Yes</td>\n",
       "      <td>Yes</td>\n",
       "      <td>No</td>\n",
       "      <td>Yes</td>\n",
       "      <td>Yes</td>\n",
       "      <td>Yes</td>\n",
       "      <td>0</td>\n",
       "      <td>AL</td>\n",
       "      <td>2015</td>\n",
       "    </tr>\n",
       "    <tr>\n",
       "      <th>1</th>\n",
       "      <td>2</td>\n",
       "      <td>ART FERTILITY PROGRAM OF ALABAMA</td>\n",
       "      <td>NaN</td>\n",
       "      <td>BIRMINGHAM</td>\n",
       "      <td>ALABAMA</td>\n",
       "      <td>100%</td>\n",
       "      <td>74%</td>\n",
       "      <td>0%</td>\n",
       "      <td>0%</td>\n",
       "      <td>0%</td>\n",
       "      <td>...</td>\n",
       "      <td>Yes</td>\n",
       "      <td>Yes</td>\n",
       "      <td>Yes</td>\n",
       "      <td>Yes</td>\n",
       "      <td>Yes</td>\n",
       "      <td>Yes</td>\n",
       "      <td>Yes</td>\n",
       "      <td>0</td>\n",
       "      <td>AL</td>\n",
       "      <td>2015</td>\n",
       "    </tr>\n",
       "    <tr>\n",
       "      <th>2</th>\n",
       "      <td>3</td>\n",
       "      <td>UNIVERSITY OF ALABAMA AT BIRMINGHAM</td>\n",
       "      <td>REPRODUCTIVE ENDOCRINOLOGY AND INFERTILITY</td>\n",
       "      <td>BIRMINGHAM</td>\n",
       "      <td>ALABAMA</td>\n",
       "      <td>100%</td>\n",
       "      <td>60%</td>\n",
       "      <td>0%</td>\n",
       "      <td>0%</td>\n",
       "      <td>0%</td>\n",
       "      <td>...</td>\n",
       "      <td>Yes</td>\n",
       "      <td>No</td>\n",
       "      <td>Yes</td>\n",
       "      <td>Yes</td>\n",
       "      <td>Yes</td>\n",
       "      <td>Yes</td>\n",
       "      <td>Yes</td>\n",
       "      <td>0</td>\n",
       "      <td>AL</td>\n",
       "      <td>2015</td>\n",
       "    </tr>\n",
       "    <tr>\n",
       "      <th>3</th>\n",
       "      <td>4</td>\n",
       "      <td>HUNTSVILLE REPRODUCTIVE MEDICINE, PC</td>\n",
       "      <td>NaN</td>\n",
       "      <td>MADISON</td>\n",
       "      <td>ALABAMA</td>\n",
       "      <td>100%</td>\n",
       "      <td>96%</td>\n",
       "      <td>0%</td>\n",
       "      <td>0%</td>\n",
       "      <td>0%</td>\n",
       "      <td>...</td>\n",
       "      <td>Yes</td>\n",
       "      <td>Yes</td>\n",
       "      <td>Yes</td>\n",
       "      <td>Yes</td>\n",
       "      <td>Yes</td>\n",
       "      <td>No</td>\n",
       "      <td>No</td>\n",
       "      <td>0</td>\n",
       "      <td>AL</td>\n",
       "      <td>2015</td>\n",
       "    </tr>\n",
       "    <tr>\n",
       "      <th>4</th>\n",
       "      <td>5</td>\n",
       "      <td>CENTER FOR REPRODUCTIVE MEDICINE</td>\n",
       "      <td>NaN</td>\n",
       "      <td>MOBILE</td>\n",
       "      <td>ALABAMA</td>\n",
       "      <td>100%</td>\n",
       "      <td>78%</td>\n",
       "      <td>0%</td>\n",
       "      <td>2%</td>\n",
       "      <td>1%</td>\n",
       "      <td>...</td>\n",
       "      <td>Yes</td>\n",
       "      <td>Yes</td>\n",
       "      <td>Yes</td>\n",
       "      <td>Yes</td>\n",
       "      <td>Yes</td>\n",
       "      <td>Yes</td>\n",
       "      <td>Yes</td>\n",
       "      <td>0</td>\n",
       "      <td>AL</td>\n",
       "      <td>2015</td>\n",
       "    </tr>\n",
       "  </tbody>\n",
       "</table>\n",
       "<p>5 rows × 215 columns</p>\n",
       "</div>"
      ],
      "text/plain": [
       "   Order ID                         PrevClinName1  \\\n",
       "0         1         ALABAMA FERTILITY SPECIALISTS   \n",
       "1         2      ART FERTILITY PROGRAM OF ALABAMA   \n",
       "2         3   UNIVERSITY OF ALABAMA AT BIRMINGHAM   \n",
       "3         4  HUNTSVILLE REPRODUCTIVE MEDICINE, PC   \n",
       "4         5      CENTER FOR REPRODUCTIVE MEDICINE   \n",
       "\n",
       "                                PrevClinName2 ClinCityCode ClinStateCode  \\\n",
       "0                                         NaN   BIRMINGHAM       ALABAMA   \n",
       "1                                         NaN   BIRMINGHAM       ALABAMA   \n",
       "2  REPRODUCTIVE ENDOCRINOLOGY AND INFERTILITY   BIRMINGHAM       ALABAMA   \n",
       "3                                         NaN      MADISON       ALABAMA   \n",
       "4                                         NaN       MOBILE       ALABAMA   \n",
       "\n",
       "  IVF_Rate ICSI_Rate Unstimulated_Rate Gest_Rate PGD_Rate  ... DonorEgg  \\\n",
       "0     100%       43%                0%        0%       0%  ...      Yes   \n",
       "1     100%       74%                0%        0%       0%  ...      Yes   \n",
       "2     100%       60%                0%        0%       0%  ...      Yes   \n",
       "3     100%       96%                0%        0%       0%  ...      Yes   \n",
       "4     100%       78%                0%        2%       1%  ...      Yes   \n",
       "\n",
       "  DonorEmbryo SingleWomen Surrogates Cryopreservation SART_Member  \\\n",
       "0         Yes         Yes         No              Yes         Yes   \n",
       "1         Yes         Yes        Yes              Yes         Yes   \n",
       "2          No         Yes        Yes              Yes         Yes   \n",
       "3         Yes         Yes        Yes              Yes          No   \n",
       "4         Yes         Yes        Yes              Yes         Yes   \n",
       "\n",
       "  Accreditation TotExcludedResearchCycles state_code  Year  \n",
       "0           Yes                         0         AL  2015  \n",
       "1           Yes                         0         AL  2015  \n",
       "2           Yes                         0         AL  2015  \n",
       "3            No                         0         AL  2015  \n",
       "4           Yes                         0         AL  2015  \n",
       "\n",
       "[5 rows x 215 columns]"
      ]
     },
     "execution_count": 6,
     "metadata": {},
     "output_type": "execute_result"
    }
   ],
   "source": [
    "df_2015.head()"
   ]
  },
  {
   "cell_type": "code",
   "execution_count": 7,
   "metadata": {},
   "outputs": [
    {
     "data": {
      "text/plain": [
       "Index(['Order ID', 'PrevClinName1', 'PrevClinName2', 'ClinCityCode',\n",
       "       'ClinStateCode', 'IVF_Rate', 'ICSI_Rate', 'Unstimulated_Rate',\n",
       "       'Gest_Rate', 'PGD_Rate',\n",
       "       ...\n",
       "       'DonorEgg', 'DonorEmbryo', 'SingleWomen', 'Surrogates',\n",
       "       'Cryopreservation', 'SART_Member', 'Accreditation',\n",
       "       'TotExcludedResearchCycles', 'state_code', 'Year'],\n",
       "      dtype='object', length=215)"
      ]
     },
     "execution_count": 7,
     "metadata": {},
     "output_type": "execute_result"
    }
   ],
   "source": [
    "df_2015.columns"
   ]
  },
  {
   "cell_type": "code",
   "execution_count": 8,
   "metadata": {},
   "outputs": [],
   "source": [
    "df = df_2015.drop(['Order ID','PrevClinName2','ClinCityCode','ClinStateCode','state_code'],axis=1)"
   ]
  },
  {
   "cell_type": "code",
   "execution_count": 9,
   "metadata": {},
   "outputs": [
    {
     "data": {
      "text/plain": [
       "Index(['PrevClinName1', 'IVF_Rate', 'ICSI_Rate', 'Unstimulated_Rate',\n",
       "       'Gest_Rate', 'PGD_Rate', 'Diag_TubalRate', 'Diag_OvulatoryRate',\n",
       "       'Diag_DORRate', 'Diag_EndometriosisRate',\n",
       "       ...\n",
       "       'CurrClinNameAll', 'DonorEgg', 'DonorEmbryo', 'SingleWomen',\n",
       "       'Surrogates', 'Cryopreservation', 'SART_Member', 'Accreditation',\n",
       "       'TotExcludedResearchCycles', 'Year'],\n",
       "      dtype='object', length=210)"
      ]
     },
     "execution_count": 9,
     "metadata": {},
     "output_type": "execute_result"
    }
   ],
   "source": [
    "df.columns"
   ]
  },
  {
   "cell_type": "code",
   "execution_count": 12,
   "metadata": {},
   "outputs": [
    {
     "data": {
      "text/html": [
       "<div>\n",
       "<style scoped>\n",
       "    .dataframe tbody tr th:only-of-type {\n",
       "        vertical-align: middle;\n",
       "    }\n",
       "\n",
       "    .dataframe tbody tr th {\n",
       "        vertical-align: top;\n",
       "    }\n",
       "\n",
       "    .dataframe thead th {\n",
       "        text-align: right;\n",
       "    }\n",
       "</style>\n",
       "<table border=\"1\" class=\"dataframe\">\n",
       "  <thead>\n",
       "    <tr style=\"text-align: right;\">\n",
       "      <th></th>\n",
       "      <th>PrevClinName1</th>\n",
       "      <th>IVF_Rate</th>\n",
       "      <th>ICSI_Rate</th>\n",
       "      <th>Unstimulated_Rate</th>\n",
       "      <th>Gest_Rate</th>\n",
       "      <th>PGD_Rate</th>\n",
       "      <th>Diag_TubalRate</th>\n",
       "      <th>Diag_OvulatoryRate</th>\n",
       "      <th>Diag_DORRate</th>\n",
       "      <th>Diag_EndometriosisRate</th>\n",
       "      <th>...</th>\n",
       "      <th>CurrClinNameAll</th>\n",
       "      <th>DonorEgg</th>\n",
       "      <th>DonorEmbryo</th>\n",
       "      <th>SingleWomen</th>\n",
       "      <th>Surrogates</th>\n",
       "      <th>Cryopreservation</th>\n",
       "      <th>SART_Member</th>\n",
       "      <th>Accreditation</th>\n",
       "      <th>TotExcludedResearchCycles</th>\n",
       "      <th>Year</th>\n",
       "    </tr>\n",
       "  </thead>\n",
       "  <tbody>\n",
       "    <tr>\n",
       "      <th>0</th>\n",
       "      <td>ALABAMA FERTILITY SPECIALISTS</td>\n",
       "      <td>100%</td>\n",
       "      <td>43%</td>\n",
       "      <td>0%</td>\n",
       "      <td>0%</td>\n",
       "      <td>0%</td>\n",
       "      <td>23%</td>\n",
       "      <td>26%</td>\n",
       "      <td>14%</td>\n",
       "      <td>39%</td>\n",
       "      <td>...</td>\n",
       "      <td>Alabama Fertility Specialists</td>\n",
       "      <td>Yes</td>\n",
       "      <td>Yes</td>\n",
       "      <td>Yes</td>\n",
       "      <td>No</td>\n",
       "      <td>Yes</td>\n",
       "      <td>Yes</td>\n",
       "      <td>Yes</td>\n",
       "      <td>0</td>\n",
       "      <td>2015</td>\n",
       "    </tr>\n",
       "    <tr>\n",
       "      <th>1</th>\n",
       "      <td>ART FERTILITY PROGRAM OF ALABAMA</td>\n",
       "      <td>100%</td>\n",
       "      <td>74%</td>\n",
       "      <td>0%</td>\n",
       "      <td>0%</td>\n",
       "      <td>0%</td>\n",
       "      <td>31%</td>\n",
       "      <td>8%</td>\n",
       "      <td>15%</td>\n",
       "      <td>28%</td>\n",
       "      <td>...</td>\n",
       "      <td>ART Fertility Program of Alabama</td>\n",
       "      <td>Yes</td>\n",
       "      <td>Yes</td>\n",
       "      <td>Yes</td>\n",
       "      <td>Yes</td>\n",
       "      <td>Yes</td>\n",
       "      <td>Yes</td>\n",
       "      <td>Yes</td>\n",
       "      <td>0</td>\n",
       "      <td>2015</td>\n",
       "    </tr>\n",
       "    <tr>\n",
       "      <th>2</th>\n",
       "      <td>UNIVERSITY OF ALABAMA AT BIRMINGHAM</td>\n",
       "      <td>100%</td>\n",
       "      <td>60%</td>\n",
       "      <td>0%</td>\n",
       "      <td>0%</td>\n",
       "      <td>0%</td>\n",
       "      <td>24%</td>\n",
       "      <td>12%</td>\n",
       "      <td>20%</td>\n",
       "      <td>15%</td>\n",
       "      <td>...</td>\n",
       "      <td>University of Alabama at Birmingham, Reproduct...</td>\n",
       "      <td>Yes</td>\n",
       "      <td>No</td>\n",
       "      <td>Yes</td>\n",
       "      <td>Yes</td>\n",
       "      <td>Yes</td>\n",
       "      <td>Yes</td>\n",
       "      <td>Yes</td>\n",
       "      <td>0</td>\n",
       "      <td>2015</td>\n",
       "    </tr>\n",
       "    <tr>\n",
       "      <th>3</th>\n",
       "      <td>HUNTSVILLE REPRODUCTIVE MEDICINE, PC</td>\n",
       "      <td>100%</td>\n",
       "      <td>96%</td>\n",
       "      <td>0%</td>\n",
       "      <td>0%</td>\n",
       "      <td>0%</td>\n",
       "      <td>2%</td>\n",
       "      <td>20%</td>\n",
       "      <td>27%</td>\n",
       "      <td>9%</td>\n",
       "      <td>...</td>\n",
       "      <td>Huntsville Reproductive Medicine, PC</td>\n",
       "      <td>Yes</td>\n",
       "      <td>Yes</td>\n",
       "      <td>Yes</td>\n",
       "      <td>Yes</td>\n",
       "      <td>Yes</td>\n",
       "      <td>No</td>\n",
       "      <td>No</td>\n",
       "      <td>0</td>\n",
       "      <td>2015</td>\n",
       "    </tr>\n",
       "    <tr>\n",
       "      <th>4</th>\n",
       "      <td>CENTER FOR REPRODUCTIVE MEDICINE</td>\n",
       "      <td>100%</td>\n",
       "      <td>78%</td>\n",
       "      <td>0%</td>\n",
       "      <td>2%</td>\n",
       "      <td>1%</td>\n",
       "      <td>16%</td>\n",
       "      <td>11%</td>\n",
       "      <td>17%</td>\n",
       "      <td>19%</td>\n",
       "      <td>...</td>\n",
       "      <td>Center for Reproductive Medicine</td>\n",
       "      <td>Yes</td>\n",
       "      <td>Yes</td>\n",
       "      <td>Yes</td>\n",
       "      <td>Yes</td>\n",
       "      <td>Yes</td>\n",
       "      <td>Yes</td>\n",
       "      <td>Yes</td>\n",
       "      <td>0</td>\n",
       "      <td>2015</td>\n",
       "    </tr>\n",
       "    <tr>\n",
       "      <th>...</th>\n",
       "      <td>...</td>\n",
       "      <td>...</td>\n",
       "      <td>...</td>\n",
       "      <td>...</td>\n",
       "      <td>...</td>\n",
       "      <td>...</td>\n",
       "      <td>...</td>\n",
       "      <td>...</td>\n",
       "      <td>...</td>\n",
       "      <td>...</td>\n",
       "      <td>...</td>\n",
       "      <td>...</td>\n",
       "      <td>...</td>\n",
       "      <td>...</td>\n",
       "      <td>...</td>\n",
       "      <td>...</td>\n",
       "      <td>...</td>\n",
       "      <td>...</td>\n",
       "      <td>...</td>\n",
       "      <td>...</td>\n",
       "      <td>...</td>\n",
       "    </tr>\n",
       "    <tr>\n",
       "      <th>459</th>\n",
       "      <td>UNIVERSITY OF WISCONSIN-GENERATIONS FERTILITY ...</td>\n",
       "      <td>100%</td>\n",
       "      <td>64%</td>\n",
       "      <td>0%</td>\n",
       "      <td>0%</td>\n",
       "      <td>0%</td>\n",
       "      <td>9%</td>\n",
       "      <td>22%</td>\n",
       "      <td>14%</td>\n",
       "      <td>8%</td>\n",
       "      <td>...</td>\n",
       "      <td>University of Wisconsin-Generations Fertility ...</td>\n",
       "      <td>Yes</td>\n",
       "      <td>No</td>\n",
       "      <td>Yes</td>\n",
       "      <td>No</td>\n",
       "      <td>Yes</td>\n",
       "      <td>Yes</td>\n",
       "      <td>Yes</td>\n",
       "      <td>0</td>\n",
       "      <td>2015</td>\n",
       "    </tr>\n",
       "    <tr>\n",
       "      <th>460</th>\n",
       "      <td>WISCONSIN FERTILITY INSTITUTE</td>\n",
       "      <td>100%</td>\n",
       "      <td>83%</td>\n",
       "      <td>0%</td>\n",
       "      <td>&lt;1%</td>\n",
       "      <td>&lt;1%</td>\n",
       "      <td>6%</td>\n",
       "      <td>9%</td>\n",
       "      <td>45%</td>\n",
       "      <td>4%</td>\n",
       "      <td>...</td>\n",
       "      <td>Wisconsin Fertility Institute</td>\n",
       "      <td>Yes</td>\n",
       "      <td>Yes</td>\n",
       "      <td>Yes</td>\n",
       "      <td>Yes</td>\n",
       "      <td>Yes</td>\n",
       "      <td>Yes</td>\n",
       "      <td>Yes</td>\n",
       "      <td>0</td>\n",
       "      <td>2015</td>\n",
       "    </tr>\n",
       "    <tr>\n",
       "      <th>461</th>\n",
       "      <td>REPRODUCTIVE SPECIALTY CENTER</td>\n",
       "      <td>100%</td>\n",
       "      <td>65%</td>\n",
       "      <td>0%</td>\n",
       "      <td>0%</td>\n",
       "      <td>0%</td>\n",
       "      <td>4%</td>\n",
       "      <td>27%</td>\n",
       "      <td>12%</td>\n",
       "      <td>27%</td>\n",
       "      <td>...</td>\n",
       "      <td>Reproductive Specialty Center</td>\n",
       "      <td>Yes</td>\n",
       "      <td>No</td>\n",
       "      <td>Yes</td>\n",
       "      <td>Yes</td>\n",
       "      <td>Yes</td>\n",
       "      <td>Yes</td>\n",
       "      <td>Yes</td>\n",
       "      <td>0</td>\n",
       "      <td>2015</td>\n",
       "    </tr>\n",
       "    <tr>\n",
       "      <th>462</th>\n",
       "      <td>GUNDERSEN FERTILITY CENTER</td>\n",
       "      <td>100%</td>\n",
       "      <td>95%</td>\n",
       "      <td>0%</td>\n",
       "      <td>0%</td>\n",
       "      <td>2%</td>\n",
       "      <td>11%</td>\n",
       "      <td>39%</td>\n",
       "      <td>17%</td>\n",
       "      <td>30%</td>\n",
       "      <td>...</td>\n",
       "      <td>Gundersen Fertility Center</td>\n",
       "      <td>Yes</td>\n",
       "      <td>No</td>\n",
       "      <td>Yes</td>\n",
       "      <td>Yes</td>\n",
       "      <td>Yes</td>\n",
       "      <td>Yes</td>\n",
       "      <td>Yes</td>\n",
       "      <td>0</td>\n",
       "      <td>2015</td>\n",
       "    </tr>\n",
       "    <tr>\n",
       "      <th>463</th>\n",
       "      <td>AURORA HEALTH CARE-AURORA FERTILITY SERVICES, ...</td>\n",
       "      <td>100%</td>\n",
       "      <td>79%</td>\n",
       "      <td>0%</td>\n",
       "      <td>0%</td>\n",
       "      <td>0%</td>\n",
       "      <td>11%</td>\n",
       "      <td>15%</td>\n",
       "      <td>33%</td>\n",
       "      <td>6%</td>\n",
       "      <td>...</td>\n",
       "      <td>Aurora Health Care-Aurora Fertility Services, ...</td>\n",
       "      <td>Yes</td>\n",
       "      <td>Yes</td>\n",
       "      <td>Yes</td>\n",
       "      <td>Yes</td>\n",
       "      <td>Yes</td>\n",
       "      <td>Yes</td>\n",
       "      <td>Yes</td>\n",
       "      <td>0</td>\n",
       "      <td>2015</td>\n",
       "    </tr>\n",
       "  </tbody>\n",
       "</table>\n",
       "<p>464 rows × 210 columns</p>\n",
       "</div>"
      ],
      "text/plain": [
       "                                         PrevClinName1 IVF_Rate ICSI_Rate  \\\n",
       "0                        ALABAMA FERTILITY SPECIALISTS     100%       43%   \n",
       "1                     ART FERTILITY PROGRAM OF ALABAMA     100%       74%   \n",
       "2                  UNIVERSITY OF ALABAMA AT BIRMINGHAM     100%       60%   \n",
       "3                 HUNTSVILLE REPRODUCTIVE MEDICINE, PC     100%       96%   \n",
       "4                     CENTER FOR REPRODUCTIVE MEDICINE     100%       78%   \n",
       "..                                                 ...      ...       ...   \n",
       "459  UNIVERSITY OF WISCONSIN-GENERATIONS FERTILITY ...     100%       64%   \n",
       "460                      WISCONSIN FERTILITY INSTITUTE     100%       83%   \n",
       "461                      REPRODUCTIVE SPECIALTY CENTER     100%       65%   \n",
       "462                         GUNDERSEN FERTILITY CENTER     100%       95%   \n",
       "463  AURORA HEALTH CARE-AURORA FERTILITY SERVICES, ...     100%       79%   \n",
       "\n",
       "    Unstimulated_Rate Gest_Rate PGD_Rate Diag_TubalRate Diag_OvulatoryRate  \\\n",
       "0                  0%        0%       0%            23%                26%   \n",
       "1                  0%        0%       0%            31%                 8%   \n",
       "2                  0%        0%       0%            24%                12%   \n",
       "3                  0%        0%       0%             2%                20%   \n",
       "4                  0%        2%       1%            16%                11%   \n",
       "..                ...       ...      ...            ...                ...   \n",
       "459                0%        0%       0%             9%                22%   \n",
       "460                0%       <1%      <1%             6%                 9%   \n",
       "461                0%        0%       0%             4%                27%   \n",
       "462                0%        0%       2%            11%                39%   \n",
       "463                0%        0%       0%            11%                15%   \n",
       "\n",
       "    Diag_DORRate Diag_EndometriosisRate  ...  \\\n",
       "0            14%                    39%  ...   \n",
       "1            15%                    28%  ...   \n",
       "2            20%                    15%  ...   \n",
       "3            27%                     9%  ...   \n",
       "4            17%                    19%  ...   \n",
       "..           ...                    ...  ...   \n",
       "459          14%                     8%  ...   \n",
       "460          45%                     4%  ...   \n",
       "461          12%                    27%  ...   \n",
       "462          17%                    30%  ...   \n",
       "463          33%                     6%  ...   \n",
       "\n",
       "                                       CurrClinNameAll DonorEgg DonorEmbryo  \\\n",
       "0                        Alabama Fertility Specialists      Yes         Yes   \n",
       "1                     ART Fertility Program of Alabama      Yes         Yes   \n",
       "2    University of Alabama at Birmingham, Reproduct...      Yes          No   \n",
       "3                 Huntsville Reproductive Medicine, PC      Yes         Yes   \n",
       "4                     Center for Reproductive Medicine      Yes         Yes   \n",
       "..                                                 ...      ...         ...   \n",
       "459  University of Wisconsin-Generations Fertility ...      Yes          No   \n",
       "460                      Wisconsin Fertility Institute      Yes         Yes   \n",
       "461                      Reproductive Specialty Center      Yes          No   \n",
       "462                         Gundersen Fertility Center      Yes          No   \n",
       "463  Aurora Health Care-Aurora Fertility Services, ...      Yes         Yes   \n",
       "\n",
       "    SingleWomen Surrogates Cryopreservation SART_Member  Accreditation  \\\n",
       "0           Yes         No              Yes         Yes            Yes   \n",
       "1           Yes        Yes              Yes         Yes            Yes   \n",
       "2           Yes        Yes              Yes         Yes            Yes   \n",
       "3           Yes        Yes              Yes          No             No   \n",
       "4           Yes        Yes              Yes         Yes            Yes   \n",
       "..          ...        ...              ...         ...            ...   \n",
       "459         Yes         No              Yes         Yes            Yes   \n",
       "460         Yes        Yes              Yes         Yes            Yes   \n",
       "461         Yes        Yes              Yes         Yes            Yes   \n",
       "462         Yes        Yes              Yes         Yes            Yes   \n",
       "463         Yes        Yes              Yes         Yes            Yes   \n",
       "\n",
       "    TotExcludedResearchCycles  Year  \n",
       "0                           0  2015  \n",
       "1                           0  2015  \n",
       "2                           0  2015  \n",
       "3                           0  2015  \n",
       "4                           0  2015  \n",
       "..                        ...   ...  \n",
       "459                         0  2015  \n",
       "460                         0  2015  \n",
       "461                         0  2015  \n",
       "462                         0  2015  \n",
       "463                         0  2015  \n",
       "\n",
       "[464 rows x 210 columns]"
      ]
     },
     "execution_count": 12,
     "metadata": {},
     "output_type": "execute_result"
    }
   ],
   "source": [
    "df"
   ]
  },
  {
   "cell_type": "code",
   "execution_count": 13,
   "metadata": {},
   "outputs": [],
   "source": [
    "df = df.drop(['CurrClinNameAll','MedicalDirector','ReorgOrClosedMessage'],axis=1)"
   ]
  },
  {
   "cell_type": "code",
   "execution_count": 15,
   "metadata": {},
   "outputs": [],
   "source": [
    "\n",
    "df = df.drop('TotExcludedResearchCycles',axis=1)"
   ]
  },
  {
   "cell_type": "code",
   "execution_count": 21,
   "metadata": {},
   "outputs": [],
   "source": [
    "df = df.drop('Cryopreservation',axis=1)"
   ]
  },
  {
   "cell_type": "code",
   "execution_count": 25,
   "metadata": {},
   "outputs": [],
   "source": [
    "df_model = pd.get_dummies(data =df, columns=['Accreditation','SART_Member','Surrogates','SingleWomen','DonorEmbryo','DonorEgg'])"
   ]
  },
  {
   "cell_type": "code",
   "execution_count": 27,
   "metadata": {},
   "outputs": [
    {
     "data": {
      "text/html": [
       "<div>\n",
       "<style scoped>\n",
       "    .dataframe tbody tr th:only-of-type {\n",
       "        vertical-align: middle;\n",
       "    }\n",
       "\n",
       "    .dataframe tbody tr th {\n",
       "        vertical-align: top;\n",
       "    }\n",
       "\n",
       "    .dataframe thead th {\n",
       "        text-align: right;\n",
       "    }\n",
       "</style>\n",
       "<table border=\"1\" class=\"dataframe\">\n",
       "  <thead>\n",
       "    <tr style=\"text-align: right;\">\n",
       "      <th></th>\n",
       "      <th>PrevClinName1</th>\n",
       "      <th>IVF_Rate</th>\n",
       "      <th>ICSI_Rate</th>\n",
       "      <th>Unstimulated_Rate</th>\n",
       "      <th>Gest_Rate</th>\n",
       "      <th>PGD_Rate</th>\n",
       "      <th>Diag_TubalRate</th>\n",
       "      <th>Diag_OvulatoryRate</th>\n",
       "      <th>Diag_DORRate</th>\n",
       "      <th>Diag_EndometriosisRate</th>\n",
       "      <th>...</th>\n",
       "      <th>SART_Member_No</th>\n",
       "      <th>SART_Member_Yes</th>\n",
       "      <th>Surrogates_No</th>\n",
       "      <th>Surrogates_Yes</th>\n",
       "      <th>SingleWomen_No</th>\n",
       "      <th>SingleWomen_Yes</th>\n",
       "      <th>DonorEmbryo_No</th>\n",
       "      <th>DonorEmbryo_Yes</th>\n",
       "      <th>DonorEgg_No</th>\n",
       "      <th>DonorEgg_Yes</th>\n",
       "    </tr>\n",
       "  </thead>\n",
       "  <tbody>\n",
       "    <tr>\n",
       "      <th>0</th>\n",
       "      <td>ALABAMA FERTILITY SPECIALISTS</td>\n",
       "      <td>100%</td>\n",
       "      <td>43%</td>\n",
       "      <td>0%</td>\n",
       "      <td>0%</td>\n",
       "      <td>0%</td>\n",
       "      <td>23%</td>\n",
       "      <td>26%</td>\n",
       "      <td>14%</td>\n",
       "      <td>39%</td>\n",
       "      <td>...</td>\n",
       "      <td>0</td>\n",
       "      <td>1</td>\n",
       "      <td>1</td>\n",
       "      <td>0</td>\n",
       "      <td>0</td>\n",
       "      <td>1</td>\n",
       "      <td>0</td>\n",
       "      <td>1</td>\n",
       "      <td>0</td>\n",
       "      <td>1</td>\n",
       "    </tr>\n",
       "    <tr>\n",
       "      <th>1</th>\n",
       "      <td>ART FERTILITY PROGRAM OF ALABAMA</td>\n",
       "      <td>100%</td>\n",
       "      <td>74%</td>\n",
       "      <td>0%</td>\n",
       "      <td>0%</td>\n",
       "      <td>0%</td>\n",
       "      <td>31%</td>\n",
       "      <td>8%</td>\n",
       "      <td>15%</td>\n",
       "      <td>28%</td>\n",
       "      <td>...</td>\n",
       "      <td>0</td>\n",
       "      <td>1</td>\n",
       "      <td>0</td>\n",
       "      <td>1</td>\n",
       "      <td>0</td>\n",
       "      <td>1</td>\n",
       "      <td>0</td>\n",
       "      <td>1</td>\n",
       "      <td>0</td>\n",
       "      <td>1</td>\n",
       "    </tr>\n",
       "    <tr>\n",
       "      <th>2</th>\n",
       "      <td>UNIVERSITY OF ALABAMA AT BIRMINGHAM</td>\n",
       "      <td>100%</td>\n",
       "      <td>60%</td>\n",
       "      <td>0%</td>\n",
       "      <td>0%</td>\n",
       "      <td>0%</td>\n",
       "      <td>24%</td>\n",
       "      <td>12%</td>\n",
       "      <td>20%</td>\n",
       "      <td>15%</td>\n",
       "      <td>...</td>\n",
       "      <td>0</td>\n",
       "      <td>1</td>\n",
       "      <td>0</td>\n",
       "      <td>1</td>\n",
       "      <td>0</td>\n",
       "      <td>1</td>\n",
       "      <td>1</td>\n",
       "      <td>0</td>\n",
       "      <td>0</td>\n",
       "      <td>1</td>\n",
       "    </tr>\n",
       "    <tr>\n",
       "      <th>3</th>\n",
       "      <td>HUNTSVILLE REPRODUCTIVE MEDICINE, PC</td>\n",
       "      <td>100%</td>\n",
       "      <td>96%</td>\n",
       "      <td>0%</td>\n",
       "      <td>0%</td>\n",
       "      <td>0%</td>\n",
       "      <td>2%</td>\n",
       "      <td>20%</td>\n",
       "      <td>27%</td>\n",
       "      <td>9%</td>\n",
       "      <td>...</td>\n",
       "      <td>1</td>\n",
       "      <td>0</td>\n",
       "      <td>0</td>\n",
       "      <td>1</td>\n",
       "      <td>0</td>\n",
       "      <td>1</td>\n",
       "      <td>0</td>\n",
       "      <td>1</td>\n",
       "      <td>0</td>\n",
       "      <td>1</td>\n",
       "    </tr>\n",
       "    <tr>\n",
       "      <th>4</th>\n",
       "      <td>CENTER FOR REPRODUCTIVE MEDICINE</td>\n",
       "      <td>100%</td>\n",
       "      <td>78%</td>\n",
       "      <td>0%</td>\n",
       "      <td>2%</td>\n",
       "      <td>1%</td>\n",
       "      <td>16%</td>\n",
       "      <td>11%</td>\n",
       "      <td>17%</td>\n",
       "      <td>19%</td>\n",
       "      <td>...</td>\n",
       "      <td>0</td>\n",
       "      <td>1</td>\n",
       "      <td>0</td>\n",
       "      <td>1</td>\n",
       "      <td>0</td>\n",
       "      <td>1</td>\n",
       "      <td>0</td>\n",
       "      <td>1</td>\n",
       "      <td>0</td>\n",
       "      <td>1</td>\n",
       "    </tr>\n",
       "    <tr>\n",
       "      <th>...</th>\n",
       "      <td>...</td>\n",
       "      <td>...</td>\n",
       "      <td>...</td>\n",
       "      <td>...</td>\n",
       "      <td>...</td>\n",
       "      <td>...</td>\n",
       "      <td>...</td>\n",
       "      <td>...</td>\n",
       "      <td>...</td>\n",
       "      <td>...</td>\n",
       "      <td>...</td>\n",
       "      <td>...</td>\n",
       "      <td>...</td>\n",
       "      <td>...</td>\n",
       "      <td>...</td>\n",
       "      <td>...</td>\n",
       "      <td>...</td>\n",
       "      <td>...</td>\n",
       "      <td>...</td>\n",
       "      <td>...</td>\n",
       "      <td>...</td>\n",
       "    </tr>\n",
       "    <tr>\n",
       "      <th>459</th>\n",
       "      <td>UNIVERSITY OF WISCONSIN-GENERATIONS FERTILITY ...</td>\n",
       "      <td>100%</td>\n",
       "      <td>64%</td>\n",
       "      <td>0%</td>\n",
       "      <td>0%</td>\n",
       "      <td>0%</td>\n",
       "      <td>9%</td>\n",
       "      <td>22%</td>\n",
       "      <td>14%</td>\n",
       "      <td>8%</td>\n",
       "      <td>...</td>\n",
       "      <td>0</td>\n",
       "      <td>1</td>\n",
       "      <td>1</td>\n",
       "      <td>0</td>\n",
       "      <td>0</td>\n",
       "      <td>1</td>\n",
       "      <td>1</td>\n",
       "      <td>0</td>\n",
       "      <td>0</td>\n",
       "      <td>1</td>\n",
       "    </tr>\n",
       "    <tr>\n",
       "      <th>460</th>\n",
       "      <td>WISCONSIN FERTILITY INSTITUTE</td>\n",
       "      <td>100%</td>\n",
       "      <td>83%</td>\n",
       "      <td>0%</td>\n",
       "      <td>&lt;1%</td>\n",
       "      <td>&lt;1%</td>\n",
       "      <td>6%</td>\n",
       "      <td>9%</td>\n",
       "      <td>45%</td>\n",
       "      <td>4%</td>\n",
       "      <td>...</td>\n",
       "      <td>0</td>\n",
       "      <td>1</td>\n",
       "      <td>0</td>\n",
       "      <td>1</td>\n",
       "      <td>0</td>\n",
       "      <td>1</td>\n",
       "      <td>0</td>\n",
       "      <td>1</td>\n",
       "      <td>0</td>\n",
       "      <td>1</td>\n",
       "    </tr>\n",
       "    <tr>\n",
       "      <th>461</th>\n",
       "      <td>REPRODUCTIVE SPECIALTY CENTER</td>\n",
       "      <td>100%</td>\n",
       "      <td>65%</td>\n",
       "      <td>0%</td>\n",
       "      <td>0%</td>\n",
       "      <td>0%</td>\n",
       "      <td>4%</td>\n",
       "      <td>27%</td>\n",
       "      <td>12%</td>\n",
       "      <td>27%</td>\n",
       "      <td>...</td>\n",
       "      <td>0</td>\n",
       "      <td>1</td>\n",
       "      <td>0</td>\n",
       "      <td>1</td>\n",
       "      <td>0</td>\n",
       "      <td>1</td>\n",
       "      <td>1</td>\n",
       "      <td>0</td>\n",
       "      <td>0</td>\n",
       "      <td>1</td>\n",
       "    </tr>\n",
       "    <tr>\n",
       "      <th>462</th>\n",
       "      <td>GUNDERSEN FERTILITY CENTER</td>\n",
       "      <td>100%</td>\n",
       "      <td>95%</td>\n",
       "      <td>0%</td>\n",
       "      <td>0%</td>\n",
       "      <td>2%</td>\n",
       "      <td>11%</td>\n",
       "      <td>39%</td>\n",
       "      <td>17%</td>\n",
       "      <td>30%</td>\n",
       "      <td>...</td>\n",
       "      <td>0</td>\n",
       "      <td>1</td>\n",
       "      <td>0</td>\n",
       "      <td>1</td>\n",
       "      <td>0</td>\n",
       "      <td>1</td>\n",
       "      <td>1</td>\n",
       "      <td>0</td>\n",
       "      <td>0</td>\n",
       "      <td>1</td>\n",
       "    </tr>\n",
       "    <tr>\n",
       "      <th>463</th>\n",
       "      <td>AURORA HEALTH CARE-AURORA FERTILITY SERVICES, ...</td>\n",
       "      <td>100%</td>\n",
       "      <td>79%</td>\n",
       "      <td>0%</td>\n",
       "      <td>0%</td>\n",
       "      <td>0%</td>\n",
       "      <td>11%</td>\n",
       "      <td>15%</td>\n",
       "      <td>33%</td>\n",
       "      <td>6%</td>\n",
       "      <td>...</td>\n",
       "      <td>0</td>\n",
       "      <td>1</td>\n",
       "      <td>0</td>\n",
       "      <td>1</td>\n",
       "      <td>0</td>\n",
       "      <td>1</td>\n",
       "      <td>0</td>\n",
       "      <td>1</td>\n",
       "      <td>0</td>\n",
       "      <td>1</td>\n",
       "    </tr>\n",
       "  </tbody>\n",
       "</table>\n",
       "<p>464 rows × 212 columns</p>\n",
       "</div>"
      ],
      "text/plain": [
       "                                         PrevClinName1 IVF_Rate ICSI_Rate  \\\n",
       "0                        ALABAMA FERTILITY SPECIALISTS     100%       43%   \n",
       "1                     ART FERTILITY PROGRAM OF ALABAMA     100%       74%   \n",
       "2                  UNIVERSITY OF ALABAMA AT BIRMINGHAM     100%       60%   \n",
       "3                 HUNTSVILLE REPRODUCTIVE MEDICINE, PC     100%       96%   \n",
       "4                     CENTER FOR REPRODUCTIVE MEDICINE     100%       78%   \n",
       "..                                                 ...      ...       ...   \n",
       "459  UNIVERSITY OF WISCONSIN-GENERATIONS FERTILITY ...     100%       64%   \n",
       "460                      WISCONSIN FERTILITY INSTITUTE     100%       83%   \n",
       "461                      REPRODUCTIVE SPECIALTY CENTER     100%       65%   \n",
       "462                         GUNDERSEN FERTILITY CENTER     100%       95%   \n",
       "463  AURORA HEALTH CARE-AURORA FERTILITY SERVICES, ...     100%       79%   \n",
       "\n",
       "    Unstimulated_Rate Gest_Rate PGD_Rate Diag_TubalRate Diag_OvulatoryRate  \\\n",
       "0                  0%        0%       0%            23%                26%   \n",
       "1                  0%        0%       0%            31%                 8%   \n",
       "2                  0%        0%       0%            24%                12%   \n",
       "3                  0%        0%       0%             2%                20%   \n",
       "4                  0%        2%       1%            16%                11%   \n",
       "..                ...       ...      ...            ...                ...   \n",
       "459                0%        0%       0%             9%                22%   \n",
       "460                0%       <1%      <1%             6%                 9%   \n",
       "461                0%        0%       0%             4%                27%   \n",
       "462                0%        0%       2%            11%                39%   \n",
       "463                0%        0%       0%            11%                15%   \n",
       "\n",
       "    Diag_DORRate Diag_EndometriosisRate  ... SART_Member_No SART_Member_Yes  \\\n",
       "0            14%                    39%  ...              0               1   \n",
       "1            15%                    28%  ...              0               1   \n",
       "2            20%                    15%  ...              0               1   \n",
       "3            27%                     9%  ...              1               0   \n",
       "4            17%                    19%  ...              0               1   \n",
       "..           ...                    ...  ...            ...             ...   \n",
       "459          14%                     8%  ...              0               1   \n",
       "460          45%                     4%  ...              0               1   \n",
       "461          12%                    27%  ...              0               1   \n",
       "462          17%                    30%  ...              0               1   \n",
       "463          33%                     6%  ...              0               1   \n",
       "\n",
       "    Surrogates_No Surrogates_Yes SingleWomen_No SingleWomen_Yes  \\\n",
       "0               1              0              0               1   \n",
       "1               0              1              0               1   \n",
       "2               0              1              0               1   \n",
       "3               0              1              0               1   \n",
       "4               0              1              0               1   \n",
       "..            ...            ...            ...             ...   \n",
       "459             1              0              0               1   \n",
       "460             0              1              0               1   \n",
       "461             0              1              0               1   \n",
       "462             0              1              0               1   \n",
       "463             0              1              0               1   \n",
       "\n",
       "    DonorEmbryo_No  DonorEmbryo_Yes DonorEgg_No  DonorEgg_Yes  \n",
       "0                0                1           0             1  \n",
       "1                0                1           0             1  \n",
       "2                1                0           0             1  \n",
       "3                0                1           0             1  \n",
       "4                0                1           0             1  \n",
       "..             ...              ...         ...           ...  \n",
       "459              1                0           0             1  \n",
       "460              0                1           0             1  \n",
       "461              1                0           0             1  \n",
       "462              1                0           0             1  \n",
       "463              0                1           0             1  \n",
       "\n",
       "[464 rows x 212 columns]"
      ]
     },
     "execution_count": 27,
     "metadata": {},
     "output_type": "execute_result"
    }
   ],
   "source": [
    "df_model"
   ]
  },
  {
   "cell_type": "code",
   "execution_count": 30,
   "metadata": {},
   "outputs": [],
   "source": [
    "def convert_col_to_num (dataf):\n",
    "    for i in range (1,(len(dataf.columns))):\n",
    "        dataf[dataf.columns[i]] = dataf[dataf.columns[i]].apply(convert_to_num)\n",
    "    return dataf"
   ]
  },
  {
   "cell_type": "code",
   "execution_count": 37,
   "metadata": {},
   "outputs": [],
   "source": [
    "df_model = convert_col_to_num(df_model)"
   ]
  },
  {
   "cell_type": "code",
   "execution_count": 34,
   "metadata": {},
   "outputs": [
    {
     "data": {
      "text/plain": [
       "PrevClinName1        0\n",
       "IVF_Rate             3\n",
       "ICSI_Rate            3\n",
       "Unstimulated_Rate    3\n",
       "Gest_Rate            3\n",
       "                    ..\n",
       "SingleWomen_Yes      0\n",
       "DonorEmbryo_No       0\n",
       "DonorEmbryo_Yes      0\n",
       "DonorEgg_No          0\n",
       "DonorEgg_Yes         0\n",
       "Length: 212, dtype: int64"
      ]
     },
     "execution_count": 34,
     "metadata": {},
     "output_type": "execute_result"
    }
   ],
   "source": [
    "df_model.isnull().sum()"
   ]
  },
  {
   "cell_type": "code",
   "execution_count": 38,
   "metadata": {},
   "outputs": [
    {
     "data": {
      "text/plain": [
       "0      NaN\n",
       "1      NaN\n",
       "2      NaN\n",
       "3      0.0\n",
       "4      NaN\n",
       "      ... \n",
       "459    NaN\n",
       "460    NaN\n",
       "461    NaN\n",
       "462    NaN\n",
       "463    NaN\n",
       "Name: FshNDCansRate5, Length: 464, dtype: float64"
      ]
     },
     "execution_count": 38,
     "metadata": {},
     "output_type": "execute_result"
    }
   ],
   "source": [
    "df_model.FshNDCansRate5"
   ]
  },
  {
   "cell_type": "code",
   "execution_count": 40,
   "metadata": {},
   "outputs": [
    {
     "data": {
      "text/plain": [
       "<matplotlib.axes._subplots.AxesSubplot at 0x1a265df890>"
      ]
     },
     "execution_count": 40,
     "metadata": {},
     "output_type": "execute_result"
    },
    {
     "data": {
      "image/png": "[encoded data removed]",
      "text/plain": [
       "<Figure size 432x288 with 1 Axes>"
      ]
     },
     "metadata": {
      "needs_background": "light"
     },
     "output_type": "display_data"
    }
   ],
   "source": [
    "df_model.FshNDCansRate5.hist()"
   ]
  },
  {
   "cell_type": "code",
   "execution_count": 41,
   "metadata": {},
   "outputs": [],
   "source": [
    "from sklearn.ensemble import RandomForestRegressor"
   ]
  },
  {
   "cell_type": "code",
   "execution_count": 42,
   "metadata": {},
   "outputs": [
    {
     "data": {
      "text/plain": [
       "(464, 212)"
      ]
     },
     "execution_count": 42,
     "metadata": {},
     "output_type": "execute_result"
    }
   ],
   "source": [
    "df_model.shape"
   ]
  },
  {
   "cell_type": "code",
   "execution_count": 45,
   "metadata": {},
   "outputs": [],
   "source": [
    "df_model.drop(columns=['FshNDeSETRate1','FshNDeSETRate2','FshNDeSETRate3','FshNDeSETRate4','FshNDeSETRate5','FshNDeSETRate6',\n",
    "               'FshNDHealthSnglLBRate1','FshNDHealthSnglLBRate2','FshNDHealthSnglLBRate3','FshNDHealthSnglLBRate4',\n",
    "               'FshNDHealthSnglLBRate5','FshNDHealthSnglLBRate6','FshNDSnglLBRate1','FshNDSnglLBRate2',\n",
    "               'FshNDSnglLBRate3','FshNDSnglLBRate4','FshNDSnglLBRate5','FshNDSnglLBRate6','FshNDTwinlLBRate1',\n",
    "               'FshNDTwinlLBRate2','FshNDTwinlLBRate3','FshNDTwinlLBRate4','FshNDTwinlLBRate5',\n",
    "               'FshNDTwinlLBRate6'],inplace=True)"
   ]
  },
  {
   "cell_type": "code",
   "execution_count": 48,
   "metadata": {},
   "outputs": [],
   "source": [
    "df_model.drop(columns=['FshNDPregRate1','FshNDPregRate2','FshNDPregRate3','FshNDPregRate4',\n",
    "                       'FshNDPregRate5','FshNDPregRate6'], axis=1, inplace=True)"
   ]
  },
  {
   "cell_type": "code",
   "execution_count": 49,
   "metadata": {},
   "outputs": [],
   "source": [
    "df_model.drop(columns=['FshNDHealthSnglLB_TransRate1','FshNDHealthSnglLB_TransRate2','FshNDHealthSnglLB_TransRate3',\n",
    "               'FshNDHealthSnglLB_TransRate4','FshNDHealthSnglLB_TransRate5','FshNDHealthSnglLB_TransRate6',\n",
    "               'FshNDSnglLB_TransRate1','FshNDSnglLB_TransRate2','FshNDSnglLB_TransRate3',\n",
    "               'FshNDSnglLB_TransRate4','FshNDSnglLB_TransRate5','FshNDSnglLB_TransRate6',\n",
    "               'FshNDTwinLB_TransRate1','FshNDTwinLB_TransRate2','FshNDTwinLB_TransRate3',\n",
    "               'FshNDTwinLB_TransRate4','FshNDTwinLB_TransRate5','FshNDTwinLB_TransRate6',\n",
    "               'FshNDLvBirths_TransRate1','FshNDLvBirths_TransRate2','FshNDLvBirths_TransRate3',\n",
    "               'FshNDLvBirths_TransRate4','FshNDLvBirths_TransRate5','FshNDLvBirths_TransRate6',\n",
    "               'FshNDTransPregRate1','FshNDTransPregRate2','FshNDTransPregRate3','FshNDTransPregRate4',\n",
    "               'FshNDTransPregRate5','FshNDTransPregRate6'],inplace=True,axis=1)"
   ]
  },
  {
   "cell_type": "code",
   "execution_count": 50,
   "metadata": {},
   "outputs": [
    {
     "data": {
      "text/plain": [
       "(464, 152)"
      ]
     },
     "execution_count": 50,
     "metadata": {},
     "output_type": "execute_result"
    }
   ],
   "source": [
    "df_model.shape"
   ]
  },
  {
   "cell_type": "code",
   "execution_count": 51,
   "metadata": {},
   "outputs": [],
   "source": [
    "df_model.drop(columns=['ThwNDHealthSnglLB_TransRate1', 'ThwNDHealthSnglLB_TransRate2','ThwNDHealthSnglLB_TransRate3',\n",
    "               'ThwNDHealthSnglLB_TransRate4','ThwNDHealthSnglLB_TransRate5','ThwNDHealthSnglLB_TransRate6',\n",
    "               'ThwNDSnglLB_TransRate1','ThwNDSnglLB_TransRate2','ThwNDSnglLB_TransRate3',\n",
    "               'ThwNDSnglLB_TransRate4','ThwNDSnglLB_TransRate5','ThwNDSnglLB_TransRate6',\n",
    "               'ThwNDTwinLB_TransRate1','ThwNDTwinLB_TransRate2','ThwNDTwinLB_TransRate3',\n",
    "               'ThwNDTwinLB_TransRate4','ThwNDTwinLB_TransRate5','ThwNDTwinLB_TransRate6'],inplace=True, axis=1)"
   ]
  },
  {
   "cell_type": "code",
   "execution_count": 52,
   "metadata": {},
   "outputs": [],
   "source": [
    "df_model.drop(['ThwNDTransPregRate1','ThwNDTransPregRate2','ThwNDTransPregRate3','ThwNDTransPregRate4',\n",
    "               'ThwNDTransPregRate5','ThwNDTransPregRate6'],inplace=True,axis=1)"
   ]
  },
  {
   "cell_type": "code",
   "execution_count": 181,
   "metadata": {},
   "outputs": [],
   "source": [
    "df_model.drop(columns=['FshNDImplant1','FshNDImplant2','FshNDImplant3','FshNDImplant4','FshNDImplant5',\n",
    "                       'FshNDImplant6','FshNDLvBirthsRate2','FshNDLvBirthsRate3','FshNDLvBirthsRate4',\n",
    "                       'FshNDLvBirthsRate5','FshNDLvBirthsRate6'],inplace=True, axis=1)"
   ]
  },
  {
   "cell_type": "code",
   "execution_count": 184,
   "metadata": {},
   "outputs": [],
   "source": [
    "df_model.drop(columns=['FshNDTransfers1',\n",
    "'FshNDTransfers2',\n",
    "'FshNDTransfers3',\n",
    "'FshNDTransfers4',\n",
    "'FshNDTransfers5',\n",
    "'FshNDTransfers6'],inplace=True, axis=1)"
   ]
  },
  {
   "cell_type": "code",
   "execution_count": 185,
   "metadata": {},
   "outputs": [
    {
     "data": {
      "text/plain": [
       "(375, 111)"
      ]
     },
     "execution_count": 185,
     "metadata": {},
     "output_type": "execute_result"
    }
   ],
   "source": [
    "df_model.shape"
   ]
  },
  {
   "cell_type": "code",
   "execution_count": 186,
   "metadata": {},
   "outputs": [
    {
     "data": {
      "text/plain": [
       "<matplotlib.axes._subplots.AxesSubplot at 0x1a353c3610>"
      ]
     },
     "execution_count": 186,
     "metadata": {},
     "output_type": "execute_result"
    },
    {
     "data": {
      "image/png": "[encoded data removed]",
      "text/plain": [
       "<Figure size 432x288 with 1 Axes>"
      ]
     },
     "metadata": {
      "needs_background": "light"
     },
     "output_type": "display_data"
    }
   ],
   "source": [
    "sns.scatterplot(data=df_model,x='TotNumCyclesAll',y='ThwNDLvBirths_TransRate1')"
   ]
  },
  {
   "cell_type": "code",
   "execution_count": 134,
   "metadata": {},
   "outputs": [
    {
     "data": {
      "text/plain": [
       "<matplotlib.axes._subplots.AxesSubplot at 0x1a33353b50>"
      ]
     },
     "execution_count": 134,
     "metadata": {},
     "output_type": "execute_result"
    },
    {
     "data": {
      "image/png": "[encoded data removed]",
      "text/plain": [
       "<Figure size 432x288 with 1 Axes>"
      ]
     },
     "metadata": {
      "needs_background": "light"
     },
     "output_type": "display_data"
    }
   ],
   "source": [
    "df_model['TotNumCyclesAll'].hist(bins=100)"
   ]
  },
  {
   "cell_type": "code",
   "execution_count": 235,
   "metadata": {},
   "outputs": [],
   "source": [
    "df_model_rf = df_model.fillna(0)"
   ]
  },
  {
   "cell_type": "code",
   "execution_count": 135,
   "metadata": {},
   "outputs": [],
   "source": [
    "df_model = df_model[df_model['TotNumCyclesAll']>100]"
   ]
  },
  {
   "cell_type": "code",
   "execution_count": 222,
   "metadata": {},
   "outputs": [],
   "source": [
    "df_model = df_model[df_model.FshNDLvBirthsRate1 != 0]"
   ]
  },
  {
   "cell_type": "code",
   "execution_count": 254,
   "metadata": {},
   "outputs": [
    {
     "data": {
      "text/plain": [
       "<matplotlib.axes._subplots.AxesSubplot at 0x1a3752dc90>"
      ]
     },
     "execution_count": 254,
     "metadata": {},
     "output_type": "execute_result"
    },
    {
     "data": {
      "image/png": "[encoded data removed]",
      "text/plain": [
       "<Figure size 432x288 with 1 Axes>"
      ]
     },
     "metadata": {
      "needs_background": "light"
     },
     "output_type": "display_data"
    }
   ],
   "source": [
    "df_model.FshNDLvBirthsRate1.hist()\n"
   ]
  },
  {
   "cell_type": "code",
   "execution_count": 237,
   "metadata": {},
   "outputs": [
    {
     "data": {
      "text/plain": [
       "(362, 111)"
      ]
     },
     "execution_count": 237,
     "metadata": {},
     "output_type": "execute_result"
    }
   ],
   "source": [
    "df_model_rf.shape"
   ]
  },
  {
   "cell_type": "code",
   "execution_count": 54,
   "metadata": {},
   "outputs": [],
   "source": [
    "from sklearn.model_selection import train_test_split"
   ]
  },
  {
   "cell_type": "code",
   "execution_count": 304,
   "metadata": {},
   "outputs": [],
   "source": [
    "y = df_model_rf.ThwNDLvBirths_TransRate2.values#.reshape(-1,1)\n",
    "X = df_model_rf.drop(columns=['PrevClinName1','ThwNDLvBirths_TransRate2'],axis=1).values"
   ]
  },
  {
   "cell_type": "code",
   "execution_count": 305,
   "metadata": {},
   "outputs": [
    {
     "data": {
      "text/plain": [
       "(362,)"
      ]
     },
     "execution_count": 305,
     "metadata": {},
     "output_type": "execute_result"
    }
   ],
   "source": [
    "y.shape"
   ]
  },
  {
   "cell_type": "code",
   "execution_count": null,
   "metadata": {},
   "outputs": [],
   "source": []
  },
  {
   "cell_type": "code",
   "execution_count": 306,
   "metadata": {},
   "outputs": [],
   "source": [
    "X_train, X_test, y_train, y_test = train_test_split(X, y, test_size=0.3, random_state=42)"
   ]
  },
  {
   "cell_type": "code",
   "execution_count": 307,
   "metadata": {},
   "outputs": [],
   "source": [
    "regressor = RandomForestRegressor(n_estimators=5000,random_state=0,n_jobs=-1,verbose=1)"
   ]
  },
  {
   "cell_type": "code",
   "execution_count": 308,
   "metadata": {},
   "outputs": [
    {
     "name": "stderr",
     "output_type": "stream",
     "text": [
      "[Parallel(n_jobs=-1)]: Using backend ThreadingBackend with 8 concurrent workers.\n",
      "[Parallel(n_jobs=-1)]: Done  34 tasks      | elapsed:    0.1s\n",
      "[Parallel(n_jobs=-1)]: Done 184 tasks      | elapsed:    0.5s\n",
      "[Parallel(n_jobs=-1)]: Done 434 tasks      | elapsed:    1.3s\n",
      "[Parallel(n_jobs=-1)]: Done 784 tasks      | elapsed:    2.5s\n",
      "[Parallel(n_jobs=-1)]: Done 1234 tasks      | elapsed:    4.4s\n",
      "[Parallel(n_jobs=-1)]: Done 1784 tasks      | elapsed:    6.7s\n",
      "[Parallel(n_jobs=-1)]: Done 2434 tasks      | elapsed:    9.3s\n",
      "[Parallel(n_jobs=-1)]: Done 3184 tasks      | elapsed:   12.1s\n",
      "[Parallel(n_jobs=-1)]: Done 4034 tasks      | elapsed:   15.6s\n",
      "[Parallel(n_jobs=-1)]: Done 4984 tasks      | elapsed:   19.2s\n",
      "[Parallel(n_jobs=-1)]: Done 5000 out of 5000 | elapsed:   19.2s finished\n"
     ]
    },
    {
     "data": {
      "text/plain": [
       "RandomForestRegressor(n_estimators=5000, n_jobs=-1, random_state=0, verbose=1)"
      ]
     },
     "execution_count": 308,
     "metadata": {},
     "output_type": "execute_result"
    }
   ],
   "source": [
    "regressor.fit(X_train, y_train)"
   ]
  },
  {
   "cell_type": "code",
   "execution_count": 309,
   "metadata": {},
   "outputs": [
    {
     "name": "stderr",
     "output_type": "stream",
     "text": [
      "[Parallel(n_jobs=8)]: Using backend ThreadingBackend with 8 concurrent workers.\n",
      "[Parallel(n_jobs=8)]: Done  34 tasks      | elapsed:    0.0s\n",
      "[Parallel(n_jobs=8)]: Done 184 tasks      | elapsed:    0.0s\n",
      "[Parallel(n_jobs=8)]: Done 434 tasks      | elapsed:    0.1s\n",
      "[Parallel(n_jobs=8)]: Done 784 tasks      | elapsed:    0.2s\n",
      "[Parallel(n_jobs=8)]: Done 1234 tasks      | elapsed:    0.2s\n",
      "[Parallel(n_jobs=8)]: Done 1784 tasks      | elapsed:    0.3s\n",
      "[Parallel(n_jobs=8)]: Done 2434 tasks      | elapsed:    0.5s\n",
      "[Parallel(n_jobs=8)]: Done 3184 tasks      | elapsed:    0.6s\n",
      "[Parallel(n_jobs=8)]: Done 4034 tasks      | elapsed:    0.7s\n",
      "[Parallel(n_jobs=8)]: Done 4984 tasks      | elapsed:    1.0s\n",
      "[Parallel(n_jobs=8)]: Done 5000 out of 5000 | elapsed:    1.0s finished\n"
     ]
    }
   ],
   "source": [
    "y_pred = regressor.predict(X_test)"
   ]
  },
  {
   "cell_type": "code",
   "execution_count": 213,
   "metadata": {},
   "outputs": [
    {
     "name": "stderr",
     "output_type": "stream",
     "text": [
      "[Parallel(n_jobs=8)]: Using backend ThreadingBackend with 8 concurrent workers.\n",
      "[Parallel(n_jobs=8)]: Done  34 tasks      | elapsed:    0.0s\n",
      "[Parallel(n_jobs=8)]: Done 184 tasks      | elapsed:    0.0s\n",
      "[Parallel(n_jobs=8)]: Done 434 tasks      | elapsed:    0.1s\n",
      "[Parallel(n_jobs=8)]: Done 784 tasks      | elapsed:    0.1s\n",
      "[Parallel(n_jobs=8)]: Done 1234 tasks      | elapsed:    0.1s\n",
      "[Parallel(n_jobs=8)]: Done 1784 tasks      | elapsed:    0.2s\n",
      "[Parallel(n_jobs=8)]: Done 2434 tasks      | elapsed:    0.2s\n",
      "[Parallel(n_jobs=8)]: Done 3184 tasks      | elapsed:    0.3s\n",
      "[Parallel(n_jobs=8)]: Done 4034 tasks      | elapsed:    0.4s\n",
      "[Parallel(n_jobs=8)]: Done 4984 tasks      | elapsed:    0.5s\n",
      "[Parallel(n_jobs=8)]: Done 5000 out of 5000 | elapsed:    0.5s finished\n",
      "[Parallel(n_jobs=8)]: Using backend ThreadingBackend with 8 concurrent workers.\n",
      "[Parallel(n_jobs=8)]: Done  34 tasks      | elapsed:    0.0s\n",
      "[Parallel(n_jobs=8)]: Done 184 tasks      | elapsed:    0.0s\n",
      "[Parallel(n_jobs=8)]: Done 434 tasks      | elapsed:    0.1s\n",
      "[Parallel(n_jobs=8)]: Done 784 tasks      | elapsed:    0.1s\n",
      "[Parallel(n_jobs=8)]: Done 1234 tasks      | elapsed:    0.2s\n",
      "[Parallel(n_jobs=8)]: Done 1784 tasks      | elapsed:    0.2s\n",
      "[Parallel(n_jobs=8)]: Done 2434 tasks      | elapsed:    0.2s\n",
      "[Parallel(n_jobs=8)]: Done 3184 tasks      | elapsed:    0.3s\n",
      "[Parallel(n_jobs=8)]: Done 4034 tasks      | elapsed:    0.4s\n",
      "[Parallel(n_jobs=8)]: Done 4984 tasks      | elapsed:    0.5s\n",
      "[Parallel(n_jobs=8)]: Done 5000 out of 5000 | elapsed:    0.5s finished\n"
     ]
    }
   ],
   "source": [
    "train_rf_predictions = regressor.predict(X_train)\n",
    "#train_rf_probs = regressor.predict_proba(X_train)[:, 1]\n",
    "\n",
    "rf_predictions = regressor.predict(X_test)\n",
    "#rf_probs = regressor.predict_proba(X_test)[:, 1]"
   ]
  },
  {
   "cell_type": "code",
   "execution_count": 310,
   "metadata": {},
   "outputs": [
    {
     "data": {
      "text/plain": [
       "18.103353489600433"
      ]
     },
     "execution_count": 310,
     "metadata": {},
     "output_type": "execute_result"
    }
   ],
   "source": [
    "#Baseline Error\n",
    "baseline_err = abs(y_train.mean()-y_train)\n",
    "baseline_err.mean()"
   ]
  },
  {
   "cell_type": "code",
   "execution_count": 269,
   "metadata": {},
   "outputs": [
    {
     "data": {
      "text/plain": [
       "14.861342024042086"
      ]
     },
     "execution_count": 269,
     "metadata": {},
     "output_type": "execute_result"
    }
   ],
   "source": []
  },
  {
   "cell_type": "code",
   "execution_count": 230,
   "metadata": {},
   "outputs": [],
   "source": [
    "from sklearn.metrics import mean_squared_error, r2_score"
   ]
  },
  {
   "cell_type": "code",
   "execution_count": 311,
   "metadata": {},
   "outputs": [
    {
     "data": {
      "text/plain": [
       "4.464450120575627"
      ]
     },
     "execution_count": 311,
     "metadata": {},
     "output_type": "execute_result"
    }
   ],
   "source": [
    "real_err = abs(y_pred-y_test)\n",
    "real_err.mean()"
   ]
  },
  {
   "cell_type": "code",
   "execution_count": 312,
   "metadata": {},
   "outputs": [],
   "source": [
    "mse = mean_squared_error(y_test,y_pred)"
   ]
  },
  {
   "cell_type": "code",
   "execution_count": 313,
   "metadata": {},
   "outputs": [
    {
     "data": {
      "text/plain": [
       "40.726424318105956"
      ]
     },
     "execution_count": 313,
     "metadata": {},
     "output_type": "execute_result"
    }
   ],
   "source": [
    "mse"
   ]
  },
  {
   "cell_type": "code",
   "execution_count": 314,
   "metadata": {},
   "outputs": [
    {
     "name": "stderr",
     "output_type": "stream",
     "text": [
      "/Users/jacobberger/anaconda3/lib/python3.7/site-packages/ipykernel_launcher.py:1: RuntimeWarning: divide by zero encountered in true_divide\n",
      "  \"\"\"Entry point for launching an IPython kernel.\n",
      "/Users/jacobberger/anaconda3/lib/python3.7/site-packages/ipykernel_launcher.py:1: RuntimeWarning: invalid value encountered in true_divide\n",
      "  \"\"\"Entry point for launching an IPython kernel.\n"
     ]
    },
    {
     "data": {
      "text/plain": [
       "(array([44., 15., 17., 11., 12.,  2.,  2.,  2.,  2.,  2.]),\n",
       " array([ 0.        ,  1.99809522,  3.99619045,  5.99428567,  7.9923809 ,\n",
       "         9.99047612, 11.98857135, 13.98666657, 15.9847618 , 17.98285702,\n",
       "        19.98095225]),\n",
       " <a list of 10 Patch objects>)"
      ]
     },
     "execution_count": 314,
     "metadata": {},
     "output_type": "execute_result"
    },
    {
     "data": {
      "image/png": "[encoded data removed]",
      "text/plain": [
       "<Figure size 432x288 with 1 Axes>"
      ]
     },
     "metadata": {
      "needs_background": "light"
     },
     "output_type": "display_data"
    }
   ],
   "source": [
    "mape = 100*(real_err/y_test)\n",
    "plt.hist(real_err)\n",
    "#accuracy = 100-mape.mean()\n",
    "#accuracy"
   ]
  },
  {
   "cell_type": "code",
   "execution_count": 315,
   "metadata": {},
   "outputs": [
    {
     "data": {
      "text/plain": [
       "40.726424318105956"
      ]
     },
     "execution_count": 315,
     "metadata": {},
     "output_type": "execute_result"
    }
   ],
   "source": [
    "mse"
   ]
  },
  {
   "cell_type": "code",
   "execution_count": 317,
   "metadata": {},
   "outputs": [
    {
     "data": {
      "text/plain": [
       "0.9090404417987807"
      ]
     },
     "execution_count": 317,
     "metadata": {},
     "output_type": "execute_result"
    }
   ],
   "source": [
    "r2 = r2_score(y_test,y_pred)\n",
    "r2"
   ]
  },
  {
   "cell_type": "code",
   "execution_count": 318,
   "metadata": {},
   "outputs": [
    {
     "data": {
      "text/plain": [
       "6.381725810320117"
      ]
     },
     "execution_count": 318,
     "metadata": {},
     "output_type": "execute_result"
    }
   ],
   "source": [
    "np.sqrt(mse)"
   ]
  },
  {
   "cell_type": "code",
   "execution_count": 319,
   "metadata": {},
   "outputs": [
    {
     "ename": "TypeError",
     "evalue": "'str' object is not callable",
     "output_type": "error",
     "traceback": [
      "\u001b[0;31m---------------------------------------------------------------------------\u001b[0m",
      "\u001b[0;31mTypeError\u001b[0m                                 Traceback (most recent call last)",
      "\u001b[0;32m<ipython-input-319-3fd2d8cf5c18>\u001b[0m in \u001b[0;36m<module>\u001b[0;34m\u001b[0m\n\u001b[1;32m      1\u001b[0m \u001b[0mplt\u001b[0m\u001b[0;34m.\u001b[0m\u001b[0mscatter\u001b[0m\u001b[0;34m(\u001b[0m\u001b[0mx\u001b[0m\u001b[0;34m=\u001b[0m\u001b[0my_pred\u001b[0m\u001b[0;34m,\u001b[0m\u001b[0my\u001b[0m\u001b[0;34m=\u001b[0m\u001b[0my_test\u001b[0m\u001b[0;34m)\u001b[0m\u001b[0;34m\u001b[0m\u001b[0;34m\u001b[0m\u001b[0m\n\u001b[0;32m----> 2\u001b[0;31m \u001b[0mplt\u001b[0m\u001b[0;34m.\u001b[0m\u001b[0mxlabel\u001b[0m\u001b[0;34m(\u001b[0m\u001b[0;34m'y_pred'\u001b[0m\u001b[0;34m)\u001b[0m\u001b[0;34m\u001b[0m\u001b[0;34m\u001b[0m\u001b[0m\n\u001b[0m\u001b[1;32m      3\u001b[0m \u001b[0mplt\u001b[0m\u001b[0;34m.\u001b[0m\u001b[0mylabel\u001b[0m\u001b[0;34m(\u001b[0m\u001b[0;34m'y_real'\u001b[0m\u001b[0;34m)\u001b[0m\u001b[0;34m\u001b[0m\u001b[0;34m\u001b[0m\u001b[0m\n\u001b[1;32m      4\u001b[0m \u001b[0mplt\u001b[0m\u001b[0;34m.\u001b[0m\u001b[0mshow\u001b[0m\u001b[0;34m(\u001b[0m\u001b[0;34m)\u001b[0m\u001b[0;34m\u001b[0m\u001b[0;34m\u001b[0m\u001b[0m\n",
      "\u001b[0;31mTypeError\u001b[0m: 'str' object is not callable"
     ]
    },
    {
     "data": {
      "image/png": "[encoded data removed]",
      "text/plain": [
       "<Figure size 432x288 with 1 Axes>"
      ]
     },
     "metadata": {
      "needs_background": "light"
     },
     "output_type": "display_data"
    }
   ],
   "source": [
    "plt.scatter(x=y_pred,y=y_test)\n",
    "plt.xlabel('y_pred')\n",
    "plt.ylabel('y_real')\n",
    "plt.show()"
   ]
  },
  {
   "cell_type": "code",
   "execution_count": 248,
   "metadata": {},
   "outputs": [
    {
     "name": "stdout",
     "output_type": "stream",
     "text": [
      "0\n",
      "1\n",
      "2\n",
      "3\n"
     ]
    }
   ],
   "source": [
    "n=0\n",
    "for num in y_test:\n",
    "    if num==0:\n",
    "        print(n)\n",
    "        n+=1"
   ]
  },
  {
   "cell_type": "code",
   "execution_count": 251,
   "metadata": {},
   "outputs": [],
   "source": [
    "df_test = df_model_rf[df_model_rf.FshNDLvBirthsRate1==0] "
   ]
  },
  {
   "cell_type": "code",
   "execution_count": 252,
   "metadata": {},
   "outputs": [
    {
     "data": {
      "text/html": [
       "<div>\n",
       "<style scoped>\n",
       "    .dataframe tbody tr th:only-of-type {\n",
       "        vertical-align: middle;\n",
       "    }\n",
       "\n",
       "    .dataframe tbody tr th {\n",
       "        vertical-align: top;\n",
       "    }\n",
       "\n",
       "    .dataframe thead th {\n",
       "        text-align: right;\n",
       "    }\n",
       "</style>\n",
       "<table border=\"1\" class=\"dataframe\">\n",
       "  <thead>\n",
       "    <tr style=\"text-align: right;\">\n",
       "      <th></th>\n",
       "      <th>PrevClinName1</th>\n",
       "      <th>IVF_Rate</th>\n",
       "      <th>ICSI_Rate</th>\n",
       "      <th>Unstimulated_Rate</th>\n",
       "      <th>Gest_Rate</th>\n",
       "      <th>PGD_Rate</th>\n",
       "      <th>Diag_TubalRate</th>\n",
       "      <th>Diag_OvulatoryRate</th>\n",
       "      <th>Diag_DORRate</th>\n",
       "      <th>Diag_EndometriosisRate</th>\n",
       "      <th>...</th>\n",
       "      <th>SART_Member_No</th>\n",
       "      <th>SART_Member_Yes</th>\n",
       "      <th>Surrogates_No</th>\n",
       "      <th>Surrogates_Yes</th>\n",
       "      <th>SingleWomen_No</th>\n",
       "      <th>SingleWomen_Yes</th>\n",
       "      <th>DonorEmbryo_No</th>\n",
       "      <th>DonorEmbryo_Yes</th>\n",
       "      <th>DonorEgg_No</th>\n",
       "      <th>DonorEgg_Yes</th>\n",
       "    </tr>\n",
       "  </thead>\n",
       "  <tbody>\n",
       "    <tr>\n",
       "      <th>6</th>\n",
       "      <td>NEW DIRECTION FERTILITY CENTERS</td>\n",
       "      <td>100.0</td>\n",
       "      <td>71.0</td>\n",
       "      <td>0.0</td>\n",
       "      <td>0.0</td>\n",
       "      <td>21.0</td>\n",
       "      <td>9.0</td>\n",
       "      <td>20.0</td>\n",
       "      <td>15.0</td>\n",
       "      <td>13.0</td>\n",
       "      <td>...</td>\n",
       "      <td>1</td>\n",
       "      <td>0</td>\n",
       "      <td>1</td>\n",
       "      <td>0</td>\n",
       "      <td>0</td>\n",
       "      <td>1</td>\n",
       "      <td>1</td>\n",
       "      <td>0</td>\n",
       "      <td>0</td>\n",
       "      <td>1</td>\n",
       "    </tr>\n",
       "    <tr>\n",
       "      <th>12</th>\n",
       "      <td>ARIZONA CENTER FOR FERTILITY STUDIES</td>\n",
       "      <td>0.0</td>\n",
       "      <td>0.0</td>\n",
       "      <td>0.0</td>\n",
       "      <td>0.0</td>\n",
       "      <td>0.0</td>\n",
       "      <td>14.0</td>\n",
       "      <td>17.0</td>\n",
       "      <td>21.0</td>\n",
       "      <td>13.0</td>\n",
       "      <td>...</td>\n",
       "      <td>1</td>\n",
       "      <td>0</td>\n",
       "      <td>0</td>\n",
       "      <td>1</td>\n",
       "      <td>0</td>\n",
       "      <td>1</td>\n",
       "      <td>0</td>\n",
       "      <td>1</td>\n",
       "      <td>0</td>\n",
       "      <td>1</td>\n",
       "    </tr>\n",
       "    <tr>\n",
       "      <th>15</th>\n",
       "      <td>FERTILITY TREATMENT CENTER, PC</td>\n",
       "      <td>100.0</td>\n",
       "      <td>55.0</td>\n",
       "      <td>3.0</td>\n",
       "      <td>0.0</td>\n",
       "      <td>0.0</td>\n",
       "      <td>1.0</td>\n",
       "      <td>64.0</td>\n",
       "      <td>35.0</td>\n",
       "      <td>4.0</td>\n",
       "      <td>...</td>\n",
       "      <td>0</td>\n",
       "      <td>1</td>\n",
       "      <td>0</td>\n",
       "      <td>1</td>\n",
       "      <td>0</td>\n",
       "      <td>1</td>\n",
       "      <td>0</td>\n",
       "      <td>1</td>\n",
       "      <td>0</td>\n",
       "      <td>1</td>\n",
       "    </tr>\n",
       "    <tr>\n",
       "      <th>20</th>\n",
       "      <td>ALTA BATES IN VITRO FERTILIZATION PROGRAM</td>\n",
       "      <td>100.0</td>\n",
       "      <td>67.0</td>\n",
       "      <td>0.0</td>\n",
       "      <td>4.0</td>\n",
       "      <td>4.0</td>\n",
       "      <td>5.0</td>\n",
       "      <td>6.0</td>\n",
       "      <td>47.0</td>\n",
       "      <td>9.0</td>\n",
       "      <td>...</td>\n",
       "      <td>0</td>\n",
       "      <td>1</td>\n",
       "      <td>0</td>\n",
       "      <td>1</td>\n",
       "      <td>0</td>\n",
       "      <td>1</td>\n",
       "      <td>0</td>\n",
       "      <td>1</td>\n",
       "      <td>0</td>\n",
       "      <td>1</td>\n",
       "    </tr>\n",
       "    <tr>\n",
       "      <th>21</th>\n",
       "      <td>CENTER FOR REPRODUCTIVE HEALTH &amp; GYNECOLOGY</td>\n",
       "      <td>100.0</td>\n",
       "      <td>66.0</td>\n",
       "      <td>0.0</td>\n",
       "      <td>0.0</td>\n",
       "      <td>23.0</td>\n",
       "      <td>13.0</td>\n",
       "      <td>2.0</td>\n",
       "      <td>47.0</td>\n",
       "      <td>3.0</td>\n",
       "      <td>...</td>\n",
       "      <td>0</td>\n",
       "      <td>1</td>\n",
       "      <td>0</td>\n",
       "      <td>1</td>\n",
       "      <td>0</td>\n",
       "      <td>1</td>\n",
       "      <td>0</td>\n",
       "      <td>1</td>\n",
       "      <td>0</td>\n",
       "      <td>1</td>\n",
       "    </tr>\n",
       "    <tr>\n",
       "      <th>23</th>\n",
       "      <td>FERTILITY CARE OF ORANGE COUNTY</td>\n",
       "      <td>100.0</td>\n",
       "      <td>100.0</td>\n",
       "      <td>0.0</td>\n",
       "      <td>0.0</td>\n",
       "      <td>0.0</td>\n",
       "      <td>12.0</td>\n",
       "      <td>11.0</td>\n",
       "      <td>39.0</td>\n",
       "      <td>0.0</td>\n",
       "      <td>...</td>\n",
       "      <td>1</td>\n",
       "      <td>0</td>\n",
       "      <td>0</td>\n",
       "      <td>1</td>\n",
       "      <td>0</td>\n",
       "      <td>1</td>\n",
       "      <td>0</td>\n",
       "      <td>1</td>\n",
       "      <td>0</td>\n",
       "      <td>1</td>\n",
       "    </tr>\n",
       "    <tr>\n",
       "      <th>26</th>\n",
       "      <td>CALIFORNIA CENTER FOR REPRODUCTIVE MEDICINE</td>\n",
       "      <td>100.0</td>\n",
       "      <td>85.0</td>\n",
       "      <td>0.0</td>\n",
       "      <td>0.0</td>\n",
       "      <td>23.0</td>\n",
       "      <td>8.0</td>\n",
       "      <td>4.0</td>\n",
       "      <td>39.0</td>\n",
       "      <td>4.0</td>\n",
       "      <td>...</td>\n",
       "      <td>0</td>\n",
       "      <td>1</td>\n",
       "      <td>0</td>\n",
       "      <td>1</td>\n",
       "      <td>0</td>\n",
       "      <td>1</td>\n",
       "      <td>0</td>\n",
       "      <td>1</td>\n",
       "      <td>0</td>\n",
       "      <td>1</td>\n",
       "    </tr>\n",
       "    <tr>\n",
       "      <th>34</th>\n",
       "      <td>MARIN FERTILITY CENTER</td>\n",
       "      <td>100.0</td>\n",
       "      <td>88.0</td>\n",
       "      <td>3.0</td>\n",
       "      <td>0.0</td>\n",
       "      <td>6.0</td>\n",
       "      <td>13.0</td>\n",
       "      <td>10.0</td>\n",
       "      <td>28.0</td>\n",
       "      <td>10.0</td>\n",
       "      <td>...</td>\n",
       "      <td>1</td>\n",
       "      <td>0</td>\n",
       "      <td>0</td>\n",
       "      <td>1</td>\n",
       "      <td>0</td>\n",
       "      <td>1</td>\n",
       "      <td>1</td>\n",
       "      <td>0</td>\n",
       "      <td>0</td>\n",
       "      <td>1</td>\n",
       "    </tr>\n",
       "    <tr>\n",
       "      <th>43</th>\n",
       "      <td>CHA FERTILITY CENTER</td>\n",
       "      <td>100.0</td>\n",
       "      <td>84.0</td>\n",
       "      <td>5.0</td>\n",
       "      <td>0.0</td>\n",
       "      <td>0.0</td>\n",
       "      <td>5.0</td>\n",
       "      <td>3.0</td>\n",
       "      <td>43.0</td>\n",
       "      <td>3.0</td>\n",
       "      <td>...</td>\n",
       "      <td>0</td>\n",
       "      <td>1</td>\n",
       "      <td>0</td>\n",
       "      <td>1</td>\n",
       "      <td>0</td>\n",
       "      <td>1</td>\n",
       "      <td>1</td>\n",
       "      <td>0</td>\n",
       "      <td>0</td>\n",
       "      <td>1</td>\n",
       "    </tr>\n",
       "    <tr>\n",
       "      <th>45</th>\n",
       "      <td>UCLA FERTILITY CENTER</td>\n",
       "      <td>100.0</td>\n",
       "      <td>84.0</td>\n",
       "      <td>4.0</td>\n",
       "      <td>0.0</td>\n",
       "      <td>0.0</td>\n",
       "      <td>2.0</td>\n",
       "      <td>12.0</td>\n",
       "      <td>5.0</td>\n",
       "      <td>8.0</td>\n",
       "      <td>...</td>\n",
       "      <td>0</td>\n",
       "      <td>1</td>\n",
       "      <td>0</td>\n",
       "      <td>1</td>\n",
       "      <td>0</td>\n",
       "      <td>1</td>\n",
       "      <td>0</td>\n",
       "      <td>1</td>\n",
       "      <td>0</td>\n",
       "      <td>1</td>\n",
       "    </tr>\n",
       "    <tr>\n",
       "      <th>47</th>\n",
       "      <td>INNOVATIVE FERTILITY CENTER</td>\n",
       "      <td>100.0</td>\n",
       "      <td>100.0</td>\n",
       "      <td>0.0</td>\n",
       "      <td>0.0</td>\n",
       "      <td>22.0</td>\n",
       "      <td>8.0</td>\n",
       "      <td>3.0</td>\n",
       "      <td>23.0</td>\n",
       "      <td>2.0</td>\n",
       "      <td>...</td>\n",
       "      <td>1</td>\n",
       "      <td>0</td>\n",
       "      <td>0</td>\n",
       "      <td>1</td>\n",
       "      <td>0</td>\n",
       "      <td>1</td>\n",
       "      <td>0</td>\n",
       "      <td>1</td>\n",
       "      <td>0</td>\n",
       "      <td>1</td>\n",
       "    </tr>\n",
       "    <tr>\n",
       "      <th>51</th>\n",
       "      <td>NEWPORT FERTILITY CENTER</td>\n",
       "      <td>100.0</td>\n",
       "      <td>100.0</td>\n",
       "      <td>0.0</td>\n",
       "      <td>0.0</td>\n",
       "      <td>0.0</td>\n",
       "      <td>17.0</td>\n",
       "      <td>13.0</td>\n",
       "      <td>56.0</td>\n",
       "      <td>15.0</td>\n",
       "      <td>...</td>\n",
       "      <td>1</td>\n",
       "      <td>0</td>\n",
       "      <td>0</td>\n",
       "      <td>1</td>\n",
       "      <td>0</td>\n",
       "      <td>1</td>\n",
       "      <td>1</td>\n",
       "      <td>0</td>\n",
       "      <td>0</td>\n",
       "      <td>1</td>\n",
       "    </tr>\n",
       "    <tr>\n",
       "      <th>55</th>\n",
       "      <td>LANE FERTILITY INSTITUTE</td>\n",
       "      <td>100.0</td>\n",
       "      <td>57.0</td>\n",
       "      <td>0.0</td>\n",
       "      <td>0.0</td>\n",
       "      <td>0.0</td>\n",
       "      <td>5.0</td>\n",
       "      <td>9.0</td>\n",
       "      <td>37.0</td>\n",
       "      <td>5.0</td>\n",
       "      <td>...</td>\n",
       "      <td>0</td>\n",
       "      <td>1</td>\n",
       "      <td>0</td>\n",
       "      <td>1</td>\n",
       "      <td>0</td>\n",
       "      <td>1</td>\n",
       "      <td>0</td>\n",
       "      <td>1</td>\n",
       "      <td>0</td>\n",
       "      <td>1</td>\n",
       "    </tr>\n",
       "    <tr>\n",
       "      <th>65</th>\n",
       "      <td>REPRODUCTIVE SCIENCES MEDICAL CENTER</td>\n",
       "      <td>100.0</td>\n",
       "      <td>100.0</td>\n",
       "      <td>0.0</td>\n",
       "      <td>26.0</td>\n",
       "      <td>63.0</td>\n",
       "      <td>9.0</td>\n",
       "      <td>10.0</td>\n",
       "      <td>36.0</td>\n",
       "      <td>4.0</td>\n",
       "      <td>...</td>\n",
       "      <td>0</td>\n",
       "      <td>1</td>\n",
       "      <td>0</td>\n",
       "      <td>1</td>\n",
       "      <td>0</td>\n",
       "      <td>1</td>\n",
       "      <td>0</td>\n",
       "      <td>1</td>\n",
       "      <td>0</td>\n",
       "      <td>1</td>\n",
       "    </tr>\n",
       "    <tr>\n",
       "      <th>77</th>\n",
       "      <td>VALLEY CENTER FOR REPRODUCTIVE HEALTH</td>\n",
       "      <td>100.0</td>\n",
       "      <td>71.0</td>\n",
       "      <td>0.0</td>\n",
       "      <td>3.0</td>\n",
       "      <td>0.0</td>\n",
       "      <td>10.0</td>\n",
       "      <td>6.0</td>\n",
       "      <td>15.0</td>\n",
       "      <td>6.0</td>\n",
       "      <td>...</td>\n",
       "      <td>0</td>\n",
       "      <td>1</td>\n",
       "      <td>0</td>\n",
       "      <td>1</td>\n",
       "      <td>0</td>\n",
       "      <td>1</td>\n",
       "      <td>0</td>\n",
       "      <td>1</td>\n",
       "      <td>0</td>\n",
       "      <td>1</td>\n",
       "    </tr>\n",
       "    <tr>\n",
       "      <th>251</th>\n",
       "      <td>FERTILITY CENTER OF LAS VEGAS</td>\n",
       "      <td>100.0</td>\n",
       "      <td>100.0</td>\n",
       "      <td>0.0</td>\n",
       "      <td>40.0</td>\n",
       "      <td>20.0</td>\n",
       "      <td>9.0</td>\n",
       "      <td>3.0</td>\n",
       "      <td>48.0</td>\n",
       "      <td>1.0</td>\n",
       "      <td>...</td>\n",
       "      <td>0</td>\n",
       "      <td>1</td>\n",
       "      <td>0</td>\n",
       "      <td>1</td>\n",
       "      <td>0</td>\n",
       "      <td>1</td>\n",
       "      <td>0</td>\n",
       "      <td>1</td>\n",
       "      <td>0</td>\n",
       "      <td>1</td>\n",
       "    </tr>\n",
       "    <tr>\n",
       "      <th>276</th>\n",
       "      <td>CENTER FOR REPRODUCTIVE MEDICINE OF NEW MEXICO</td>\n",
       "      <td>100.0</td>\n",
       "      <td>80.0</td>\n",
       "      <td>0.0</td>\n",
       "      <td>0.0</td>\n",
       "      <td>35.0</td>\n",
       "      <td>5.0</td>\n",
       "      <td>11.0</td>\n",
       "      <td>25.0</td>\n",
       "      <td>3.0</td>\n",
       "      <td>...</td>\n",
       "      <td>0</td>\n",
       "      <td>0</td>\n",
       "      <td>0</td>\n",
       "      <td>0</td>\n",
       "      <td>0</td>\n",
       "      <td>0</td>\n",
       "      <td>0</td>\n",
       "      <td>0</td>\n",
       "      <td>0</td>\n",
       "      <td>0</td>\n",
       "    </tr>\n",
       "    <tr>\n",
       "      <th>437</th>\n",
       "      <td>LIFESOURCE FERTILITY CENTER</td>\n",
       "      <td>100.0</td>\n",
       "      <td>89.0</td>\n",
       "      <td>0.0</td>\n",
       "      <td>0.0</td>\n",
       "      <td>0.0</td>\n",
       "      <td>9.0</td>\n",
       "      <td>17.0</td>\n",
       "      <td>30.0</td>\n",
       "      <td>10.0</td>\n",
       "      <td>...</td>\n",
       "      <td>0</td>\n",
       "      <td>0</td>\n",
       "      <td>0</td>\n",
       "      <td>0</td>\n",
       "      <td>0</td>\n",
       "      <td>0</td>\n",
       "      <td>0</td>\n",
       "      <td>0</td>\n",
       "      <td>0</td>\n",
       "      <td>0</td>\n",
       "    </tr>\n",
       "  </tbody>\n",
       "</table>\n",
       "<p>18 rows × 111 columns</p>\n",
       "</div>"
      ],
      "text/plain": [
       "                                      PrevClinName1  IVF_Rate  ICSI_Rate  \\\n",
       "6                   NEW DIRECTION FERTILITY CENTERS     100.0       71.0   \n",
       "12             ARIZONA CENTER FOR FERTILITY STUDIES       0.0        0.0   \n",
       "15                   FERTILITY TREATMENT CENTER, PC     100.0       55.0   \n",
       "20        ALTA BATES IN VITRO FERTILIZATION PROGRAM     100.0       67.0   \n",
       "21      CENTER FOR REPRODUCTIVE HEALTH & GYNECOLOGY     100.0       66.0   \n",
       "23                  FERTILITY CARE OF ORANGE COUNTY     100.0      100.0   \n",
       "26      CALIFORNIA CENTER FOR REPRODUCTIVE MEDICINE     100.0       85.0   \n",
       "34                           MARIN FERTILITY CENTER     100.0       88.0   \n",
       "43                             CHA FERTILITY CENTER     100.0       84.0   \n",
       "45                            UCLA FERTILITY CENTER     100.0       84.0   \n",
       "47                      INNOVATIVE FERTILITY CENTER     100.0      100.0   \n",
       "51                         NEWPORT FERTILITY CENTER     100.0      100.0   \n",
       "55                         LANE FERTILITY INSTITUTE     100.0       57.0   \n",
       "65             REPRODUCTIVE SCIENCES MEDICAL CENTER     100.0      100.0   \n",
       "77            VALLEY CENTER FOR REPRODUCTIVE HEALTH     100.0       71.0   \n",
       "251                   FERTILITY CENTER OF LAS VEGAS     100.0      100.0   \n",
       "276  CENTER FOR REPRODUCTIVE MEDICINE OF NEW MEXICO     100.0       80.0   \n",
       "437                     LIFESOURCE FERTILITY CENTER     100.0       89.0   \n",
       "\n",
       "     Unstimulated_Rate  Gest_Rate  PGD_Rate  Diag_TubalRate  \\\n",
       "6                  0.0        0.0      21.0             9.0   \n",
       "12                 0.0        0.0       0.0            14.0   \n",
       "15                 3.0        0.0       0.0             1.0   \n",
       "20                 0.0        4.0       4.0             5.0   \n",
       "21                 0.0        0.0      23.0            13.0   \n",
       "23                 0.0        0.0       0.0            12.0   \n",
       "26                 0.0        0.0      23.0             8.0   \n",
       "34                 3.0        0.0       6.0            13.0   \n",
       "43                 5.0        0.0       0.0             5.0   \n",
       "45                 4.0        0.0       0.0             2.0   \n",
       "47                 0.0        0.0      22.0             8.0   \n",
       "51                 0.0        0.0       0.0            17.0   \n",
       "55                 0.0        0.0       0.0             5.0   \n",
       "65                 0.0       26.0      63.0             9.0   \n",
       "77                 0.0        3.0       0.0            10.0   \n",
       "251                0.0       40.0      20.0             9.0   \n",
       "276                0.0        0.0      35.0             5.0   \n",
       "437                0.0        0.0       0.0             9.0   \n",
       "\n",
       "     Diag_OvulatoryRate  Diag_DORRate  Diag_EndometriosisRate  ...  \\\n",
       "6                  20.0          15.0                    13.0  ...   \n",
       "12                 17.0          21.0                    13.0  ...   \n",
       "15                 64.0          35.0                     4.0  ...   \n",
       "20                  6.0          47.0                     9.0  ...   \n",
       "21                  2.0          47.0                     3.0  ...   \n",
       "23                 11.0          39.0                     0.0  ...   \n",
       "26                  4.0          39.0                     4.0  ...   \n",
       "34                 10.0          28.0                    10.0  ...   \n",
       "43                  3.0          43.0                     3.0  ...   \n",
       "45                 12.0           5.0                     8.0  ...   \n",
       "47                  3.0          23.0                     2.0  ...   \n",
       "51                 13.0          56.0                    15.0  ...   \n",
       "55                  9.0          37.0                     5.0  ...   \n",
       "65                 10.0          36.0                     4.0  ...   \n",
       "77                  6.0          15.0                     6.0  ...   \n",
       "251                 3.0          48.0                     1.0  ...   \n",
       "276                11.0          25.0                     3.0  ...   \n",
       "437                17.0          30.0                    10.0  ...   \n",
       "\n",
       "     SART_Member_No  SART_Member_Yes  Surrogates_No  Surrogates_Yes  \\\n",
       "6                 1                0              1               0   \n",
       "12                1                0              0               1   \n",
       "15                0                1              0               1   \n",
       "20                0                1              0               1   \n",
       "21                0                1              0               1   \n",
       "23                1                0              0               1   \n",
       "26                0                1              0               1   \n",
       "34                1                0              0               1   \n",
       "43                0                1              0               1   \n",
       "45                0                1              0               1   \n",
       "47                1                0              0               1   \n",
       "51                1                0              0               1   \n",
       "55                0                1              0               1   \n",
       "65                0                1              0               1   \n",
       "77                0                1              0               1   \n",
       "251               0                1              0               1   \n",
       "276               0                0              0               0   \n",
       "437               0                0              0               0   \n",
       "\n",
       "     SingleWomen_No  SingleWomen_Yes  DonorEmbryo_No  DonorEmbryo_Yes  \\\n",
       "6                 0                1               1                0   \n",
       "12                0                1               0                1   \n",
       "15                0                1               0                1   \n",
       "20                0                1               0                1   \n",
       "21                0                1               0                1   \n",
       "23                0                1               0                1   \n",
       "26                0                1               0                1   \n",
       "34                0                1               1                0   \n",
       "43                0                1               1                0   \n",
       "45                0                1               0                1   \n",
       "47                0                1               0                1   \n",
       "51                0                1               1                0   \n",
       "55                0                1               0                1   \n",
       "65                0                1               0                1   \n",
       "77                0                1               0                1   \n",
       "251               0                1               0                1   \n",
       "276               0                0               0                0   \n",
       "437               0                0               0                0   \n",
       "\n",
       "     DonorEgg_No  DonorEgg_Yes  \n",
       "6              0             1  \n",
       "12             0             1  \n",
       "15             0             1  \n",
       "20             0             1  \n",
       "21             0             1  \n",
       "23             0             1  \n",
       "26             0             1  \n",
       "34             0             1  \n",
       "43             0             1  \n",
       "45             0             1  \n",
       "47             0             1  \n",
       "51             0             1  \n",
       "55             0             1  \n",
       "65             0             1  \n",
       "77             0             1  \n",
       "251            0             1  \n",
       "276            0             0  \n",
       "437            0             0  \n",
       "\n",
       "[18 rows x 111 columns]"
      ]
     },
     "execution_count": 252,
     "metadata": {},
     "output_type": "execute_result"
    }
   ],
   "source": [
    "df_test"
   ]
  },
  {
   "cell_type": "code",
   "execution_count": 258,
   "metadata": {},
   "outputs": [
    {
     "data": {
      "text/plain": [
       "<matplotlib.axes._subplots.AxesSubplot at 0x1a23af3050>"
      ]
     },
     "execution_count": 258,
     "metadata": {},
     "output_type": "execute_result"
    },
    {
     "data": {
      "image/png": "[encoded data removed]",
      "text/plain": [
       "<Figure size 432x288 with 1 Axes>"
      ]
     },
     "metadata": {
      "needs_background": "light"
     },
     "output_type": "display_data"
    }
   ],
   "source": [
    "sns.scatterplot(data=df_model_rf,x='FshNDCycle1',y='FshNDLvBirthsRate1')"
   ]
  },
  {
   "cell_type": "code",
   "execution_count": 320,
   "metadata": {},
   "outputs": [
    {
     "name": "stdout",
     "output_type": "stream",
     "text": [
      "Feature: 0, Score: 0.00001\n",
      "IVF_Rate\n",
      "Feature: 1, Score: 0.00102\n",
      "ICSI_Rate\n",
      "Feature: 2, Score: 0.00011\n",
      "Unstimulated_Rate\n",
      "Feature: 3, Score: 0.00017\n",
      "Gest_Rate\n",
      "Feature: 4, Score: 0.00064\n",
      "PGD_Rate\n",
      "Feature: 5, Score: 0.00117\n",
      "Diag_TubalRate\n",
      "Feature: 6, Score: 0.00070\n",
      "Diag_OvulatoryRate\n",
      "Feature: 7, Score: 0.00090\n",
      "Diag_DORRate\n",
      "Feature: 8, Score: 0.00072\n",
      "Diag_EndometriosisRate\n",
      "Feature: 9, Score: 0.00076\n",
      "Diag_UterineRate\n",
      "Feature: 10, Score: 0.00134\n",
      "Diag_MaleRate\n",
      "Feature: 11, Score: 0.00121\n",
      "Diag_OtherRate\n",
      "Feature: 12, Score: 0.00049\n",
      "Diag_UnknownRate\n",
      "Feature: 13, Score: 0.00053\n",
      "Diag_ComboNoMaleRate\n",
      "Feature: 14, Score: 0.00088\n",
      "Diag_ComboMaleRate\n",
      "Feature: 15, Score: 0.00094\n",
      "TotNumCyclesAll\n",
      "Feature: 16, Score: 0.00127\n",
      "TotUsingFrozenEggs\n",
      "Feature: 17, Score: 0.00118\n",
      "FshNDCycle1\n",
      "Feature: 18, Score: 0.00130\n",
      "FshNDCycle2\n",
      "Feature: 19, Score: 0.00058\n",
      "FshNDCycle3\n",
      "Feature: 20, Score: 0.00058\n",
      "FshNDCycle4\n",
      "Feature: 21, Score: 0.00098\n",
      "FshNDCycle5\n",
      "Feature: 22, Score: 0.00040\n",
      "FshNDCycle6\n",
      "Feature: 23, Score: 0.00105\n",
      "FshNDCansRate1\n",
      "Feature: 24, Score: 0.00067\n",
      "FshNDCansRate2\n",
      "Feature: 25, Score: 0.00080\n",
      "FshNDCansRate3\n",
      "Feature: 26, Score: 0.00044\n",
      "FshNDCansRate4\n",
      "Feature: 27, Score: 0.00047\n",
      "FshNDCansRate5\n",
      "Feature: 28, Score: 0.00005\n",
      "FshNDCansRate6\n",
      "Feature: 29, Score: 0.00068\n",
      "FshNDEmbryosRate1\n",
      "Feature: 30, Score: 0.00046\n",
      "FshNDEmbryosRate2\n",
      "Feature: 31, Score: 0.00093\n",
      "FshNDEmbryosRate3\n",
      "Feature: 32, Score: 0.00063\n",
      "FshNDEmbryosRate4\n",
      "Feature: 33, Score: 0.00064\n",
      "FshNDEmbryosRate5\n",
      "Feature: 34, Score: 0.00061\n",
      "FshNDEmbryosRate6\n",
      "Feature: 35, Score: 0.00087\n",
      "FshNDImplant1\n",
      "Feature: 36, Score: 0.00080\n",
      "FshNDImplant2\n",
      "Feature: 37, Score: 0.12593\n",
      "FshNDImplant3\n",
      "Feature: 38, Score: 0.00034\n",
      "FshNDImplant4\n",
      "Feature: 39, Score: 0.00090\n",
      "FshNDImplant5\n",
      "Feature: 40, Score: 0.00038\n",
      "FshNDImplant6\n",
      "Feature: 41, Score: 0.00017\n",
      "FshNDLvBirthsRate2\n",
      "Feature: 42, Score: 0.00080\n",
      "FshNDLvBirthsRate3\n",
      "Feature: 43, Score: 0.53367\n",
      "FshNDLvBirthsRate4\n",
      "Feature: 44, Score: 0.00028\n",
      "FshNDLvBirthsRate5\n",
      "Feature: 45, Score: 0.00043\n",
      "FshNDLvBirthsRate6\n",
      "Feature: 46, Score: 0.00026\n",
      "FshNDTransfers1\n",
      "Feature: 47, Score: 0.00014\n",
      "FshNDTransfers2\n",
      "Feature: 48, Score: 0.00181\n",
      "FshNDTransfers3\n",
      "Feature: 49, Score: 0.00129\n",
      "FshNDTransfers4\n",
      "Feature: 50, Score: 0.00079\n",
      "FshNDTransfers5\n",
      "Feature: 51, Score: 0.00097\n",
      "FshNDTransfers6\n",
      "Feature: 52, Score: 0.00038\n",
      "ThwNDTotCycles1\n",
      "Feature: 53, Score: 0.00015\n",
      "ThwNDTotCycles2\n",
      "Feature: 54, Score: 0.00208\n",
      "ThwNDTotCycles3\n",
      "Feature: 55, Score: 0.00230\n",
      "ThwNDTotCycles4\n",
      "Feature: 56, Score: 0.00096\n",
      "ThwNDTotCycles5\n",
      "Feature: 57, Score: 0.00142\n",
      "ThwNDTotCycles6\n",
      "Feature: 58, Score: 0.00053\n",
      "ThwNDTransfers1\n",
      "Feature: 59, Score: 0.00022\n",
      "ThwNDTransfers2\n",
      "Feature: 60, Score: 0.00161\n",
      "ThwNDTransfers3\n",
      "Feature: 61, Score: 0.27175\n",
      "ThwNDTransfers4\n",
      "Feature: 62, Score: 0.00176\n",
      "ThwNDTransfers5\n",
      "Feature: 63, Score: 0.00014\n",
      "ThwNDTransfers6\n",
      "Feature: 64, Score: 0.00006\n",
      "ThwNDEstTransPerRetrievRate1\n",
      "Feature: 65, Score: 0.00001\n",
      "ThwNDEstTransPerRetrievRate2\n",
      "Feature: 66, Score: 0.00524\n",
      "ThwNDEstTransPerRetrievRate3\n",
      "Feature: 67, Score: 0.00261\n",
      "ThwNDEstTransPerRetrievRate4\n",
      "Feature: 68, Score: 0.00006\n",
      "ThwNDEstTransPerRetrievRate5\n",
      "Feature: 69, Score: 0.00003\n",
      "ThwNDEstTransPerRetrievRate6\n",
      "Feature: 70, Score: 0.00001\n",
      "ThwNDEmbryosRate1\n",
      "Feature: 71, Score: 0.00037\n",
      "ThwNDEmbryosRate2\n",
      "Feature: 72, Score: 0.00050\n",
      "ThwNDEmbryosRate3\n",
      "Feature: 73, Score: 0.00037\n",
      "ThwNDEmbryosRate4\n",
      "Feature: 74, Score: 0.00105\n",
      "ThwNDEmbryosRate5\n",
      "Feature: 75, Score: 0.00034\n",
      "ThwNDEmbryosRate6\n",
      "Feature: 76, Score: 0.00021\n",
      "ThwNDImplant1\n",
      "Feature: 77, Score: 0.00040\n",
      "ThwNDImplant2\n",
      "Feature: 78, Score: 0.00058\n",
      "ThwNDImplant3\n",
      "Feature: 79, Score: 0.00044\n",
      "ThwNDImplant4\n",
      "Feature: 80, Score: 0.00046\n",
      "ThwNDImplant5\n",
      "Feature: 81, Score: 0.00107\n",
      "ThwNDImplant6\n",
      "Feature: 82, Score: 0.00103\n",
      "ThwNDLvBirths_TransRate1\n",
      "Feature: 83, Score: 0.00032\n",
      "ThwNDLvBirths_TransRate2\n",
      "Feature: 84, Score: 0.00079\n",
      "ThwNDLvBirths_TransRate3\n",
      "Feature: 85, Score: 0.00018\n",
      "ThwNDLvBirths_TransRate4\n",
      "Feature: 86, Score: 0.00102\n",
      "ThwNDLvBirths_TransRate5\n",
      "Feature: 87, Score: 0.00017\n",
      "ThwNDLvBirths_TransRate6\n",
      "Feature: 88, Score: 0.00046\n",
      "TotBankingCycles1\n",
      "Feature: 89, Score: 0.00035\n",
      "TotBankingCycles2\n",
      "Feature: 90, Score: 0.00048\n",
      "TotBankingCycles3\n",
      "Feature: 91, Score: 0.00018\n",
      "TotBankingCycles4\n",
      "Feature: 92, Score: 0.00071\n",
      "TotBankingCycles5\n",
      "Feature: 93, Score: 0.00040\n",
      "TotBankingCycles6\n",
      "Feature: 94, Score: 0.00088\n",
      "FshDnrTotCycles\n",
      "Feature: 95, Score: 0.00000\n",
      "ThwDnrTotCycles\n",
      "Feature: 96, Score: 0.00008\n",
      "FshDnrTransfers\n",
      "Feature: 97, Score: 0.00001\n",
      "ThwDnrTransfers\n",
      "Feature: 98, Score: 0.00002\n",
      "FshDnrEmbryosRate\n",
      "Feature: 99, Score: 0.00006\n",
      "ThwDnrEmbryosRate\n",
      "Feature: 100, Score: 0.00004\n",
      "FshDnrImplant\n",
      "Feature: 101, Score: 0.00004\n",
      "ThwDnrImplant\n",
      "Feature: 102, Score: 0.00004\n",
      "FshDnrHealthSnglLB_TransRate\n",
      "Feature: 103, Score: 0.00001\n",
      "ThwDnrHealthSnglLB_TransRate\n",
      "Feature: 104, Score: 0.00000\n",
      "FshDnrSnglLB_TransRate\n",
      "Feature: 105, Score: 0.00008\n",
      "ThwDnrSnglLB_TransRate\n",
      "Feature: 106, Score: 0.00006\n",
      "FshDnrTwinLB_TransRate\n",
      "Feature: 107, Score: 0.00018\n",
      "ThwDnrTwinLB_TransRate\n",
      "Feature: 108, Score: 0.00013\n",
      "FshDnrLvBirths_TransRate\n"
     ]
    },
    {
     "data": {
      "image/png": "[encoded data removed]",
      "text/plain": [
       "<Figure size 432x288 with 1 Axes>"
      ]
     },
     "metadata": {
      "needs_background": "light"
     },
     "output_type": "display_data"
    }
   ],
   "source": [
    "importance = regressor.feature_importances_\n",
    "feature_name = x.columns\n",
    "# summarize feature importance\n",
    "for i,v in enumerate(importance):\n",
    "    print('Feature: %0d, Score: %.5f' % (i,v))\n",
    "    print(feature_name[i])\n",
    "# plot feature importance\n",
    "plt.bar([x for x in range(len(importance))], importance)\n",
    "plt.show()"
   ]
  },
  {
   "cell_type": "code",
   "execution_count": 321,
   "metadata": {},
   "outputs": [
    {
     "data": {
      "image/png": "[encoded data removed]",
      "text/plain": [
       "<Figure size 864x720 with 1 Axes>"
      ]
     },
     "metadata": {
      "needs_background": "light"
     },
     "output_type": "display_data"
    }
   ],
   "source": [
    "# plot feature importance\n",
    "plt.figure(figsize=(12,10))\n",
    "plt.bar([x for x in range(len(importance))], importance)\n",
    "plt.show()"
   ]
  },
  {
   "cell_type": "code",
   "execution_count": 299,
   "metadata": {},
   "outputs": [
    {
     "data": {
      "text/plain": [
       "[0.0,\n",
       " 7.581062290012352e-06,\n",
       " 2.249738418472416e-05,\n",
       " 2.2955393692632154e-05,\n",
       " 2.753959742657389e-05,\n",
       " 2.85030515833577e-05,\n",
       " 3.814458934290403e-05,\n",
       " 3.835186873277559e-05,\n",
       " 4.836046434689696e-05,\n",
       " 7.811294067376192e-05,\n",
       " 9.693024266329023e-05,\n",
       " 0.00012295694547853863,\n",
       " 0.00013723062371095976,\n",
       " 0.0001399035103084367,\n",
       " 0.0001470389130345328,\n",
       " 0.0001572411912135195,\n",
       " 0.00016839904014131086,\n",
       " 0.00017032548897951615,\n",
       " 0.0001745669406799574,\n",
       " 0.00020749221793701762,\n",
       " 0.00021788270354280726,\n",
       " 0.00025564802010397494,\n",
       " 0.00033615188166775885,\n",
       " 0.0003757115941257404,\n",
       " 0.00042468609476798845,\n",
       " 0.0005105952115581617,\n",
       " 0.0005155101996527177,\n",
       " 0.0005474895105863234,\n",
       " 0.0005772130481805078,\n",
       " 0.0005857750542314022,\n",
       " 0.0006097181851707268,\n",
       " 0.0007076863315374582,\n",
       " 0.0007372415084234273,\n",
       " 0.0007585445386382912,\n",
       " 0.0007836538778857804,\n",
       " 0.0007952368407118657,\n",
       " 0.0008235035032746658,\n",
       " 0.000840984899381224,\n",
       " 0.0008466758925555856,\n",
       " 0.0008470243116713643,\n",
       " 0.0008779708401149827,\n",
       " 0.0009087476889185328,\n",
       " 0.0009471977545396037,\n",
       " 0.0009893489917632752,\n",
       " 0.0010017749321873937,\n",
       " 0.001034782034252065,\n",
       " 0.0010524211614086024,\n",
       " 0.0010779453242013167,\n",
       " 0.001109620331887978,\n",
       " 0.0011190716731299486,\n",
       " 0.0011504786678538967,\n",
       " 0.0011925492572208661,\n",
       " 0.0012076869043872295,\n",
       " 0.001231148050481907,\n",
       " 0.0012572625122664032,\n",
       " 0.0012729648925654201,\n",
       " 0.0013333684235179188,\n",
       " 0.0014147815150517148,\n",
       " 0.0014340717141370432,\n",
       " 0.0014697066772108775,\n",
       " 0.0014954443232135805,\n",
       " 0.0015344414239584373,\n",
       " 0.0015355231392568279,\n",
       " 0.0016367845172727774,\n",
       " 0.0016456101044437718,\n",
       " 0.0017225373641559585,\n",
       " 0.001791684525819595,\n",
       " 0.0018237688461872508,\n",
       " 0.0018250687571896558,\n",
       " 0.001902960200749466,\n",
       " 0.0019094219915825282,\n",
       " 0.0019310037432196502,\n",
       " 0.0019498273271050164,\n",
       " 0.001969791782549623,\n",
       " 0.0019723851639989213,\n",
       " 0.002075076667015278,\n",
       " 0.0021845139875864322,\n",
       " 0.0022613098206229346,\n",
       " 0.002334406504556618,\n",
       " 0.0024106884973751196,\n",
       " 0.0024570467446304403,\n",
       " 0.0024634238048164936,\n",
       " 0.002719122812365427,\n",
       " 0.0028871529195392213,\n",
       " 0.0028878594013689875,\n",
       " 0.00289859338211627,\n",
       " 0.003040570114253216,\n",
       " 0.003133057147250409,\n",
       " 0.0034139677342412767,\n",
       " 0.003417782578989629,\n",
       " 0.003677702498412717,\n",
       " 0.003902935819306494,\n",
       " 0.004061574142242307,\n",
       " 0.0041225018892530295,\n",
       " 0.004215731913308996,\n",
       " 0.004250704423262708,\n",
       " 0.004641531808591824,\n",
       " 0.004664207652829292,\n",
       " 0.0052466938292296764,\n",
       " 0.0054372218728807944,\n",
       " 0.0062654041622005885,\n",
       " 0.006664104949429468,\n",
       " 0.0076854583653532095,\n",
       " 0.00789126132116446,\n",
       " 0.012201092510509392,\n",
       " 0.012980825109466928,\n",
       " 0.013441917810452864,\n",
       " 0.04207435575596131,\n",
       " 0.7423299848175274]"
      ]
     },
     "execution_count": 299,
     "metadata": {},
     "output_type": "execute_result"
    }
   ],
   "source": [
    "sorted(regressor.feature_importances_)"
   ]
  },
  {
   "cell_type": "code",
   "execution_count": 303,
   "metadata": {},
   "outputs": [
    {
     "data": {
      "text/plain": [
       "<matplotlib.axes._subplots.AxesSubplot at 0x1a37cbfe90>"
      ]
     },
     "execution_count": 303,
     "metadata": {},
     "output_type": "execute_result"
    },
    {
     "data": {
      "image/png": "[encoded data removed]",
      "text/plain": [
       "<Figure size 432x288 with 1 Axes>"
      ]
     },
     "metadata": {
      "needs_background": "light"
     },
     "output_type": "display_data"
    }
   ],
   "source": [
    "sns.scatterplot(data=df_model,x='ThwNDTransfers3',y='ThwNDLvBirths_TransRate1')"
   ]
  },
  {
   "cell_type": "code",
   "execution_count": 171,
   "metadata": {},
   "outputs": [
    {
     "data": {
      "text/plain": [
       "array([[100.,  71.,   0., ...,   1.,   0.,   1.],\n",
       "       [100.,  81.,   0., ...,   1.,   0.,   1.],\n",
       "       [100.,  67.,   0., ...,   1.,   0.,   1.],\n",
       "       ...,\n",
       "       [100.,  56.,   0., ...,   1.,   0.,   1.],\n",
       "       [100.,  67.,   0., ...,   1.,   0.,   1.],\n",
       "       [100.,  58.,   4., ...,   1.,   0.,   1.]])"
      ]
     },
     "execution_count": 171,
     "metadata": {},
     "output_type": "execute_result"
    }
   ],
   "source": []
  },
  {
   "cell_type": "code",
   "execution_count": 172,
   "metadata": {},
   "outputs": [],
   "source": [
    "x = df_model_rf.drop(columns=['PrevClinName1','FshNDLvBirthsRate1'],axis=1)"
   ]
  },
  {
   "cell_type": "code",
   "execution_count": 173,
   "metadata": {},
   "outputs": [
    {
     "data": {
      "text/plain": [
       "Index(['IVF_Rate', 'ICSI_Rate', 'Unstimulated_Rate', 'Gest_Rate', 'PGD_Rate',\n",
       "       'Diag_TubalRate', 'Diag_OvulatoryRate', 'Diag_DORRate',\n",
       "       'Diag_EndometriosisRate', 'Diag_UterineRate',\n",
       "       ...\n",
       "       'SART_Member_No', 'SART_Member_Yes', 'Surrogates_No', 'Surrogates_Yes',\n",
       "       'SingleWomen_No', 'SingleWomen_Yes', 'DonorEmbryo_No',\n",
       "       'DonorEmbryo_Yes', 'DonorEgg_No', 'DonorEgg_Yes'],\n",
       "      dtype='object', length=126)"
      ]
     },
     "execution_count": 173,
     "metadata": {},
     "output_type": "execute_result"
    }
   ],
   "source": [
    "x.columns"
   ]
  },
  {
   "cell_type": "code",
   "execution_count": null,
   "metadata": {},
   "outputs": [],
   "source": []
  }
 ],
 "metadata": {
  "kernelspec": {
   "display_name": "Python 3",
   "language": "python",
   "name": "python3"
  },
  "language_info": {
   "codemirror_mode": {
    "name": "ipython",
    "version": 3
   },
   "file_extension": ".py",
   "mimetype": "text/x-python",
   "name": "python",
   "nbconvert_exporter": "python",
   "pygments_lexer": "ipython3",
   "version": "3.7.6"
  }
 },
 "nbformat": 4,
 "nbformat_minor": 4
}
