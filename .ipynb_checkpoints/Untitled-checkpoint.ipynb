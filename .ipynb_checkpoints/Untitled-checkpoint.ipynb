{
 "cells": [
  {
   "cell_type": "code",
   "execution_count": 1,
   "metadata": {},
   "outputs": [],
   "source": [
    "# Use Random forest regression to evaluate important data features"
   ]
  },
  {
   "cell_type": "code",
   "execution_count": 32,
   "metadata": {},
   "outputs": [],
   "source": [
    "import pandas as pd\n",
    "import matplotlib.pyplot as plt\n",
    "import seaborn as sns\n",
    "import numpy as np\n",
    "from numpy import nan"
   ]
  },
  {
   "cell_type": "code",
   "execution_count": 3,
   "metadata": {},
   "outputs": [
    {
     "data": {
      "text/plain": [
       "(464, 215)"
      ]
     },
     "execution_count": 3,
     "metadata": {},
     "output_type": "execute_result"
    }
   ],
   "source": [
    "df_2015 = pd.read_excel(\"IVF Datasets/FINAL-2015-clinic-table-dataset.xls\",sheet_name=\"Clinic Table Data Records\")\n",
    "df_2015['Year']='2015'\n",
    "#convert_col_to_num(df_2015)\n",
    "df_2015.shape"
   ]
  },
  {
   "cell_type": "code",
   "execution_count": 29,
   "metadata": {},
   "outputs": [],
   "source": [
    "#Function to remove \n",
    "def convert_to_num(val):\n",
    "    if type(val) == int or type(val)==float:\n",
    "        return val\n",
    "    \n",
    "    elif '*' in val:\n",
    "        return 0\n",
    "    \n",
    "    elif '/' in val:\n",
    "        t = val.split('/')\n",
    "        t = [int(i) for i in t]\n",
    "        if t[0] == 0:\n",
    "            return 0\n",
    "        elif t[1]<10:\n",
    "            return nan\n",
    "        else:\n",
    "            return 100*t[0]/t[1]\n",
    "        \n",
    "    elif '<' in val:\n",
    "        val= ''.join(char for char in val if char != '<')\n",
    "        val= ''.join(char for char in val if char != '%')\n",
    "        return float(val)\n",
    "    \n",
    "    elif '>' in val:\n",
    "        val= ''.join(char for char in val if char != '>')\n",
    "        val= ''.join(char for char in val if char != '%')\n",
    "        return float(val)\n",
    "    \n",
    "    elif '%' in val:\n",
    "        val= ''.join(char for char in val if char != '%')\n",
    "        return float(val)   \n",
    "    \n",
    "    elif ',' in val:\n",
    "        val= ''.join(char for char in val if char != ',')\n",
    "        return float(val)\n",
    "    \n",
    "    else:\n",
    "        return float(val)"
   ]
  },
  {
   "cell_type": "code",
   "execution_count": 5,
   "metadata": {},
   "outputs": [],
   "source": [
    "def convert_col_to_num (dataf):\n",
    "    for i in range (3,(len(dataf.columns))):\n",
    "        dataf[dataf.columns[i]] = dataf[dataf.columns[i]].apply(convert_to_num)\n",
    "    return dataf"
   ]
  },
  {
   "cell_type": "code",
   "execution_count": 6,
   "metadata": {},
   "outputs": [
    {
     "data": {
      "text/html": [
       "<div>\n",
       "<style scoped>\n",
       "    .dataframe tbody tr th:only-of-type {\n",
       "        vertical-align: middle;\n",
       "    }\n",
       "\n",
       "    .dataframe tbody tr th {\n",
       "        vertical-align: top;\n",
       "    }\n",
       "\n",
       "    .dataframe thead th {\n",
       "        text-align: right;\n",
       "    }\n",
       "</style>\n",
       "<table border=\"1\" class=\"dataframe\">\n",
       "  <thead>\n",
       "    <tr style=\"text-align: right;\">\n",
       "      <th></th>\n",
       "      <th>Order ID</th>\n",
       "      <th>PrevClinName1</th>\n",
       "      <th>PrevClinName2</th>\n",
       "      <th>ClinCityCode</th>\n",
       "      <th>ClinStateCode</th>\n",
       "      <th>IVF_Rate</th>\n",
       "      <th>ICSI_Rate</th>\n",
       "      <th>Unstimulated_Rate</th>\n",
       "      <th>Gest_Rate</th>\n",
       "      <th>PGD_Rate</th>\n",
       "      <th>...</th>\n",
       "      <th>DonorEgg</th>\n",
       "      <th>DonorEmbryo</th>\n",
       "      <th>SingleWomen</th>\n",
       "      <th>Surrogates</th>\n",
       "      <th>Cryopreservation</th>\n",
       "      <th>SART_Member</th>\n",
       "      <th>Accreditation</th>\n",
       "      <th>TotExcludedResearchCycles</th>\n",
       "      <th>state_code</th>\n",
       "      <th>Year</th>\n",
       "    </tr>\n",
       "  </thead>\n",
       "  <tbody>\n",
       "    <tr>\n",
       "      <th>0</th>\n",
       "      <td>1</td>\n",
       "      <td>ALABAMA FERTILITY SPECIALISTS</td>\n",
       "      <td>NaN</td>\n",
       "      <td>BIRMINGHAM</td>\n",
       "      <td>ALABAMA</td>\n",
       "      <td>100%</td>\n",
       "      <td>43%</td>\n",
       "      <td>0%</td>\n",
       "      <td>0%</td>\n",
       "      <td>0%</td>\n",
       "      <td>...</td>\n",
       "      <td>Yes</td>\n",
       "      <td>Yes</td>\n",
       "      <td>Yes</td>\n",
       "      <td>No</td>\n",
       "      <td>Yes</td>\n",
       "      <td>Yes</td>\n",
       "      <td>Yes</td>\n",
       "      <td>0</td>\n",
       "      <td>AL</td>\n",
       "      <td>2015</td>\n",
       "    </tr>\n",
       "    <tr>\n",
       "      <th>1</th>\n",
       "      <td>2</td>\n",
       "      <td>ART FERTILITY PROGRAM OF ALABAMA</td>\n",
       "      <td>NaN</td>\n",
       "      <td>BIRMINGHAM</td>\n",
       "      <td>ALABAMA</td>\n",
       "      <td>100%</td>\n",
       "      <td>74%</td>\n",
       "      <td>0%</td>\n",
       "      <td>0%</td>\n",
       "      <td>0%</td>\n",
       "      <td>...</td>\n",
       "      <td>Yes</td>\n",
       "      <td>Yes</td>\n",
       "      <td>Yes</td>\n",
       "      <td>Yes</td>\n",
       "      <td>Yes</td>\n",
       "      <td>Yes</td>\n",
       "      <td>Yes</td>\n",
       "      <td>0</td>\n",
       "      <td>AL</td>\n",
       "      <td>2015</td>\n",
       "    </tr>\n",
       "    <tr>\n",
       "      <th>2</th>\n",
       "      <td>3</td>\n",
       "      <td>UNIVERSITY OF ALABAMA AT BIRMINGHAM</td>\n",
       "      <td>REPRODUCTIVE ENDOCRINOLOGY AND INFERTILITY</td>\n",
       "      <td>BIRMINGHAM</td>\n",
       "      <td>ALABAMA</td>\n",
       "      <td>100%</td>\n",
       "      <td>60%</td>\n",
       "      <td>0%</td>\n",
       "      <td>0%</td>\n",
       "      <td>0%</td>\n",
       "      <td>...</td>\n",
       "      <td>Yes</td>\n",
       "      <td>No</td>\n",
       "      <td>Yes</td>\n",
       "      <td>Yes</td>\n",
       "      <td>Yes</td>\n",
       "      <td>Yes</td>\n",
       "      <td>Yes</td>\n",
       "      <td>0</td>\n",
       "      <td>AL</td>\n",
       "      <td>2015</td>\n",
       "    </tr>\n",
       "    <tr>\n",
       "      <th>3</th>\n",
       "      <td>4</td>\n",
       "      <td>HUNTSVILLE REPRODUCTIVE MEDICINE, PC</td>\n",
       "      <td>NaN</td>\n",
       "      <td>MADISON</td>\n",
       "      <td>ALABAMA</td>\n",
       "      <td>100%</td>\n",
       "      <td>96%</td>\n",
       "      <td>0%</td>\n",
       "      <td>0%</td>\n",
       "      <td>0%</td>\n",
       "      <td>...</td>\n",
       "      <td>Yes</td>\n",
       "      <td>Yes</td>\n",
       "      <td>Yes</td>\n",
       "      <td>Yes</td>\n",
       "      <td>Yes</td>\n",
       "      <td>No</td>\n",
       "      <td>No</td>\n",
       "      <td>0</td>\n",
       "      <td>AL</td>\n",
       "      <td>2015</td>\n",
       "    </tr>\n",
       "    <tr>\n",
       "      <th>4</th>\n",
       "      <td>5</td>\n",
       "      <td>CENTER FOR REPRODUCTIVE MEDICINE</td>\n",
       "      <td>NaN</td>\n",
       "      <td>MOBILE</td>\n",
       "      <td>ALABAMA</td>\n",
       "      <td>100%</td>\n",
       "      <td>78%</td>\n",
       "      <td>0%</td>\n",
       "      <td>2%</td>\n",
       "      <td>1%</td>\n",
       "      <td>...</td>\n",
       "      <td>Yes</td>\n",
       "      <td>Yes</td>\n",
       "      <td>Yes</td>\n",
       "      <td>Yes</td>\n",
       "      <td>Yes</td>\n",
       "      <td>Yes</td>\n",
       "      <td>Yes</td>\n",
       "      <td>0</td>\n",
       "      <td>AL</td>\n",
       "      <td>2015</td>\n",
       "    </tr>\n",
       "  </tbody>\n",
       "</table>\n",
       "<p>5 rows × 215 columns</p>\n",
       "</div>"
      ],
      "text/plain": [
       "   Order ID                         PrevClinName1  \\\n",
       "0         1         ALABAMA FERTILITY SPECIALISTS   \n",
       "1         2      ART FERTILITY PROGRAM OF ALABAMA   \n",
       "2         3   UNIVERSITY OF ALABAMA AT BIRMINGHAM   \n",
       "3         4  HUNTSVILLE REPRODUCTIVE MEDICINE, PC   \n",
       "4         5      CENTER FOR REPRODUCTIVE MEDICINE   \n",
       "\n",
       "                                PrevClinName2 ClinCityCode ClinStateCode  \\\n",
       "0                                         NaN   BIRMINGHAM       ALABAMA   \n",
       "1                                         NaN   BIRMINGHAM       ALABAMA   \n",
       "2  REPRODUCTIVE ENDOCRINOLOGY AND INFERTILITY   BIRMINGHAM       ALABAMA   \n",
       "3                                         NaN      MADISON       ALABAMA   \n",
       "4                                         NaN       MOBILE       ALABAMA   \n",
       "\n",
       "  IVF_Rate ICSI_Rate Unstimulated_Rate Gest_Rate PGD_Rate  ... DonorEgg  \\\n",
       "0     100%       43%                0%        0%       0%  ...      Yes   \n",
       "1     100%       74%                0%        0%       0%  ...      Yes   \n",
       "2     100%       60%                0%        0%       0%  ...      Yes   \n",
       "3     100%       96%                0%        0%       0%  ...      Yes   \n",
       "4     100%       78%                0%        2%       1%  ...      Yes   \n",
       "\n",
       "  DonorEmbryo SingleWomen Surrogates Cryopreservation SART_Member  \\\n",
       "0         Yes         Yes         No              Yes         Yes   \n",
       "1         Yes         Yes        Yes              Yes         Yes   \n",
       "2          No         Yes        Yes              Yes         Yes   \n",
       "3         Yes         Yes        Yes              Yes          No   \n",
       "4         Yes         Yes        Yes              Yes         Yes   \n",
       "\n",
       "  Accreditation TotExcludedResearchCycles state_code  Year  \n",
       "0           Yes                         0         AL  2015  \n",
       "1           Yes                         0         AL  2015  \n",
       "2           Yes                         0         AL  2015  \n",
       "3            No                         0         AL  2015  \n",
       "4           Yes                         0         AL  2015  \n",
       "\n",
       "[5 rows x 215 columns]"
      ]
     },
     "execution_count": 6,
     "metadata": {},
     "output_type": "execute_result"
    }
   ],
   "source": [
    "df_2015.head()"
   ]
  },
  {
   "cell_type": "code",
   "execution_count": 7,
   "metadata": {},
   "outputs": [
    {
     "data": {
      "text/plain": [
       "Index(['Order ID', 'PrevClinName1', 'PrevClinName2', 'ClinCityCode',\n",
       "       'ClinStateCode', 'IVF_Rate', 'ICSI_Rate', 'Unstimulated_Rate',\n",
       "       'Gest_Rate', 'PGD_Rate',\n",
       "       ...\n",
       "       'DonorEgg', 'DonorEmbryo', 'SingleWomen', 'Surrogates',\n",
       "       'Cryopreservation', 'SART_Member', 'Accreditation',\n",
       "       'TotExcludedResearchCycles', 'state_code', 'Year'],\n",
       "      dtype='object', length=215)"
      ]
     },
     "execution_count": 7,
     "metadata": {},
     "output_type": "execute_result"
    }
   ],
   "source": [
    "df_2015.columns"
   ]
  },
  {
   "cell_type": "code",
   "execution_count": 8,
   "metadata": {},
   "outputs": [],
   "source": [
    "df = df_2015.drop(['Order ID','PrevClinName2','ClinCityCode','ClinStateCode','state_code'],axis=1)"
   ]
  },
  {
   "cell_type": "code",
   "execution_count": 9,
   "metadata": {},
   "outputs": [
    {
     "data": {
      "text/plain": [
       "Index(['PrevClinName1', 'IVF_Rate', 'ICSI_Rate', 'Unstimulated_Rate',\n",
       "       'Gest_Rate', 'PGD_Rate', 'Diag_TubalRate', 'Diag_OvulatoryRate',\n",
       "       'Diag_DORRate', 'Diag_EndometriosisRate',\n",
       "       ...\n",
       "       'CurrClinNameAll', 'DonorEgg', 'DonorEmbryo', 'SingleWomen',\n",
       "       'Surrogates', 'Cryopreservation', 'SART_Member', 'Accreditation',\n",
       "       'TotExcludedResearchCycles', 'Year'],\n",
       "      dtype='object', length=210)"
      ]
     },
     "execution_count": 9,
     "metadata": {},
     "output_type": "execute_result"
    }
   ],
   "source": [
    "df.columns"
   ]
  },
  {
   "cell_type": "code",
   "execution_count": 12,
   "metadata": {},
   "outputs": [
    {
     "data": {
      "text/html": [
       "<div>\n",
       "<style scoped>\n",
       "    .dataframe tbody tr th:only-of-type {\n",
       "        vertical-align: middle;\n",
       "    }\n",
       "\n",
       "    .dataframe tbody tr th {\n",
       "        vertical-align: top;\n",
       "    }\n",
       "\n",
       "    .dataframe thead th {\n",
       "        text-align: right;\n",
       "    }\n",
       "</style>\n",
       "<table border=\"1\" class=\"dataframe\">\n",
       "  <thead>\n",
       "    <tr style=\"text-align: right;\">\n",
       "      <th></th>\n",
       "      <th>PrevClinName1</th>\n",
       "      <th>IVF_Rate</th>\n",
       "      <th>ICSI_Rate</th>\n",
       "      <th>Unstimulated_Rate</th>\n",
       "      <th>Gest_Rate</th>\n",
       "      <th>PGD_Rate</th>\n",
       "      <th>Diag_TubalRate</th>\n",
       "      <th>Diag_OvulatoryRate</th>\n",
       "      <th>Diag_DORRate</th>\n",
       "      <th>Diag_EndometriosisRate</th>\n",
       "      <th>...</th>\n",
       "      <th>CurrClinNameAll</th>\n",
       "      <th>DonorEgg</th>\n",
       "      <th>DonorEmbryo</th>\n",
       "      <th>SingleWomen</th>\n",
       "      <th>Surrogates</th>\n",
       "      <th>Cryopreservation</th>\n",
       "      <th>SART_Member</th>\n",
       "      <th>Accreditation</th>\n",
       "      <th>TotExcludedResearchCycles</th>\n",
       "      <th>Year</th>\n",
       "    </tr>\n",
       "  </thead>\n",
       "  <tbody>\n",
       "    <tr>\n",
       "      <th>0</th>\n",
       "      <td>ALABAMA FERTILITY SPECIALISTS</td>\n",
       "      <td>100%</td>\n",
       "      <td>43%</td>\n",
       "      <td>0%</td>\n",
       "      <td>0%</td>\n",
       "      <td>0%</td>\n",
       "      <td>23%</td>\n",
       "      <td>26%</td>\n",
       "      <td>14%</td>\n",
       "      <td>39%</td>\n",
       "      <td>...</td>\n",
       "      <td>Alabama Fertility Specialists</td>\n",
       "      <td>Yes</td>\n",
       "      <td>Yes</td>\n",
       "      <td>Yes</td>\n",
       "      <td>No</td>\n",
       "      <td>Yes</td>\n",
       "      <td>Yes</td>\n",
       "      <td>Yes</td>\n",
       "      <td>0</td>\n",
       "      <td>2015</td>\n",
       "    </tr>\n",
       "    <tr>\n",
       "      <th>1</th>\n",
       "      <td>ART FERTILITY PROGRAM OF ALABAMA</td>\n",
       "      <td>100%</td>\n",
       "      <td>74%</td>\n",
       "      <td>0%</td>\n",
       "      <td>0%</td>\n",
       "      <td>0%</td>\n",
       "      <td>31%</td>\n",
       "      <td>8%</td>\n",
       "      <td>15%</td>\n",
       "      <td>28%</td>\n",
       "      <td>...</td>\n",
       "      <td>ART Fertility Program of Alabama</td>\n",
       "      <td>Yes</td>\n",
       "      <td>Yes</td>\n",
       "      <td>Yes</td>\n",
       "      <td>Yes</td>\n",
       "      <td>Yes</td>\n",
       "      <td>Yes</td>\n",
       "      <td>Yes</td>\n",
       "      <td>0</td>\n",
       "      <td>2015</td>\n",
       "    </tr>\n",
       "    <tr>\n",
       "      <th>2</th>\n",
       "      <td>UNIVERSITY OF ALABAMA AT BIRMINGHAM</td>\n",
       "      <td>100%</td>\n",
       "      <td>60%</td>\n",
       "      <td>0%</td>\n",
       "      <td>0%</td>\n",
       "      <td>0%</td>\n",
       "      <td>24%</td>\n",
       "      <td>12%</td>\n",
       "      <td>20%</td>\n",
       "      <td>15%</td>\n",
       "      <td>...</td>\n",
       "      <td>University of Alabama at Birmingham, Reproduct...</td>\n",
       "      <td>Yes</td>\n",
       "      <td>No</td>\n",
       "      <td>Yes</td>\n",
       "      <td>Yes</td>\n",
       "      <td>Yes</td>\n",
       "      <td>Yes</td>\n",
       "      <td>Yes</td>\n",
       "      <td>0</td>\n",
       "      <td>2015</td>\n",
       "    </tr>\n",
       "    <tr>\n",
       "      <th>3</th>\n",
       "      <td>HUNTSVILLE REPRODUCTIVE MEDICINE, PC</td>\n",
       "      <td>100%</td>\n",
       "      <td>96%</td>\n",
       "      <td>0%</td>\n",
       "      <td>0%</td>\n",
       "      <td>0%</td>\n",
       "      <td>2%</td>\n",
       "      <td>20%</td>\n",
       "      <td>27%</td>\n",
       "      <td>9%</td>\n",
       "      <td>...</td>\n",
       "      <td>Huntsville Reproductive Medicine, PC</td>\n",
       "      <td>Yes</td>\n",
       "      <td>Yes</td>\n",
       "      <td>Yes</td>\n",
       "      <td>Yes</td>\n",
       "      <td>Yes</td>\n",
       "      <td>No</td>\n",
       "      <td>No</td>\n",
       "      <td>0</td>\n",
       "      <td>2015</td>\n",
       "    </tr>\n",
       "    <tr>\n",
       "      <th>4</th>\n",
       "      <td>CENTER FOR REPRODUCTIVE MEDICINE</td>\n",
       "      <td>100%</td>\n",
       "      <td>78%</td>\n",
       "      <td>0%</td>\n",
       "      <td>2%</td>\n",
       "      <td>1%</td>\n",
       "      <td>16%</td>\n",
       "      <td>11%</td>\n",
       "      <td>17%</td>\n",
       "      <td>19%</td>\n",
       "      <td>...</td>\n",
       "      <td>Center for Reproductive Medicine</td>\n",
       "      <td>Yes</td>\n",
       "      <td>Yes</td>\n",
       "      <td>Yes</td>\n",
       "      <td>Yes</td>\n",
       "      <td>Yes</td>\n",
       "      <td>Yes</td>\n",
       "      <td>Yes</td>\n",
       "      <td>0</td>\n",
       "      <td>2015</td>\n",
       "    </tr>\n",
       "    <tr>\n",
       "      <th>...</th>\n",
       "      <td>...</td>\n",
       "      <td>...</td>\n",
       "      <td>...</td>\n",
       "      <td>...</td>\n",
       "      <td>...</td>\n",
       "      <td>...</td>\n",
       "      <td>...</td>\n",
       "      <td>...</td>\n",
       "      <td>...</td>\n",
       "      <td>...</td>\n",
       "      <td>...</td>\n",
       "      <td>...</td>\n",
       "      <td>...</td>\n",
       "      <td>...</td>\n",
       "      <td>...</td>\n",
       "      <td>...</td>\n",
       "      <td>...</td>\n",
       "      <td>...</td>\n",
       "      <td>...</td>\n",
       "      <td>...</td>\n",
       "      <td>...</td>\n",
       "    </tr>\n",
       "    <tr>\n",
       "      <th>459</th>\n",
       "      <td>UNIVERSITY OF WISCONSIN-GENERATIONS FERTILITY ...</td>\n",
       "      <td>100%</td>\n",
       "      <td>64%</td>\n",
       "      <td>0%</td>\n",
       "      <td>0%</td>\n",
       "      <td>0%</td>\n",
       "      <td>9%</td>\n",
       "      <td>22%</td>\n",
       "      <td>14%</td>\n",
       "      <td>8%</td>\n",
       "      <td>...</td>\n",
       "      <td>University of Wisconsin-Generations Fertility ...</td>\n",
       "      <td>Yes</td>\n",
       "      <td>No</td>\n",
       "      <td>Yes</td>\n",
       "      <td>No</td>\n",
       "      <td>Yes</td>\n",
       "      <td>Yes</td>\n",
       "      <td>Yes</td>\n",
       "      <td>0</td>\n",
       "      <td>2015</td>\n",
       "    </tr>\n",
       "    <tr>\n",
       "      <th>460</th>\n",
       "      <td>WISCONSIN FERTILITY INSTITUTE</td>\n",
       "      <td>100%</td>\n",
       "      <td>83%</td>\n",
       "      <td>0%</td>\n",
       "      <td>&lt;1%</td>\n",
       "      <td>&lt;1%</td>\n",
       "      <td>6%</td>\n",
       "      <td>9%</td>\n",
       "      <td>45%</td>\n",
       "      <td>4%</td>\n",
       "      <td>...</td>\n",
       "      <td>Wisconsin Fertility Institute</td>\n",
       "      <td>Yes</td>\n",
       "      <td>Yes</td>\n",
       "      <td>Yes</td>\n",
       "      <td>Yes</td>\n",
       "      <td>Yes</td>\n",
       "      <td>Yes</td>\n",
       "      <td>Yes</td>\n",
       "      <td>0</td>\n",
       "      <td>2015</td>\n",
       "    </tr>\n",
       "    <tr>\n",
       "      <th>461</th>\n",
       "      <td>REPRODUCTIVE SPECIALTY CENTER</td>\n",
       "      <td>100%</td>\n",
       "      <td>65%</td>\n",
       "      <td>0%</td>\n",
       "      <td>0%</td>\n",
       "      <td>0%</td>\n",
       "      <td>4%</td>\n",
       "      <td>27%</td>\n",
       "      <td>12%</td>\n",
       "      <td>27%</td>\n",
       "      <td>...</td>\n",
       "      <td>Reproductive Specialty Center</td>\n",
       "      <td>Yes</td>\n",
       "      <td>No</td>\n",
       "      <td>Yes</td>\n",
       "      <td>Yes</td>\n",
       "      <td>Yes</td>\n",
       "      <td>Yes</td>\n",
       "      <td>Yes</td>\n",
       "      <td>0</td>\n",
       "      <td>2015</td>\n",
       "    </tr>\n",
       "    <tr>\n",
       "      <th>462</th>\n",
       "      <td>GUNDERSEN FERTILITY CENTER</td>\n",
       "      <td>100%</td>\n",
       "      <td>95%</td>\n",
       "      <td>0%</td>\n",
       "      <td>0%</td>\n",
       "      <td>2%</td>\n",
       "      <td>11%</td>\n",
       "      <td>39%</td>\n",
       "      <td>17%</td>\n",
       "      <td>30%</td>\n",
       "      <td>...</td>\n",
       "      <td>Gundersen Fertility Center</td>\n",
       "      <td>Yes</td>\n",
       "      <td>No</td>\n",
       "      <td>Yes</td>\n",
       "      <td>Yes</td>\n",
       "      <td>Yes</td>\n",
       "      <td>Yes</td>\n",
       "      <td>Yes</td>\n",
       "      <td>0</td>\n",
       "      <td>2015</td>\n",
       "    </tr>\n",
       "    <tr>\n",
       "      <th>463</th>\n",
       "      <td>AURORA HEALTH CARE-AURORA FERTILITY SERVICES, ...</td>\n",
       "      <td>100%</td>\n",
       "      <td>79%</td>\n",
       "      <td>0%</td>\n",
       "      <td>0%</td>\n",
       "      <td>0%</td>\n",
       "      <td>11%</td>\n",
       "      <td>15%</td>\n",
       "      <td>33%</td>\n",
       "      <td>6%</td>\n",
       "      <td>...</td>\n",
       "      <td>Aurora Health Care-Aurora Fertility Services, ...</td>\n",
       "      <td>Yes</td>\n",
       "      <td>Yes</td>\n",
       "      <td>Yes</td>\n",
       "      <td>Yes</td>\n",
       "      <td>Yes</td>\n",
       "      <td>Yes</td>\n",
       "      <td>Yes</td>\n",
       "      <td>0</td>\n",
       "      <td>2015</td>\n",
       "    </tr>\n",
       "  </tbody>\n",
       "</table>\n",
       "<p>464 rows × 210 columns</p>\n",
       "</div>"
      ],
      "text/plain": [
       "                                         PrevClinName1 IVF_Rate ICSI_Rate  \\\n",
       "0                        ALABAMA FERTILITY SPECIALISTS     100%       43%   \n",
       "1                     ART FERTILITY PROGRAM OF ALABAMA     100%       74%   \n",
       "2                  UNIVERSITY OF ALABAMA AT BIRMINGHAM     100%       60%   \n",
       "3                 HUNTSVILLE REPRODUCTIVE MEDICINE, PC     100%       96%   \n",
       "4                     CENTER FOR REPRODUCTIVE MEDICINE     100%       78%   \n",
       "..                                                 ...      ...       ...   \n",
       "459  UNIVERSITY OF WISCONSIN-GENERATIONS FERTILITY ...     100%       64%   \n",
       "460                      WISCONSIN FERTILITY INSTITUTE     100%       83%   \n",
       "461                      REPRODUCTIVE SPECIALTY CENTER     100%       65%   \n",
       "462                         GUNDERSEN FERTILITY CENTER     100%       95%   \n",
       "463  AURORA HEALTH CARE-AURORA FERTILITY SERVICES, ...     100%       79%   \n",
       "\n",
       "    Unstimulated_Rate Gest_Rate PGD_Rate Diag_TubalRate Diag_OvulatoryRate  \\\n",
       "0                  0%        0%       0%            23%                26%   \n",
       "1                  0%        0%       0%            31%                 8%   \n",
       "2                  0%        0%       0%            24%                12%   \n",
       "3                  0%        0%       0%             2%                20%   \n",
       "4                  0%        2%       1%            16%                11%   \n",
       "..                ...       ...      ...            ...                ...   \n",
       "459                0%        0%       0%             9%                22%   \n",
       "460                0%       <1%      <1%             6%                 9%   \n",
       "461                0%        0%       0%             4%                27%   \n",
       "462                0%        0%       2%            11%                39%   \n",
       "463                0%        0%       0%            11%                15%   \n",
       "\n",
       "    Diag_DORRate Diag_EndometriosisRate  ...  \\\n",
       "0            14%                    39%  ...   \n",
       "1            15%                    28%  ...   \n",
       "2            20%                    15%  ...   \n",
       "3            27%                     9%  ...   \n",
       "4            17%                    19%  ...   \n",
       "..           ...                    ...  ...   \n",
       "459          14%                     8%  ...   \n",
       "460          45%                     4%  ...   \n",
       "461          12%                    27%  ...   \n",
       "462          17%                    30%  ...   \n",
       "463          33%                     6%  ...   \n",
       "\n",
       "                                       CurrClinNameAll DonorEgg DonorEmbryo  \\\n",
       "0                        Alabama Fertility Specialists      Yes         Yes   \n",
       "1                     ART Fertility Program of Alabama      Yes         Yes   \n",
       "2    University of Alabama at Birmingham, Reproduct...      Yes          No   \n",
       "3                 Huntsville Reproductive Medicine, PC      Yes         Yes   \n",
       "4                     Center for Reproductive Medicine      Yes         Yes   \n",
       "..                                                 ...      ...         ...   \n",
       "459  University of Wisconsin-Generations Fertility ...      Yes          No   \n",
       "460                      Wisconsin Fertility Institute      Yes         Yes   \n",
       "461                      Reproductive Specialty Center      Yes          No   \n",
       "462                         Gundersen Fertility Center      Yes          No   \n",
       "463  Aurora Health Care-Aurora Fertility Services, ...      Yes         Yes   \n",
       "\n",
       "    SingleWomen Surrogates Cryopreservation SART_Member  Accreditation  \\\n",
       "0           Yes         No              Yes         Yes            Yes   \n",
       "1           Yes        Yes              Yes         Yes            Yes   \n",
       "2           Yes        Yes              Yes         Yes            Yes   \n",
       "3           Yes        Yes              Yes          No             No   \n",
       "4           Yes        Yes              Yes         Yes            Yes   \n",
       "..          ...        ...              ...         ...            ...   \n",
       "459         Yes         No              Yes         Yes            Yes   \n",
       "460         Yes        Yes              Yes         Yes            Yes   \n",
       "461         Yes        Yes              Yes         Yes            Yes   \n",
       "462         Yes        Yes              Yes         Yes            Yes   \n",
       "463         Yes        Yes              Yes         Yes            Yes   \n",
       "\n",
       "    TotExcludedResearchCycles  Year  \n",
       "0                           0  2015  \n",
       "1                           0  2015  \n",
       "2                           0  2015  \n",
       "3                           0  2015  \n",
       "4                           0  2015  \n",
       "..                        ...   ...  \n",
       "459                         0  2015  \n",
       "460                         0  2015  \n",
       "461                         0  2015  \n",
       "462                         0  2015  \n",
       "463                         0  2015  \n",
       "\n",
       "[464 rows x 210 columns]"
      ]
     },
     "execution_count": 12,
     "metadata": {},
     "output_type": "execute_result"
    }
   ],
   "source": [
    "df"
   ]
  },
  {
   "cell_type": "code",
   "execution_count": 13,
   "metadata": {},
   "outputs": [],
   "source": [
    "df = df.drop(['CurrClinNameAll','MedicalDirector','ReorgOrClosedMessage'],axis=1)"
   ]
  },
  {
   "cell_type": "code",
   "execution_count": 15,
   "metadata": {},
   "outputs": [],
   "source": [
    "\n",
    "df = df.drop('TotExcludedResearchCycles',axis=1)"
   ]
  },
  {
   "cell_type": "code",
   "execution_count": 21,
   "metadata": {},
   "outputs": [],
   "source": [
    "df = df.drop('Cryopreservation',axis=1)"
   ]
  },
  {
   "cell_type": "code",
   "execution_count": 25,
   "metadata": {},
   "outputs": [],
   "source": [
    "df_model = pd.get_dummies(data =df, columns=['Accreditation','SART_Member','Surrogates','SingleWomen','DonorEmbryo','DonorEgg'])"
   ]
  },
  {
   "cell_type": "code",
   "execution_count": 27,
   "metadata": {},
   "outputs": [
    {
     "data": {
      "text/html": [
       "<div>\n",
       "<style scoped>\n",
       "    .dataframe tbody tr th:only-of-type {\n",
       "        vertical-align: middle;\n",
       "    }\n",
       "\n",
       "    .dataframe tbody tr th {\n",
       "        vertical-align: top;\n",
       "    }\n",
       "\n",
       "    .dataframe thead th {\n",
       "        text-align: right;\n",
       "    }\n",
       "</style>\n",
       "<table border=\"1\" class=\"dataframe\">\n",
       "  <thead>\n",
       "    <tr style=\"text-align: right;\">\n",
       "      <th></th>\n",
       "      <th>PrevClinName1</th>\n",
       "      <th>IVF_Rate</th>\n",
       "      <th>ICSI_Rate</th>\n",
       "      <th>Unstimulated_Rate</th>\n",
       "      <th>Gest_Rate</th>\n",
       "      <th>PGD_Rate</th>\n",
       "      <th>Diag_TubalRate</th>\n",
       "      <th>Diag_OvulatoryRate</th>\n",
       "      <th>Diag_DORRate</th>\n",
       "      <th>Diag_EndometriosisRate</th>\n",
       "      <th>...</th>\n",
       "      <th>SART_Member_No</th>\n",
       "      <th>SART_Member_Yes</th>\n",
       "      <th>Surrogates_No</th>\n",
       "      <th>Surrogates_Yes</th>\n",
       "      <th>SingleWomen_No</th>\n",
       "      <th>SingleWomen_Yes</th>\n",
       "      <th>DonorEmbryo_No</th>\n",
       "      <th>DonorEmbryo_Yes</th>\n",
       "      <th>DonorEgg_No</th>\n",
       "      <th>DonorEgg_Yes</th>\n",
       "    </tr>\n",
       "  </thead>\n",
       "  <tbody>\n",
       "    <tr>\n",
       "      <th>0</th>\n",
       "      <td>ALABAMA FERTILITY SPECIALISTS</td>\n",
       "      <td>100%</td>\n",
       "      <td>43%</td>\n",
       "      <td>0%</td>\n",
       "      <td>0%</td>\n",
       "      <td>0%</td>\n",
       "      <td>23%</td>\n",
       "      <td>26%</td>\n",
       "      <td>14%</td>\n",
       "      <td>39%</td>\n",
       "      <td>...</td>\n",
       "      <td>0</td>\n",
       "      <td>1</td>\n",
       "      <td>1</td>\n",
       "      <td>0</td>\n",
       "      <td>0</td>\n",
       "      <td>1</td>\n",
       "      <td>0</td>\n",
       "      <td>1</td>\n",
       "      <td>0</td>\n",
       "      <td>1</td>\n",
       "    </tr>\n",
       "    <tr>\n",
       "      <th>1</th>\n",
       "      <td>ART FERTILITY PROGRAM OF ALABAMA</td>\n",
       "      <td>100%</td>\n",
       "      <td>74%</td>\n",
       "      <td>0%</td>\n",
       "      <td>0%</td>\n",
       "      <td>0%</td>\n",
       "      <td>31%</td>\n",
       "      <td>8%</td>\n",
       "      <td>15%</td>\n",
       "      <td>28%</td>\n",
       "      <td>...</td>\n",
       "      <td>0</td>\n",
       "      <td>1</td>\n",
       "      <td>0</td>\n",
       "      <td>1</td>\n",
       "      <td>0</td>\n",
       "      <td>1</td>\n",
       "      <td>0</td>\n",
       "      <td>1</td>\n",
       "      <td>0</td>\n",
       "      <td>1</td>\n",
       "    </tr>\n",
       "    <tr>\n",
       "      <th>2</th>\n",
       "      <td>UNIVERSITY OF ALABAMA AT BIRMINGHAM</td>\n",
       "      <td>100%</td>\n",
       "      <td>60%</td>\n",
       "      <td>0%</td>\n",
       "      <td>0%</td>\n",
       "      <td>0%</td>\n",
       "      <td>24%</td>\n",
       "      <td>12%</td>\n",
       "      <td>20%</td>\n",
       "      <td>15%</td>\n",
       "      <td>...</td>\n",
       "      <td>0</td>\n",
       "      <td>1</td>\n",
       "      <td>0</td>\n",
       "      <td>1</td>\n",
       "      <td>0</td>\n",
       "      <td>1</td>\n",
       "      <td>1</td>\n",
       "      <td>0</td>\n",
       "      <td>0</td>\n",
       "      <td>1</td>\n",
       "    </tr>\n",
       "    <tr>\n",
       "      <th>3</th>\n",
       "      <td>HUNTSVILLE REPRODUCTIVE MEDICINE, PC</td>\n",
       "      <td>100%</td>\n",
       "      <td>96%</td>\n",
       "      <td>0%</td>\n",
       "      <td>0%</td>\n",
       "      <td>0%</td>\n",
       "      <td>2%</td>\n",
       "      <td>20%</td>\n",
       "      <td>27%</td>\n",
       "      <td>9%</td>\n",
       "      <td>...</td>\n",
       "      <td>1</td>\n",
       "      <td>0</td>\n",
       "      <td>0</td>\n",
       "      <td>1</td>\n",
       "      <td>0</td>\n",
       "      <td>1</td>\n",
       "      <td>0</td>\n",
       "      <td>1</td>\n",
       "      <td>0</td>\n",
       "      <td>1</td>\n",
       "    </tr>\n",
       "    <tr>\n",
       "      <th>4</th>\n",
       "      <td>CENTER FOR REPRODUCTIVE MEDICINE</td>\n",
       "      <td>100%</td>\n",
       "      <td>78%</td>\n",
       "      <td>0%</td>\n",
       "      <td>2%</td>\n",
       "      <td>1%</td>\n",
       "      <td>16%</td>\n",
       "      <td>11%</td>\n",
       "      <td>17%</td>\n",
       "      <td>19%</td>\n",
       "      <td>...</td>\n",
       "      <td>0</td>\n",
       "      <td>1</td>\n",
       "      <td>0</td>\n",
       "      <td>1</td>\n",
       "      <td>0</td>\n",
       "      <td>1</td>\n",
       "      <td>0</td>\n",
       "      <td>1</td>\n",
       "      <td>0</td>\n",
       "      <td>1</td>\n",
       "    </tr>\n",
       "    <tr>\n",
       "      <th>...</th>\n",
       "      <td>...</td>\n",
       "      <td>...</td>\n",
       "      <td>...</td>\n",
       "      <td>...</td>\n",
       "      <td>...</td>\n",
       "      <td>...</td>\n",
       "      <td>...</td>\n",
       "      <td>...</td>\n",
       "      <td>...</td>\n",
       "      <td>...</td>\n",
       "      <td>...</td>\n",
       "      <td>...</td>\n",
       "      <td>...</td>\n",
       "      <td>...</td>\n",
       "      <td>...</td>\n",
       "      <td>...</td>\n",
       "      <td>...</td>\n",
       "      <td>...</td>\n",
       "      <td>...</td>\n",
       "      <td>...</td>\n",
       "      <td>...</td>\n",
       "    </tr>\n",
       "    <tr>\n",
       "      <th>459</th>\n",
       "      <td>UNIVERSITY OF WISCONSIN-GENERATIONS FERTILITY ...</td>\n",
       "      <td>100%</td>\n",
       "      <td>64%</td>\n",
       "      <td>0%</td>\n",
       "      <td>0%</td>\n",
       "      <td>0%</td>\n",
       "      <td>9%</td>\n",
       "      <td>22%</td>\n",
       "      <td>14%</td>\n",
       "      <td>8%</td>\n",
       "      <td>...</td>\n",
       "      <td>0</td>\n",
       "      <td>1</td>\n",
       "      <td>1</td>\n",
       "      <td>0</td>\n",
       "      <td>0</td>\n",
       "      <td>1</td>\n",
       "      <td>1</td>\n",
       "      <td>0</td>\n",
       "      <td>0</td>\n",
       "      <td>1</td>\n",
       "    </tr>\n",
       "    <tr>\n",
       "      <th>460</th>\n",
       "      <td>WISCONSIN FERTILITY INSTITUTE</td>\n",
       "      <td>100%</td>\n",
       "      <td>83%</td>\n",
       "      <td>0%</td>\n",
       "      <td>&lt;1%</td>\n",
       "      <td>&lt;1%</td>\n",
       "      <td>6%</td>\n",
       "      <td>9%</td>\n",
       "      <td>45%</td>\n",
       "      <td>4%</td>\n",
       "      <td>...</td>\n",
       "      <td>0</td>\n",
       "      <td>1</td>\n",
       "      <td>0</td>\n",
       "      <td>1</td>\n",
       "      <td>0</td>\n",
       "      <td>1</td>\n",
       "      <td>0</td>\n",
       "      <td>1</td>\n",
       "      <td>0</td>\n",
       "      <td>1</td>\n",
       "    </tr>\n",
       "    <tr>\n",
       "      <th>461</th>\n",
       "      <td>REPRODUCTIVE SPECIALTY CENTER</td>\n",
       "      <td>100%</td>\n",
       "      <td>65%</td>\n",
       "      <td>0%</td>\n",
       "      <td>0%</td>\n",
       "      <td>0%</td>\n",
       "      <td>4%</td>\n",
       "      <td>27%</td>\n",
       "      <td>12%</td>\n",
       "      <td>27%</td>\n",
       "      <td>...</td>\n",
       "      <td>0</td>\n",
       "      <td>1</td>\n",
       "      <td>0</td>\n",
       "      <td>1</td>\n",
       "      <td>0</td>\n",
       "      <td>1</td>\n",
       "      <td>1</td>\n",
       "      <td>0</td>\n",
       "      <td>0</td>\n",
       "      <td>1</td>\n",
       "    </tr>\n",
       "    <tr>\n",
       "      <th>462</th>\n",
       "      <td>GUNDERSEN FERTILITY CENTER</td>\n",
       "      <td>100%</td>\n",
       "      <td>95%</td>\n",
       "      <td>0%</td>\n",
       "      <td>0%</td>\n",
       "      <td>2%</td>\n",
       "      <td>11%</td>\n",
       "      <td>39%</td>\n",
       "      <td>17%</td>\n",
       "      <td>30%</td>\n",
       "      <td>...</td>\n",
       "      <td>0</td>\n",
       "      <td>1</td>\n",
       "      <td>0</td>\n",
       "      <td>1</td>\n",
       "      <td>0</td>\n",
       "      <td>1</td>\n",
       "      <td>1</td>\n",
       "      <td>0</td>\n",
       "      <td>0</td>\n",
       "      <td>1</td>\n",
       "    </tr>\n",
       "    <tr>\n",
       "      <th>463</th>\n",
       "      <td>AURORA HEALTH CARE-AURORA FERTILITY SERVICES, ...</td>\n",
       "      <td>100%</td>\n",
       "      <td>79%</td>\n",
       "      <td>0%</td>\n",
       "      <td>0%</td>\n",
       "      <td>0%</td>\n",
       "      <td>11%</td>\n",
       "      <td>15%</td>\n",
       "      <td>33%</td>\n",
       "      <td>6%</td>\n",
       "      <td>...</td>\n",
       "      <td>0</td>\n",
       "      <td>1</td>\n",
       "      <td>0</td>\n",
       "      <td>1</td>\n",
       "      <td>0</td>\n",
       "      <td>1</td>\n",
       "      <td>0</td>\n",
       "      <td>1</td>\n",
       "      <td>0</td>\n",
       "      <td>1</td>\n",
       "    </tr>\n",
       "  </tbody>\n",
       "</table>\n",
       "<p>464 rows × 212 columns</p>\n",
       "</div>"
      ],
      "text/plain": [
       "                                         PrevClinName1 IVF_Rate ICSI_Rate  \\\n",
       "0                        ALABAMA FERTILITY SPECIALISTS     100%       43%   \n",
       "1                     ART FERTILITY PROGRAM OF ALABAMA     100%       74%   \n",
       "2                  UNIVERSITY OF ALABAMA AT BIRMINGHAM     100%       60%   \n",
       "3                 HUNTSVILLE REPRODUCTIVE MEDICINE, PC     100%       96%   \n",
       "4                     CENTER FOR REPRODUCTIVE MEDICINE     100%       78%   \n",
       "..                                                 ...      ...       ...   \n",
       "459  UNIVERSITY OF WISCONSIN-GENERATIONS FERTILITY ...     100%       64%   \n",
       "460                      WISCONSIN FERTILITY INSTITUTE     100%       83%   \n",
       "461                      REPRODUCTIVE SPECIALTY CENTER     100%       65%   \n",
       "462                         GUNDERSEN FERTILITY CENTER     100%       95%   \n",
       "463  AURORA HEALTH CARE-AURORA FERTILITY SERVICES, ...     100%       79%   \n",
       "\n",
       "    Unstimulated_Rate Gest_Rate PGD_Rate Diag_TubalRate Diag_OvulatoryRate  \\\n",
       "0                  0%        0%       0%            23%                26%   \n",
       "1                  0%        0%       0%            31%                 8%   \n",
       "2                  0%        0%       0%            24%                12%   \n",
       "3                  0%        0%       0%             2%                20%   \n",
       "4                  0%        2%       1%            16%                11%   \n",
       "..                ...       ...      ...            ...                ...   \n",
       "459                0%        0%       0%             9%                22%   \n",
       "460                0%       <1%      <1%             6%                 9%   \n",
       "461                0%        0%       0%             4%                27%   \n",
       "462                0%        0%       2%            11%                39%   \n",
       "463                0%        0%       0%            11%                15%   \n",
       "\n",
       "    Diag_DORRate Diag_EndometriosisRate  ... SART_Member_No SART_Member_Yes  \\\n",
       "0            14%                    39%  ...              0               1   \n",
       "1            15%                    28%  ...              0               1   \n",
       "2            20%                    15%  ...              0               1   \n",
       "3            27%                     9%  ...              1               0   \n",
       "4            17%                    19%  ...              0               1   \n",
       "..           ...                    ...  ...            ...             ...   \n",
       "459          14%                     8%  ...              0               1   \n",
       "460          45%                     4%  ...              0               1   \n",
       "461          12%                    27%  ...              0               1   \n",
       "462          17%                    30%  ...              0               1   \n",
       "463          33%                     6%  ...              0               1   \n",
       "\n",
       "    Surrogates_No Surrogates_Yes SingleWomen_No SingleWomen_Yes  \\\n",
       "0               1              0              0               1   \n",
       "1               0              1              0               1   \n",
       "2               0              1              0               1   \n",
       "3               0              1              0               1   \n",
       "4               0              1              0               1   \n",
       "..            ...            ...            ...             ...   \n",
       "459             1              0              0               1   \n",
       "460             0              1              0               1   \n",
       "461             0              1              0               1   \n",
       "462             0              1              0               1   \n",
       "463             0              1              0               1   \n",
       "\n",
       "    DonorEmbryo_No  DonorEmbryo_Yes DonorEgg_No  DonorEgg_Yes  \n",
       "0                0                1           0             1  \n",
       "1                0                1           0             1  \n",
       "2                1                0           0             1  \n",
       "3                0                1           0             1  \n",
       "4                0                1           0             1  \n",
       "..             ...              ...         ...           ...  \n",
       "459              1                0           0             1  \n",
       "460              0                1           0             1  \n",
       "461              1                0           0             1  \n",
       "462              1                0           0             1  \n",
       "463              0                1           0             1  \n",
       "\n",
       "[464 rows x 212 columns]"
      ]
     },
     "execution_count": 27,
     "metadata": {},
     "output_type": "execute_result"
    }
   ],
   "source": [
    "df_model"
   ]
  },
  {
   "cell_type": "code",
   "execution_count": 30,
   "metadata": {},
   "outputs": [],
   "source": [
    "def convert_col_to_num (dataf):\n",
    "    for i in range (1,(len(dataf.columns))):\n",
    "        dataf[dataf.columns[i]] = dataf[dataf.columns[i]].apply(convert_to_num)\n",
    "    return dataf"
   ]
  },
  {
   "cell_type": "code",
   "execution_count": 37,
   "metadata": {},
   "outputs": [],
   "source": [
    "df_model = convert_col_to_num(df_model)"
   ]
  },
  {
   "cell_type": "code",
   "execution_count": 34,
   "metadata": {},
   "outputs": [
    {
     "data": {
      "text/plain": [
       "PrevClinName1        0\n",
       "IVF_Rate             3\n",
       "ICSI_Rate            3\n",
       "Unstimulated_Rate    3\n",
       "Gest_Rate            3\n",
       "                    ..\n",
       "SingleWomen_Yes      0\n",
       "DonorEmbryo_No       0\n",
       "DonorEmbryo_Yes      0\n",
       "DonorEgg_No          0\n",
       "DonorEgg_Yes         0\n",
       "Length: 212, dtype: int64"
      ]
     },
     "execution_count": 34,
     "metadata": {},
     "output_type": "execute_result"
    }
   ],
   "source": [
    "df_model.isnull().sum()"
   ]
  },
  {
   "cell_type": "code",
   "execution_count": 38,
   "metadata": {},
   "outputs": [
    {
     "data": {
      "text/plain": [
       "0      NaN\n",
       "1      NaN\n",
       "2      NaN\n",
       "3      0.0\n",
       "4      NaN\n",
       "      ... \n",
       "459    NaN\n",
       "460    NaN\n",
       "461    NaN\n",
       "462    NaN\n",
       "463    NaN\n",
       "Name: FshNDCansRate5, Length: 464, dtype: float64"
      ]
     },
     "execution_count": 38,
     "metadata": {},
     "output_type": "execute_result"
    }
   ],
   "source": [
    "df_model.FshNDCansRate5"
   ]
  },
  {
   "cell_type": "code",
   "execution_count": 40,
   "metadata": {},
   "outputs": [
    {
     "data": {
      "text/plain": [
       "<matplotlib.axes._subplots.AxesSubplot at 0x1a265df890>"
      ]
     },
     "execution_count": 40,
     "metadata": {},
     "output_type": "execute_result"
    },
    {
     "data": {
      "image/png": "[encoded data removed]",
      "text/plain": [
       "<Figure size 432x288 with 1 Axes>"
      ]
     },
     "metadata": {
      "needs_background": "light"
     },
     "output_type": "display_data"
    }
   ],
   "source": [
    "df_model.FshNDCansRate5.hist()"
   ]
  },
  {
   "cell_type": "code",
   "execution_count": 41,
   "metadata": {},
   "outputs": [],
   "source": [
    "from sklearn.ensemble import RandomForestRegressor"
   ]
  },
  {
   "cell_type": "code",
   "execution_count": 42,
   "metadata": {},
   "outputs": [
    {
     "data": {
      "text/plain": [
       "(464, 212)"
      ]
     },
     "execution_count": 42,
     "metadata": {},
     "output_type": "execute_result"
    }
   ],
   "source": [
    "df_model.shape"
   ]
  },
  {
   "cell_type": "code",
   "execution_count": 45,
   "metadata": {},
   "outputs": [],
   "source": [
    "df_model.drop(columns=['FshNDeSETRate1','FshNDeSETRate2','FshNDeSETRate3','FshNDeSETRate4','FshNDeSETRate5','FshNDeSETRate6',\n",
    "               'FshNDHealthSnglLBRate1','FshNDHealthSnglLBRate2','FshNDHealthSnglLBRate3','FshNDHealthSnglLBRate4',\n",
    "               'FshNDHealthSnglLBRate5','FshNDHealthSnglLBRate6','FshNDSnglLBRate1','FshNDSnglLBRate2',\n",
    "               'FshNDSnglLBRate3','FshNDSnglLBRate4','FshNDSnglLBRate5','FshNDSnglLBRate6','FshNDTwinlLBRate1',\n",
    "               'FshNDTwinlLBRate2','FshNDTwinlLBRate3','FshNDTwinlLBRate4','FshNDTwinlLBRate5',\n",
    "               'FshNDTwinlLBRate6'],inplace=True)"
   ]
  },
  {
   "cell_type": "code",
   "execution_count": 48,
   "metadata": {},
   "outputs": [],
   "source": [
    "df_model.drop(columns=['FshNDPregRate1','FshNDPregRate2','FshNDPregRate3','FshNDPregRate4',\n",
    "                       'FshNDPregRate5','FshNDPregRate6'], axis=1, inplace=True)"
   ]
  },
  {
   "cell_type": "code",
   "execution_count": 49,
   "metadata": {},
   "outputs": [],
   "source": [
    "df_model.drop(columns=['FshNDHealthSnglLB_TransRate1','FshNDHealthSnglLB_TransRate2','FshNDHealthSnglLB_TransRate3',\n",
    "               'FshNDHealthSnglLB_TransRate4','FshNDHealthSnglLB_TransRate5','FshNDHealthSnglLB_TransRate6',\n",
    "               'FshNDSnglLB_TransRate1','FshNDSnglLB_TransRate2','FshNDSnglLB_TransRate3',\n",
    "               'FshNDSnglLB_TransRate4','FshNDSnglLB_TransRate5','FshNDSnglLB_TransRate6',\n",
    "               'FshNDTwinLB_TransRate1','FshNDTwinLB_TransRate2','FshNDTwinLB_TransRate3',\n",
    "               'FshNDTwinLB_TransRate4','FshNDTwinLB_TransRate5','FshNDTwinLB_TransRate6',\n",
    "               'FshNDLvBirths_TransRate1','FshNDLvBirths_TransRate2','FshNDLvBirths_TransRate3',\n",
    "               'FshNDLvBirths_TransRate4','FshNDLvBirths_TransRate5','FshNDLvBirths_TransRate6',\n",
    "               'FshNDTransPregRate1','FshNDTransPregRate2','FshNDTransPregRate3','FshNDTransPregRate4',\n",
    "               'FshNDTransPregRate5','FshNDTransPregRate6'],inplace=True,axis=1)"
   ]
  },
  {
   "cell_type": "code",
   "execution_count": 50,
   "metadata": {},
   "outputs": [
    {
     "data": {
      "text/plain": [
       "(464, 152)"
      ]
     },
     "execution_count": 50,
     "metadata": {},
     "output_type": "execute_result"
    }
   ],
   "source": [
    "df_model.shape"
   ]
  },
  {
   "cell_type": "code",
   "execution_count": 51,
   "metadata": {},
   "outputs": [],
   "source": [
    "df_model.drop(columns=['ThwNDHealthSnglLB_TransRate1', 'ThwNDHealthSnglLB_TransRate2','ThwNDHealthSnglLB_TransRate3',\n",
    "               'ThwNDHealthSnglLB_TransRate4','ThwNDHealthSnglLB_TransRate5','ThwNDHealthSnglLB_TransRate6',\n",
    "               'ThwNDSnglLB_TransRate1','ThwNDSnglLB_TransRate2','ThwNDSnglLB_TransRate3',\n",
    "               'ThwNDSnglLB_TransRate4','ThwNDSnglLB_TransRate5','ThwNDSnglLB_TransRate6',\n",
    "               'ThwNDTwinLB_TransRate1','ThwNDTwinLB_TransRate2','ThwNDTwinLB_TransRate3',\n",
    "               'ThwNDTwinLB_TransRate4','ThwNDTwinLB_TransRate5','ThwNDTwinLB_TransRate6'],inplace=True, axis=1)"
   ]
  },
  {
   "cell_type": "code",
   "execution_count": 52,
   "metadata": {},
   "outputs": [],
   "source": [
    "df_model.drop(['ThwNDTransPregRate1','ThwNDTransPregRate2','ThwNDTransPregRate3','ThwNDTransPregRate4',\n",
    "               'ThwNDTransPregRate5','ThwNDTransPregRate6'],inplace=True,axis=1)"
   ]
  },
  {
   "cell_type": "code",
   "execution_count": 181,
   "metadata": {},
   "outputs": [],
   "source": [
    "df_model.drop(columns=['FshNDImplant1','FshNDImplant2','FshNDImplant3','FshNDImplant4','FshNDImplant5',\n",
    "                       'FshNDImplant6','FshNDLvBirthsRate2','FshNDLvBirthsRate3','FshNDLvBirthsRate4',\n",
    "                       'FshNDLvBirthsRate5','FshNDLvBirthsRate6'],inplace=True, axis=1)"
   ]
  },
  {
   "cell_type": "code",
   "execution_count": 184,
   "metadata": {},
   "outputs": [],
   "source": [
    "df_model.drop(columns=['FshNDTransfers1',\n",
    "'FshNDTransfers2',\n",
    "'FshNDTransfers3',\n",
    "'FshNDTransfers4',\n",
    "'FshNDTransfers5',\n",
    "'FshNDTransfers6'],inplace=True, axis=1)"
   ]
  },
  {
   "cell_type": "code",
   "execution_count": 185,
   "metadata": {},
   "outputs": [
    {
     "data": {
      "text/plain": [
       "(375, 111)"
      ]
     },
     "execution_count": 185,
     "metadata": {},
     "output_type": "execute_result"
    }
   ],
   "source": [
    "df_model.shape"
   ]
  },
  {
   "cell_type": "code",
   "execution_count": 186,
   "metadata": {},
   "outputs": [
    {
     "data": {
      "text/plain": [
       "<matplotlib.axes._subplots.AxesSubplot at 0x1a353c3610>"
      ]
     },
     "execution_count": 186,
     "metadata": {},
     "output_type": "execute_result"
    },
    {
     "data": {
      "image/png": "[encoded data removed]",
      "text/plain": [
       "<Figure size 432x288 with 1 Axes>"
      ]
     },
     "metadata": {
      "needs_background": "light"
     },
     "output_type": "display_data"
    }
   ],
   "source": [
    "sns.scatterplot(data=df_model,x='TotNumCyclesAll',y='ThwNDLvBirths_TransRate1')"
   ]
  },
  {
   "cell_type": "code",
   "execution_count": 134,
   "metadata": {},
   "outputs": [
    {
     "data": {
      "text/plain": [
       "<matplotlib.axes._subplots.AxesSubplot at 0x1a33353b50>"
      ]
     },
     "execution_count": 134,
     "metadata": {},
     "output_type": "execute_result"
    },
    {
     "data": {
      "image/png": "[encoded data removed]",
      "text/plain": [
       "<Figure size 432x288 with 1 Axes>"
      ]
     },
     "metadata": {
      "needs_background": "light"
     },
     "output_type": "display_data"
    }
   ],
   "source": [
    "df_model['TotNumCyclesAll'].hist(bins=100)"
   ]
  },
  {
   "cell_type": "code",
   "execution_count": 235,
   "metadata": {},
   "outputs": [],
   "source": [
    "df_model_rf = df_model.fillna(0)"
   ]
  },
  {
   "cell_type": "code",
   "execution_count": 135,
   "metadata": {},
   "outputs": [],
   "source": [
    "df_model = df_model[df_model['TotNumCyclesAll']>100]"
   ]
  },
  {
   "cell_type": "code",
   "execution_count": 222,
   "metadata": {},
   "outputs": [],
   "source": [
    "df_model = df_model[df_model.FshNDLvBirthsRate1 != 0]"
   ]
  },
  {
   "cell_type": "code",
   "execution_count": 254,
   "metadata": {},
   "outputs": [
    {
     "data": {
      "text/plain": [
       "<matplotlib.axes._subplots.AxesSubplot at 0x1a3752dc90>"
      ]
     },
     "execution_count": 254,
     "metadata": {},
     "output_type": "execute_result"
    },
    {
     "data": {
      "image/png": "[encoded data removed]",
      "text/plain": [
       "<Figure size 432x288 with 1 Axes>"
      ]
     },
     "metadata": {
      "needs_background": "light"
     },
     "output_type": "display_data"
    }
   ],
   "source": [
    "df_model.FshNDLvBirthsRate1.hist()\n"
   ]
  },
  {
   "cell_type": "code",
   "execution_count": 237,
   "metadata": {},
   "outputs": [
    {
     "data": {
      "text/plain": [
       "(362, 111)"
      ]
     },
     "execution_count": 237,
     "metadata": {},
     "output_type": "execute_result"
    }
   ],
   "source": [
    "df_model_rf.shape"
   ]
  },
  {
   "cell_type": "code",
   "execution_count": 54,
   "metadata": {},
   "outputs": [],
   "source": [
    "from sklearn.model_selection import train_test_split"
   ]
  },
  {
   "cell_type": "code",
   "execution_count": 281,
   "metadata": {},
   "outputs": [],
   "source": [
    "y = df_model_rf.ThwNDLvBirths_TransRate1.values#.reshape(-1,1)\n",
    "X = df_model_rf.drop(columns=['PrevClinName1','ThwNDLvBirths_TransRate1'],axis=1).values"
   ]
  },
  {
   "cell_type": "code",
   "execution_count": 282,
   "metadata": {},
   "outputs": [
    {
     "data": {
      "text/plain": [
       "(362,)"
      ]
     },
     "execution_count": 282,
     "metadata": {},
     "output_type": "execute_result"
    }
   ],
   "source": [
    "y.shape"
   ]
  },
  {
   "cell_type": "code",
   "execution_count": null,
   "metadata": {},
   "outputs": [],
   "source": []
  },
  {
   "cell_type": "code",
   "execution_count": 283,
   "metadata": {},
   "outputs": [],
   "source": [
    "X_train, X_test, y_train, y_test = train_test_split(X, y, test_size=0.3, random_state=42)"
   ]
  },
  {
   "cell_type": "code",
   "execution_count": 284,
   "metadata": {},
   "outputs": [],
   "source": [
    "regressor = RandomForestRegressor(n_estimators=5000,random_state=0,n_jobs=-1,verbose=1)"
   ]
  },
  {
   "cell_type": "code",
   "execution_count": 285,
   "metadata": {},
   "outputs": [
    {
     "name": "stderr",
     "output_type": "stream",
     "text": [
      "[Parallel(n_jobs=-1)]: Using backend ThreadingBackend with 8 concurrent workers.\n",
      "[Parallel(n_jobs=-1)]: Done  34 tasks      | elapsed:    0.2s\n",
      "[Parallel(n_jobs=-1)]: Done 184 tasks      | elapsed:    0.9s\n",
      "[Parallel(n_jobs=-1)]: Done 434 tasks      | elapsed:    1.8s\n",
      "[Parallel(n_jobs=-1)]: Done 784 tasks      | elapsed:    3.3s\n",
      "[Parallel(n_jobs=-1)]: Done 1234 tasks      | elapsed:    5.2s\n",
      "[Parallel(n_jobs=-1)]: Done 1784 tasks      | elapsed:    7.4s\n",
      "[Parallel(n_jobs=-1)]: Done 2434 tasks      | elapsed:   10.2s\n",
      "[Parallel(n_jobs=-1)]: Done 3184 tasks      | elapsed:   13.4s\n",
      "[Parallel(n_jobs=-1)]: Done 4034 tasks      | elapsed:   16.8s\n",
      "[Parallel(n_jobs=-1)]: Done 4984 tasks      | elapsed:   20.7s\n",
      "[Parallel(n_jobs=-1)]: Done 5000 out of 5000 | elapsed:   20.8s finished\n"
     ]
    },
    {
     "data": {
      "text/plain": [
       "RandomForestRegressor(n_estimators=5000, n_jobs=-1, random_state=0, verbose=1)"
      ]
     },
     "execution_count": 285,
     "metadata": {},
     "output_type": "execute_result"
    }
   ],
   "source": [
    "regressor.fit(X_train, y_train)"
   ]
  },
  {
   "cell_type": "code",
   "execution_count": 286,
   "metadata": {},
   "outputs": [
    {
     "name": "stderr",
     "output_type": "stream",
     "text": [
      "[Parallel(n_jobs=8)]: Using backend ThreadingBackend with 8 concurrent workers.\n",
      "[Parallel(n_jobs=8)]: Done  34 tasks      | elapsed:    0.0s\n",
      "[Parallel(n_jobs=8)]: Done 184 tasks      | elapsed:    0.1s\n",
      "[Parallel(n_jobs=8)]: Done 434 tasks      | elapsed:    0.1s\n",
      "[Parallel(n_jobs=8)]: Done 784 tasks      | elapsed:    0.2s\n",
      "[Parallel(n_jobs=8)]: Done 1234 tasks      | elapsed:    0.3s\n",
      "[Parallel(n_jobs=8)]: Done 1784 tasks      | elapsed:    0.5s\n",
      "[Parallel(n_jobs=8)]: Done 2434 tasks      | elapsed:    0.6s\n",
      "[Parallel(n_jobs=8)]: Done 3184 tasks      | elapsed:    0.7s\n",
      "[Parallel(n_jobs=8)]: Done 4034 tasks      | elapsed:    1.0s\n",
      "[Parallel(n_jobs=8)]: Done 4984 tasks      | elapsed:    1.2s\n",
      "[Parallel(n_jobs=8)]: Done 5000 out of 5000 | elapsed:    1.2s finished\n"
     ]
    }
   ],
   "source": [
    "y_pred = regressor.predict(X_test)"
   ]
  },
  {
   "cell_type": "code",
   "execution_count": 213,
   "metadata": {},
   "outputs": [
    {
     "name": "stderr",
     "output_type": "stream",
     "text": [
      "[Parallel(n_jobs=8)]: Using backend ThreadingBackend with 8 concurrent workers.\n",
      "[Parallel(n_jobs=8)]: Done  34 tasks      | elapsed:    0.0s\n",
      "[Parallel(n_jobs=8)]: Done 184 tasks      | elapsed:    0.0s\n",
      "[Parallel(n_jobs=8)]: Done 434 tasks      | elapsed:    0.1s\n",
      "[Parallel(n_jobs=8)]: Done 784 tasks      | elapsed:    0.1s\n",
      "[Parallel(n_jobs=8)]: Done 1234 tasks      | elapsed:    0.1s\n",
      "[Parallel(n_jobs=8)]: Done 1784 tasks      | elapsed:    0.2s\n",
      "[Parallel(n_jobs=8)]: Done 2434 tasks      | elapsed:    0.2s\n",
      "[Parallel(n_jobs=8)]: Done 3184 tasks      | elapsed:    0.3s\n",
      "[Parallel(n_jobs=8)]: Done 4034 tasks      | elapsed:    0.4s\n",
      "[Parallel(n_jobs=8)]: Done 4984 tasks      | elapsed:    0.5s\n",
      "[Parallel(n_jobs=8)]: Done 5000 out of 5000 | elapsed:    0.5s finished\n",
      "[Parallel(n_jobs=8)]: Using backend ThreadingBackend with 8 concurrent workers.\n",
      "[Parallel(n_jobs=8)]: Done  34 tasks      | elapsed:    0.0s\n",
      "[Parallel(n_jobs=8)]: Done 184 tasks      | elapsed:    0.0s\n",
      "[Parallel(n_jobs=8)]: Done 434 tasks      | elapsed:    0.1s\n",
      "[Parallel(n_jobs=8)]: Done 784 tasks      | elapsed:    0.1s\n",
      "[Parallel(n_jobs=8)]: Done 1234 tasks      | elapsed:    0.2s\n",
      "[Parallel(n_jobs=8)]: Done 1784 tasks      | elapsed:    0.2s\n",
      "[Parallel(n_jobs=8)]: Done 2434 tasks      | elapsed:    0.2s\n",
      "[Parallel(n_jobs=8)]: Done 3184 tasks      | elapsed:    0.3s\n",
      "[Parallel(n_jobs=8)]: Done 4034 tasks      | elapsed:    0.4s\n",
      "[Parallel(n_jobs=8)]: Done 4984 tasks      | elapsed:    0.5s\n",
      "[Parallel(n_jobs=8)]: Done 5000 out of 5000 | elapsed:    0.5s finished\n"
     ]
    }
   ],
   "source": [
    "train_rf_predictions = regressor.predict(X_train)\n",
    "#train_rf_probs = regressor.predict_proba(X_train)[:, 1]\n",
    "\n",
    "rf_predictions = regressor.predict(X_test)\n",
    "#rf_probs = regressor.predict_proba(X_test)[:, 1]"
   ]
  },
  {
   "cell_type": "code",
   "execution_count": 287,
   "metadata": {},
   "outputs": [
    {
     "data": {
      "text/plain": [
       "12.516757582024168"
      ]
     },
     "execution_count": 287,
     "metadata": {},
     "output_type": "execute_result"
    }
   ],
   "source": [
    "#Baseline Error\n",
    "baseline_err = abs(y_train.mean()-y_train)\n",
    "baseline_err.mean()"
   ]
  },
  {
   "cell_type": "code",
   "execution_count": 269,
   "metadata": {},
   "outputs": [
    {
     "data": {
      "text/plain": [
       "14.861342024042086"
      ]
     },
     "execution_count": 269,
     "metadata": {},
     "output_type": "execute_result"
    }
   ],
   "source": []
  },
  {
   "cell_type": "code",
   "execution_count": 230,
   "metadata": {},
   "outputs": [],
   "source": [
    "from sklearn.metrics import mean_squared_error, r2_score"
   ]
  },
  {
   "cell_type": "code",
   "execution_count": 288,
   "metadata": {},
   "outputs": [
    {
     "data": {
      "text/plain": [
       "1.6609706770376356"
      ]
     },
     "execution_count": 288,
     "metadata": {},
     "output_type": "execute_result"
    }
   ],
   "source": [
    "real_err = (y_pred-y_test)\n",
    "real_err.mean()"
   ]
  },
  {
   "cell_type": "code",
   "execution_count": 289,
   "metadata": {},
   "outputs": [],
   "source": [
    "mse = mean_squared_error(y_test,y_pred)"
   ]
  },
  {
   "cell_type": "markdown",
   "metadata": {},
   "source": []
  },
  {
   "cell_type": "code",
   "execution_count": 279,
   "metadata": {},
   "outputs": [
    {
     "name": "stderr",
     "output_type": "stream",
     "text": [
      "/Users/jacobberger/anaconda3/lib/python3.7/site-packages/ipykernel_launcher.py:1: RuntimeWarning: divide by zero encountered in true_divide\n",
      "  \"\"\"Entry point for launching an IPython kernel.\n"
     ]
    },
    {
     "data": {
      "text/plain": [
       "(array([ 4.,  5., 11., 23., 19., 22., 14.,  3.,  5.,  3.]),\n",
       " array([-25.30927153, -20.06591321, -14.82255488,  -9.57919656,\n",
       "         -4.33583823,   0.90752009,   6.15087842,  11.39423674,\n",
       "         16.63759507,  21.88095339,  27.12431172]),\n",
       " <a list of 10 Patch objects>)"
      ]
     },
     "execution_count": 279,
     "metadata": {},
     "output_type": "execute_result"
    },
    {
     "data": {
      "image/png": "[encoded data removed]",
      "text/plain": [
       "<Figure size 432x288 with 1 Axes>"
      ]
     },
     "metadata": {
      "needs_background": "light"
     },
     "output_type": "display_data"
    }
   ],
   "source": [
    "mape = 100*(real_err/y_test)\n",
    "plt.hist(real_err)\n",
    "#accuracy = 100-mape.mean()\n",
    "#accuracy"
   ]
  },
  {
   "cell_type": "code",
   "execution_count": 245,
   "metadata": {},
   "outputs": [
    {
     "data": {
      "text/plain": [
       "113.05054834646026"
      ]
     },
     "execution_count": 245,
     "metadata": {},
     "output_type": "execute_result"
    }
   ],
   "source": [
    "mse"
   ]
  },
  {
   "cell_type": "code",
   "execution_count": 261,
   "metadata": {},
   "outputs": [
    {
     "data": {
      "text/plain": [
       "0.2768993236278787"
      ]
     },
     "execution_count": 261,
     "metadata": {},
     "output_type": "execute_result"
    }
   ],
   "source": [
    "r2"
   ]
  },
  {
   "cell_type": "code",
   "execution_count": 246,
   "metadata": {},
   "outputs": [
    {
     "data": {
      "text/plain": [
       "10.632523141120373"
      ]
     },
     "execution_count": 246,
     "metadata": {},
     "output_type": "execute_result"
    }
   ],
   "source": [
    "np.sqrt(mse)"
   ]
  },
  {
   "cell_type": "code",
   "execution_count": 259,
   "metadata": {},
   "outputs": [
    {
     "ename": "TypeError",
     "evalue": "'str' object is not callable",
     "output_type": "error",
     "traceback": [
      "\u001b[0;31m---------------------------------------------------------------------------\u001b[0m",
      "\u001b[0;31mTypeError\u001b[0m                                 Traceback (most recent call last)",
      "\u001b[0;32m<ipython-input-259-3fd2d8cf5c18>\u001b[0m in \u001b[0;36m<module>\u001b[0;34m\u001b[0m\n\u001b[1;32m      1\u001b[0m \u001b[0mplt\u001b[0m\u001b[0;34m.\u001b[0m\u001b[0mscatter\u001b[0m\u001b[0;34m(\u001b[0m\u001b[0mx\u001b[0m\u001b[0;34m=\u001b[0m\u001b[0my_pred\u001b[0m\u001b[0;34m,\u001b[0m\u001b[0my\u001b[0m\u001b[0;34m=\u001b[0m\u001b[0my_test\u001b[0m\u001b[0;34m)\u001b[0m\u001b[0;34m\u001b[0m\u001b[0;34m\u001b[0m\u001b[0m\n\u001b[0;32m----> 2\u001b[0;31m \u001b[0mplt\u001b[0m\u001b[0;34m.\u001b[0m\u001b[0mxlabel\u001b[0m\u001b[0;34m(\u001b[0m\u001b[0;34m'y_pred'\u001b[0m\u001b[0;34m)\u001b[0m\u001b[0;34m\u001b[0m\u001b[0;34m\u001b[0m\u001b[0m\n\u001b[0m\u001b[1;32m      3\u001b[0m \u001b[0mplt\u001b[0m\u001b[0;34m.\u001b[0m\u001b[0mylabel\u001b[0m\u001b[0;34m(\u001b[0m\u001b[0;34m'y_real'\u001b[0m\u001b[0;34m)\u001b[0m\u001b[0;34m\u001b[0m\u001b[0;34m\u001b[0m\u001b[0m\n\u001b[1;32m      4\u001b[0m \u001b[0mplt\u001b[0m\u001b[0;34m.\u001b[0m\u001b[0mshow\u001b[0m\u001b[0;34m(\u001b[0m\u001b[0;34m)\u001b[0m\u001b[0;34m\u001b[0m\u001b[0;34m\u001b[0m\u001b[0m\n",
      "\u001b[0;31mTypeError\u001b[0m: 'str' object is not callable"
     ]
    },
    {
     "data": {
      "image/png": "[encoded data removed]",
      "text/plain": [
       "<Figure size 432x288 with 1 Axes>"
      ]
     },
     "metadata": {
      "needs_background": "light"
     },
     "output_type": "display_data"
    }
   ],
   "source": [
    "plt.scatter(x=y_pred,y=y_test)\n",
    "plt.xlabel('y_pred')\n",
    "plt.ylabel('y_real')\n",
    "plt.show()"
   ]
  },
  {
   "cell_type": "code",
   "execution_count": 248,
   "metadata": {},
   "outputs": [
    {
     "name": "stdout",
     "output_type": "stream",
     "text": [
      "0\n",
      "1\n",
      "2\n",
      "3\n"
     ]
    }
   ],
   "source": [
    "n=0\n",
    "for num in y_test:\n",
    "    if num==0:\n",
    "        print(n)\n",
    "        n+=1"
   ]
  },
  {
   "cell_type": "code",
   "execution_count": 251,
   "metadata": {},
   "outputs": [],
   "source": [
    "df_test = df_model_rf[df_model_rf.FshNDLvBirthsRate1==0] "
   ]
  },
  {
   "cell_type": "code",
   "execution_count": 252,
   "metadata": {},
   "outputs": [
    {
     "data": {
      "text/html": [
       "<div>\n",
       "<style scoped>\n",
       "    .dataframe tbody tr th:only-of-type {\n",
       "        vertical-align: middle;\n",
       "    }\n",
       "\n",
       "    .dataframe tbody tr th {\n",
       "        vertical-align: top;\n",
       "    }\n",
       "\n",
       "    .dataframe thead th {\n",
       "        text-align: right;\n",
       "    }\n",
       "</style>\n",
       "<table border=\"1\" class=\"dataframe\">\n",
       "  <thead>\n",
       "    <tr style=\"text-align: right;\">\n",
       "      <th></th>\n",
       "      <th>PrevClinName1</th>\n",
       "      <th>IVF_Rate</th>\n",
       "      <th>ICSI_Rate</th>\n",
       "      <th>Unstimulated_Rate</th>\n",
       "      <th>Gest_Rate</th>\n",
       "      <th>PGD_Rate</th>\n",
       "      <th>Diag_TubalRate</th>\n",
       "      <th>Diag_OvulatoryRate</th>\n",
       "      <th>Diag_DORRate</th>\n",
       "      <th>Diag_EndometriosisRate</th>\n",
       "      <th>...</th>\n",
       "      <th>SART_Member_No</th>\n",
       "      <th>SART_Member_Yes</th>\n",
       "      <th>Surrogates_No</th>\n",
       "      <th>Surrogates_Yes</th>\n",
       "      <th>SingleWomen_No</th>\n",
       "      <th>SingleWomen_Yes</th>\n",
       "      <th>DonorEmbryo_No</th>\n",
       "      <th>DonorEmbryo_Yes</th>\n",
       "      <th>DonorEgg_No</th>\n",
       "      <th>DonorEgg_Yes</th>\n",
       "    </tr>\n",
       "  </thead>\n",
       "  <tbody>\n",
       "    <tr>\n",
       "      <th>6</th>\n",
       "      <td>NEW DIRECTION FERTILITY CENTERS</td>\n",
       "      <td>100.0</td>\n",
       "      <td>71.0</td>\n",
       "      <td>0.0</td>\n",
       "      <td>0.0</td>\n",
       "      <td>21.0</td>\n",
       "      <td>9.0</td>\n",
       "      <td>20.0</td>\n",
       "      <td>15.0</td>\n",
       "      <td>13.0</td>\n",
       "      <td>...</td>\n",
       "      <td>1</td>\n",
       "      <td>0</td>\n",
       "      <td>1</td>\n",
       "      <td>0</td>\n",
       "      <td>0</td>\n",
       "      <td>1</td>\n",
       "      <td>1</td>\n",
       "      <td>0</td>\n",
       "      <td>0</td>\n",
       "      <td>1</td>\n",
       "    </tr>\n",
       "    <tr>\n",
       "      <th>12</th>\n",
       "      <td>ARIZONA CENTER FOR FERTILITY STUDIES</td>\n",
       "      <td>0.0</td>\n",
       "      <td>0.0</td>\n",
       "      <td>0.0</td>\n",
       "      <td>0.0</td>\n",
       "      <td>0.0</td>\n",
       "      <td>14.0</td>\n",
       "      <td>17.0</td>\n",
       "      <td>21.0</td>\n",
       "      <td>13.0</td>\n",
       "      <td>...</td>\n",
       "      <td>1</td>\n",
       "      <td>0</td>\n",
       "      <td>0</td>\n",
       "      <td>1</td>\n",
       "      <td>0</td>\n",
       "      <td>1</td>\n",
       "      <td>0</td>\n",
       "      <td>1</td>\n",
       "      <td>0</td>\n",
       "      <td>1</td>\n",
       "    </tr>\n",
       "    <tr>\n",
       "      <th>15</th>\n",
       "      <td>FERTILITY TREATMENT CENTER, PC</td>\n",
       "      <td>100.0</td>\n",
       "      <td>55.0</td>\n",
       "      <td>3.0</td>\n",
       "      <td>0.0</td>\n",
       "      <td>0.0</td>\n",
       "      <td>1.0</td>\n",
       "      <td>64.0</td>\n",
       "      <td>35.0</td>\n",
       "      <td>4.0</td>\n",
       "      <td>...</td>\n",
       "      <td>0</td>\n",
       "      <td>1</td>\n",
       "      <td>0</td>\n",
       "      <td>1</td>\n",
       "      <td>0</td>\n",
       "      <td>1</td>\n",
       "      <td>0</td>\n",
       "      <td>1</td>\n",
       "      <td>0</td>\n",
       "      <td>1</td>\n",
       "    </tr>\n",
       "    <tr>\n",
       "      <th>20</th>\n",
       "      <td>ALTA BATES IN VITRO FERTILIZATION PROGRAM</td>\n",
       "      <td>100.0</td>\n",
       "      <td>67.0</td>\n",
       "      <td>0.0</td>\n",
       "      <td>4.0</td>\n",
       "      <td>4.0</td>\n",
       "      <td>5.0</td>\n",
       "      <td>6.0</td>\n",
       "      <td>47.0</td>\n",
       "      <td>9.0</td>\n",
       "      <td>...</td>\n",
       "      <td>0</td>\n",
       "      <td>1</td>\n",
       "      <td>0</td>\n",
       "      <td>1</td>\n",
       "      <td>0</td>\n",
       "      <td>1</td>\n",
       "      <td>0</td>\n",
       "      <td>1</td>\n",
       "      <td>0</td>\n",
       "      <td>1</td>\n",
       "    </tr>\n",
       "    <tr>\n",
       "      <th>21</th>\n",
       "      <td>CENTER FOR REPRODUCTIVE HEALTH &amp; GYNECOLOGY</td>\n",
       "      <td>100.0</td>\n",
       "      <td>66.0</td>\n",
       "      <td>0.0</td>\n",
       "      <td>0.0</td>\n",
       "      <td>23.0</td>\n",
       "      <td>13.0</td>\n",
       "      <td>2.0</td>\n",
       "      <td>47.0</td>\n",
       "      <td>3.0</td>\n",
       "      <td>...</td>\n",
       "      <td>0</td>\n",
       "      <td>1</td>\n",
       "      <td>0</td>\n",
       "      <td>1</td>\n",
       "      <td>0</td>\n",
       "      <td>1</td>\n",
       "      <td>0</td>\n",
       "      <td>1</td>\n",
       "      <td>0</td>\n",
       "      <td>1</td>\n",
       "    </tr>\n",
       "    <tr>\n",
       "      <th>23</th>\n",
       "      <td>FERTILITY CARE OF ORANGE COUNTY</td>\n",
       "      <td>100.0</td>\n",
       "      <td>100.0</td>\n",
       "      <td>0.0</td>\n",
       "      <td>0.0</td>\n",
       "      <td>0.0</td>\n",
       "      <td>12.0</td>\n",
       "      <td>11.0</td>\n",
       "      <td>39.0</td>\n",
       "      <td>0.0</td>\n",
       "      <td>...</td>\n",
       "      <td>1</td>\n",
       "      <td>0</td>\n",
       "      <td>0</td>\n",
       "      <td>1</td>\n",
       "      <td>0</td>\n",
       "      <td>1</td>\n",
       "      <td>0</td>\n",
       "      <td>1</td>\n",
       "      <td>0</td>\n",
       "      <td>1</td>\n",
       "    </tr>\n",
       "    <tr>\n",
       "      <th>26</th>\n",
       "      <td>CALIFORNIA CENTER FOR REPRODUCTIVE MEDICINE</td>\n",
       "      <td>100.0</td>\n",
       "      <td>85.0</td>\n",
       "      <td>0.0</td>\n",
       "      <td>0.0</td>\n",
       "      <td>23.0</td>\n",
       "      <td>8.0</td>\n",
       "      <td>4.0</td>\n",
       "      <td>39.0</td>\n",
       "      <td>4.0</td>\n",
       "      <td>...</td>\n",
       "      <td>0</td>\n",
       "      <td>1</td>\n",
       "      <td>0</td>\n",
       "      <td>1</td>\n",
       "      <td>0</td>\n",
       "      <td>1</td>\n",
       "      <td>0</td>\n",
       "      <td>1</td>\n",
       "      <td>0</td>\n",
       "      <td>1</td>\n",
       "    </tr>\n",
       "    <tr>\n",
       "      <th>34</th>\n",
       "      <td>MARIN FERTILITY CENTER</td>\n",
       "      <td>100.0</td>\n",
       "      <td>88.0</td>\n",
       "      <td>3.0</td>\n",
       "      <td>0.0</td>\n",
       "      <td>6.0</td>\n",
       "      <td>13.0</td>\n",
       "      <td>10.0</td>\n",
       "      <td>28.0</td>\n",
       "      <td>10.0</td>\n",
       "      <td>...</td>\n",
       "      <td>1</td>\n",
       "      <td>0</td>\n",
       "      <td>0</td>\n",
       "      <td>1</td>\n",
       "      <td>0</td>\n",
       "      <td>1</td>\n",
       "      <td>1</td>\n",
       "      <td>0</td>\n",
       "      <td>0</td>\n",
       "      <td>1</td>\n",
       "    </tr>\n",
       "    <tr>\n",
       "      <th>43</th>\n",
       "      <td>CHA FERTILITY CENTER</td>\n",
       "      <td>100.0</td>\n",
       "      <td>84.0</td>\n",
       "      <td>5.0</td>\n",
       "      <td>0.0</td>\n",
       "      <td>0.0</td>\n",
       "      <td>5.0</td>\n",
       "      <td>3.0</td>\n",
       "      <td>43.0</td>\n",
       "      <td>3.0</td>\n",
       "      <td>...</td>\n",
       "      <td>0</td>\n",
       "      <td>1</td>\n",
       "      <td>0</td>\n",
       "      <td>1</td>\n",
       "      <td>0</td>\n",
       "      <td>1</td>\n",
       "      <td>1</td>\n",
       "      <td>0</td>\n",
       "      <td>0</td>\n",
       "      <td>1</td>\n",
       "    </tr>\n",
       "    <tr>\n",
       "      <th>45</th>\n",
       "      <td>UCLA FERTILITY CENTER</td>\n",
       "      <td>100.0</td>\n",
       "      <td>84.0</td>\n",
       "      <td>4.0</td>\n",
       "      <td>0.0</td>\n",
       "      <td>0.0</td>\n",
       "      <td>2.0</td>\n",
       "      <td>12.0</td>\n",
       "      <td>5.0</td>\n",
       "      <td>8.0</td>\n",
       "      <td>...</td>\n",
       "      <td>0</td>\n",
       "      <td>1</td>\n",
       "      <td>0</td>\n",
       "      <td>1</td>\n",
       "      <td>0</td>\n",
       "      <td>1</td>\n",
       "      <td>0</td>\n",
       "      <td>1</td>\n",
       "      <td>0</td>\n",
       "      <td>1</td>\n",
       "    </tr>\n",
       "    <tr>\n",
       "      <th>47</th>\n",
       "      <td>INNOVATIVE FERTILITY CENTER</td>\n",
       "      <td>100.0</td>\n",
       "      <td>100.0</td>\n",
       "      <td>0.0</td>\n",
       "      <td>0.0</td>\n",
       "      <td>22.0</td>\n",
       "      <td>8.0</td>\n",
       "      <td>3.0</td>\n",
       "      <td>23.0</td>\n",
       "      <td>2.0</td>\n",
       "      <td>...</td>\n",
       "      <td>1</td>\n",
       "      <td>0</td>\n",
       "      <td>0</td>\n",
       "      <td>1</td>\n",
       "      <td>0</td>\n",
       "      <td>1</td>\n",
       "      <td>0</td>\n",
       "      <td>1</td>\n",
       "      <td>0</td>\n",
       "      <td>1</td>\n",
       "    </tr>\n",
       "    <tr>\n",
       "      <th>51</th>\n",
       "      <td>NEWPORT FERTILITY CENTER</td>\n",
       "      <td>100.0</td>\n",
       "      <td>100.0</td>\n",
       "      <td>0.0</td>\n",
       "      <td>0.0</td>\n",
       "      <td>0.0</td>\n",
       "      <td>17.0</td>\n",
       "      <td>13.0</td>\n",
       "      <td>56.0</td>\n",
       "      <td>15.0</td>\n",
       "      <td>...</td>\n",
       "      <td>1</td>\n",
       "      <td>0</td>\n",
       "      <td>0</td>\n",
       "      <td>1</td>\n",
       "      <td>0</td>\n",
       "      <td>1</td>\n",
       "      <td>1</td>\n",
       "      <td>0</td>\n",
       "      <td>0</td>\n",
       "      <td>1</td>\n",
       "    </tr>\n",
       "    <tr>\n",
       "      <th>55</th>\n",
       "      <td>LANE FERTILITY INSTITUTE</td>\n",
       "      <td>100.0</td>\n",
       "      <td>57.0</td>\n",
       "      <td>0.0</td>\n",
       "      <td>0.0</td>\n",
       "      <td>0.0</td>\n",
       "      <td>5.0</td>\n",
       "      <td>9.0</td>\n",
       "      <td>37.0</td>\n",
       "      <td>5.0</td>\n",
       "      <td>...</td>\n",
       "      <td>0</td>\n",
       "      <td>1</td>\n",
       "      <td>0</td>\n",
       "      <td>1</td>\n",
       "      <td>0</td>\n",
       "      <td>1</td>\n",
       "      <td>0</td>\n",
       "      <td>1</td>\n",
       "      <td>0</td>\n",
       "      <td>1</td>\n",
       "    </tr>\n",
       "    <tr>\n",
       "      <th>65</th>\n",
       "      <td>REPRODUCTIVE SCIENCES MEDICAL CENTER</td>\n",
       "      <td>100.0</td>\n",
       "      <td>100.0</td>\n",
       "      <td>0.0</td>\n",
       "      <td>26.0</td>\n",
       "      <td>63.0</td>\n",
       "      <td>9.0</td>\n",
       "      <td>10.0</td>\n",
       "      <td>36.0</td>\n",
       "      <td>4.0</td>\n",
       "      <td>...</td>\n",
       "      <td>0</td>\n",
       "      <td>1</td>\n",
       "      <td>0</td>\n",
       "      <td>1</td>\n",
       "      <td>0</td>\n",
       "      <td>1</td>\n",
       "      <td>0</td>\n",
       "      <td>1</td>\n",
       "      <td>0</td>\n",
       "      <td>1</td>\n",
       "    </tr>\n",
       "    <tr>\n",
       "      <th>77</th>\n",
       "      <td>VALLEY CENTER FOR REPRODUCTIVE HEALTH</td>\n",
       "      <td>100.0</td>\n",
       "      <td>71.0</td>\n",
       "      <td>0.0</td>\n",
       "      <td>3.0</td>\n",
       "      <td>0.0</td>\n",
       "      <td>10.0</td>\n",
       "      <td>6.0</td>\n",
       "      <td>15.0</td>\n",
       "      <td>6.0</td>\n",
       "      <td>...</td>\n",
       "      <td>0</td>\n",
       "      <td>1</td>\n",
       "      <td>0</td>\n",
       "      <td>1</td>\n",
       "      <td>0</td>\n",
       "      <td>1</td>\n",
       "      <td>0</td>\n",
       "      <td>1</td>\n",
       "      <td>0</td>\n",
       "      <td>1</td>\n",
       "    </tr>\n",
       "    <tr>\n",
       "      <th>251</th>\n",
       "      <td>FERTILITY CENTER OF LAS VEGAS</td>\n",
       "      <td>100.0</td>\n",
       "      <td>100.0</td>\n",
       "      <td>0.0</td>\n",
       "      <td>40.0</td>\n",
       "      <td>20.0</td>\n",
       "      <td>9.0</td>\n",
       "      <td>3.0</td>\n",
       "      <td>48.0</td>\n",
       "      <td>1.0</td>\n",
       "      <td>...</td>\n",
       "      <td>0</td>\n",
       "      <td>1</td>\n",
       "      <td>0</td>\n",
       "      <td>1</td>\n",
       "      <td>0</td>\n",
       "      <td>1</td>\n",
       "      <td>0</td>\n",
       "      <td>1</td>\n",
       "      <td>0</td>\n",
       "      <td>1</td>\n",
       "    </tr>\n",
       "    <tr>\n",
       "      <th>276</th>\n",
       "      <td>CENTER FOR REPRODUCTIVE MEDICINE OF NEW MEXICO</td>\n",
       "      <td>100.0</td>\n",
       "      <td>80.0</td>\n",
       "      <td>0.0</td>\n",
       "      <td>0.0</td>\n",
       "      <td>35.0</td>\n",
       "      <td>5.0</td>\n",
       "      <td>11.0</td>\n",
       "      <td>25.0</td>\n",
       "      <td>3.0</td>\n",
       "      <td>...</td>\n",
       "      <td>0</td>\n",
       "      <td>0</td>\n",
       "      <td>0</td>\n",
       "      <td>0</td>\n",
       "      <td>0</td>\n",
       "      <td>0</td>\n",
       "      <td>0</td>\n",
       "      <td>0</td>\n",
       "      <td>0</td>\n",
       "      <td>0</td>\n",
       "    </tr>\n",
       "    <tr>\n",
       "      <th>437</th>\n",
       "      <td>LIFESOURCE FERTILITY CENTER</td>\n",
       "      <td>100.0</td>\n",
       "      <td>89.0</td>\n",
       "      <td>0.0</td>\n",
       "      <td>0.0</td>\n",
       "      <td>0.0</td>\n",
       "      <td>9.0</td>\n",
       "      <td>17.0</td>\n",
       "      <td>30.0</td>\n",
       "      <td>10.0</td>\n",
       "      <td>...</td>\n",
       "      <td>0</td>\n",
       "      <td>0</td>\n",
       "      <td>0</td>\n",
       "      <td>0</td>\n",
       "      <td>0</td>\n",
       "      <td>0</td>\n",
       "      <td>0</td>\n",
       "      <td>0</td>\n",
       "      <td>0</td>\n",
       "      <td>0</td>\n",
       "    </tr>\n",
       "  </tbody>\n",
       "</table>\n",
       "<p>18 rows × 111 columns</p>\n",
       "</div>"
      ],
      "text/plain": [
       "                                      PrevClinName1  IVF_Rate  ICSI_Rate  \\\n",
       "6                   NEW DIRECTION FERTILITY CENTERS     100.0       71.0   \n",
       "12             ARIZONA CENTER FOR FERTILITY STUDIES       0.0        0.0   \n",
       "15                   FERTILITY TREATMENT CENTER, PC     100.0       55.0   \n",
       "20        ALTA BATES IN VITRO FERTILIZATION PROGRAM     100.0       67.0   \n",
       "21      CENTER FOR REPRODUCTIVE HEALTH & GYNECOLOGY     100.0       66.0   \n",
       "23                  FERTILITY CARE OF ORANGE COUNTY     100.0      100.0   \n",
       "26      CALIFORNIA CENTER FOR REPRODUCTIVE MEDICINE     100.0       85.0   \n",
       "34                           MARIN FERTILITY CENTER     100.0       88.0   \n",
       "43                             CHA FERTILITY CENTER     100.0       84.0   \n",
       "45                            UCLA FERTILITY CENTER     100.0       84.0   \n",
       "47                      INNOVATIVE FERTILITY CENTER     100.0      100.0   \n",
       "51                         NEWPORT FERTILITY CENTER     100.0      100.0   \n",
       "55                         LANE FERTILITY INSTITUTE     100.0       57.0   \n",
       "65             REPRODUCTIVE SCIENCES MEDICAL CENTER     100.0      100.0   \n",
       "77            VALLEY CENTER FOR REPRODUCTIVE HEALTH     100.0       71.0   \n",
       "251                   FERTILITY CENTER OF LAS VEGAS     100.0      100.0   \n",
       "276  CENTER FOR REPRODUCTIVE MEDICINE OF NEW MEXICO     100.0       80.0   \n",
       "437                     LIFESOURCE FERTILITY CENTER     100.0       89.0   \n",
       "\n",
       "     Unstimulated_Rate  Gest_Rate  PGD_Rate  Diag_TubalRate  \\\n",
       "6                  0.0        0.0      21.0             9.0   \n",
       "12                 0.0        0.0       0.0            14.0   \n",
       "15                 3.0        0.0       0.0             1.0   \n",
       "20                 0.0        4.0       4.0             5.0   \n",
       "21                 0.0        0.0      23.0            13.0   \n",
       "23                 0.0        0.0       0.0            12.0   \n",
       "26                 0.0        0.0      23.0             8.0   \n",
       "34                 3.0        0.0       6.0            13.0   \n",
       "43                 5.0        0.0       0.0             5.0   \n",
       "45                 4.0        0.0       0.0             2.0   \n",
       "47                 0.0        0.0      22.0             8.0   \n",
       "51                 0.0        0.0       0.0            17.0   \n",
       "55                 0.0        0.0       0.0             5.0   \n",
       "65                 0.0       26.0      63.0             9.0   \n",
       "77                 0.0        3.0       0.0            10.0   \n",
       "251                0.0       40.0      20.0             9.0   \n",
       "276                0.0        0.0      35.0             5.0   \n",
       "437                0.0        0.0       0.0             9.0   \n",
       "\n",
       "     Diag_OvulatoryRate  Diag_DORRate  Diag_EndometriosisRate  ...  \\\n",
       "6                  20.0          15.0                    13.0  ...   \n",
       "12                 17.0          21.0                    13.0  ...   \n",
       "15                 64.0          35.0                     4.0  ...   \n",
       "20                  6.0          47.0                     9.0  ...   \n",
       "21                  2.0          47.0                     3.0  ...   \n",
       "23                 11.0          39.0                     0.0  ...   \n",
       "26                  4.0          39.0                     4.0  ...   \n",
       "34                 10.0          28.0                    10.0  ...   \n",
       "43                  3.0          43.0                     3.0  ...   \n",
       "45                 12.0           5.0                     8.0  ...   \n",
       "47                  3.0          23.0                     2.0  ...   \n",
       "51                 13.0          56.0                    15.0  ...   \n",
       "55                  9.0          37.0                     5.0  ...   \n",
       "65                 10.0          36.0                     4.0  ...   \n",
       "77                  6.0          15.0                     6.0  ...   \n",
       "251                 3.0          48.0                     1.0  ...   \n",
       "276                11.0          25.0                     3.0  ...   \n",
       "437                17.0          30.0                    10.0  ...   \n",
       "\n",
       "     SART_Member_No  SART_Member_Yes  Surrogates_No  Surrogates_Yes  \\\n",
       "6                 1                0              1               0   \n",
       "12                1                0              0               1   \n",
       "15                0                1              0               1   \n",
       "20                0                1              0               1   \n",
       "21                0                1              0               1   \n",
       "23                1                0              0               1   \n",
       "26                0                1              0               1   \n",
       "34                1                0              0               1   \n",
       "43                0                1              0               1   \n",
       "45                0                1              0               1   \n",
       "47                1                0              0               1   \n",
       "51                1                0              0               1   \n",
       "55                0                1              0               1   \n",
       "65                0                1              0               1   \n",
       "77                0                1              0               1   \n",
       "251               0                1              0               1   \n",
       "276               0                0              0               0   \n",
       "437               0                0              0               0   \n",
       "\n",
       "     SingleWomen_No  SingleWomen_Yes  DonorEmbryo_No  DonorEmbryo_Yes  \\\n",
       "6                 0                1               1                0   \n",
       "12                0                1               0                1   \n",
       "15                0                1               0                1   \n",
       "20                0                1               0                1   \n",
       "21                0                1               0                1   \n",
       "23                0                1               0                1   \n",
       "26                0                1               0                1   \n",
       "34                0                1               1                0   \n",
       "43                0                1               1                0   \n",
       "45                0                1               0                1   \n",
       "47                0                1               0                1   \n",
       "51                0                1               1                0   \n",
       "55                0                1               0                1   \n",
       "65                0                1               0                1   \n",
       "77                0                1               0                1   \n",
       "251               0                1               0                1   \n",
       "276               0                0               0                0   \n",
       "437               0                0               0                0   \n",
       "\n",
       "     DonorEgg_No  DonorEgg_Yes  \n",
       "6              0             1  \n",
       "12             0             1  \n",
       "15             0             1  \n",
       "20             0             1  \n",
       "21             0             1  \n",
       "23             0             1  \n",
       "26             0             1  \n",
       "34             0             1  \n",
       "43             0             1  \n",
       "45             0             1  \n",
       "47             0             1  \n",
       "51             0             1  \n",
       "55             0             1  \n",
       "65             0             1  \n",
       "77             0             1  \n",
       "251            0             1  \n",
       "276            0             0  \n",
       "437            0             0  \n",
       "\n",
       "[18 rows x 111 columns]"
      ]
     },
     "execution_count": 252,
     "metadata": {},
     "output_type": "execute_result"
    }
   ],
   "source": [
    "df_test"
   ]
  },
  {
   "cell_type": "code",
   "execution_count": 258,
   "metadata": {},
   "outputs": [
    {
     "data": {
      "text/plain": [
       "<matplotlib.axes._subplots.AxesSubplot at 0x1a23af3050>"
      ]
     },
     "execution_count": 258,
     "metadata": {},
     "output_type": "execute_result"
    },
    {
     "data": {
      "image/png": "[encoded data removed]",
      "text/plain": [
       "<Figure size 432x288 with 1 Axes>"
      ]
     },
     "metadata": {
      "needs_background": "light"
     },
     "output_type": "display_data"
    }
   ],
   "source": [
    "sns.scatterplot(data=df_model_rf,x='FshNDCycle1',y='FshNDLvBirthsRate1')"
   ]
  },
  {
   "cell_type": "code",
   "execution_count": 202,
   "metadata": {},
   "outputs": [
    {
     "name": "stdout",
     "output_type": "stream",
     "text": [
      "Feature: 0, Score: 0.00002\n",
      "IVF_Rate\n",
      "Feature: 1, Score: 0.03002\n",
      "ICSI_Rate\n",
      "Feature: 2, Score: 0.00072\n",
      "Unstimulated_Rate\n",
      "Feature: 3, Score: 0.00247\n",
      "Gest_Rate\n",
      "Feature: 4, Score: 0.00454\n",
      "PGD_Rate\n",
      "Feature: 5, Score: 0.00881\n",
      "Diag_TubalRate\n",
      "Feature: 6, Score: 0.01433\n",
      "Diag_OvulatoryRate\n",
      "Feature: 7, Score: 0.01681\n",
      "Diag_DORRate\n",
      "Feature: 8, Score: 0.01014\n",
      "Diag_EndometriosisRate\n",
      "Feature: 9, Score: 0.00899\n",
      "Diag_UterineRate\n",
      "Feature: 10, Score: 0.01509\n",
      "Diag_MaleRate\n",
      "Feature: 11, Score: 0.01327\n",
      "Diag_OtherRate\n",
      "Feature: 12, Score: 0.00938\n",
      "Diag_UnknownRate\n",
      "Feature: 13, Score: 0.00783\n",
      "Diag_ComboNoMaleRate\n",
      "Feature: 14, Score: 0.01028\n",
      "Diag_ComboMaleRate\n",
      "Feature: 15, Score: 0.00542\n",
      "TotNumCyclesAll\n",
      "Feature: 16, Score: 0.00468\n",
      "TotUsingFrozenEggs\n",
      "Feature: 17, Score: 0.23986\n",
      "FshNDCycle1\n",
      "Feature: 18, Score: 0.02541\n",
      "FshNDCycle2\n",
      "Feature: 19, Score: 0.01383\n",
      "FshNDCycle3\n",
      "Feature: 20, Score: 0.00520\n",
      "FshNDCycle4\n",
      "Feature: 21, Score: 0.00333\n",
      "FshNDCycle5\n",
      "Feature: 22, Score: 0.00472\n",
      "FshNDCycle6\n",
      "Feature: 23, Score: 0.04727\n",
      "FshNDCansRate1\n",
      "Feature: 24, Score: 0.01369\n",
      "FshNDCansRate2\n",
      "Feature: 25, Score: 0.05273\n",
      "FshNDCansRate3\n",
      "Feature: 26, Score: 0.00365\n",
      "FshNDCansRate4\n",
      "Feature: 27, Score: 0.00158\n",
      "FshNDCansRate5\n",
      "Feature: 28, Score: 0.00042\n",
      "FshNDCansRate6\n",
      "Feature: 29, Score: 0.00565\n",
      "FshNDEmbryosRate1\n",
      "Feature: 30, Score: 0.04306\n",
      "FshNDEmbryosRate2\n",
      "Feature: 31, Score: 0.01247\n",
      "FshNDEmbryosRate3\n",
      "Feature: 32, Score: 0.01487\n",
      "FshNDEmbryosRate4\n",
      "Feature: 33, Score: 0.00798\n",
      "FshNDEmbryosRate5\n",
      "Feature: 34, Score: 0.00271\n",
      "FshNDEmbryosRate6\n",
      "Feature: 35, Score: 0.00645\n",
      "FshNDImplant1\n",
      "Feature: 36, Score: 0.00390\n",
      "FshNDImplant2\n",
      "Feature: 37, Score: 0.00420\n",
      "FshNDImplant3\n",
      "Feature: 38, Score: 0.00215\n",
      "FshNDImplant4\n",
      "Feature: 39, Score: 0.00244\n",
      "FshNDImplant5\n",
      "Feature: 40, Score: 0.00157\n",
      "FshNDImplant6\n",
      "Feature: 41, Score: 0.00882\n",
      "FshNDLvBirthsRate2\n",
      "Feature: 42, Score: 0.00301\n",
      "FshNDLvBirthsRate3\n",
      "Feature: 43, Score: 0.00424\n",
      "FshNDLvBirthsRate4\n",
      "Feature: 44, Score: 0.00182\n",
      "FshNDLvBirthsRate5\n",
      "Feature: 45, Score: 0.00173\n",
      "FshNDLvBirthsRate6\n",
      "Feature: 46, Score: 0.00158\n",
      "FshNDTransfers1\n",
      "Feature: 47, Score: 0.02151\n",
      "FshNDTransfers2\n",
      "Feature: 48, Score: 0.00581\n",
      "FshNDTransfers3\n",
      "Feature: 49, Score: 0.00619\n",
      "FshNDTransfers4\n",
      "Feature: 50, Score: 0.00458\n",
      "FshNDTransfers5\n",
      "Feature: 51, Score: 0.00488\n",
      "FshNDTransfers6\n",
      "Feature: 52, Score: 0.00262\n",
      "ThwNDTotCycles1\n",
      "Feature: 53, Score: 0.00568\n",
      "ThwNDTotCycles2\n",
      "Feature: 54, Score: 0.00365\n",
      "ThwNDTotCycles3\n",
      "Feature: 55, Score: 0.00405\n",
      "ThwNDTotCycles4\n",
      "Feature: 56, Score: 0.00570\n",
      "ThwNDTotCycles5\n",
      "Feature: 57, Score: 0.00337\n",
      "ThwNDTotCycles6\n",
      "Feature: 58, Score: 0.00191\n",
      "ThwNDTransfers1\n",
      "Feature: 59, Score: 0.01007\n",
      "ThwNDTransfers2\n",
      "Feature: 60, Score: 0.00674\n",
      "ThwNDTransfers3\n",
      "Feature: 61, Score: 0.01580\n",
      "ThwNDTransfers4\n",
      "Feature: 62, Score: 0.00177\n",
      "ThwNDTransfers5\n",
      "Feature: 63, Score: 0.00184\n",
      "ThwNDTransfers6\n",
      "Feature: 64, Score: 0.00009\n",
      "ThwNDEstTransPerRetrievRate1\n",
      "Feature: 65, Score: 0.01323\n",
      "ThwNDEstTransPerRetrievRate2\n",
      "Feature: 66, Score: 0.00582\n",
      "ThwNDEstTransPerRetrievRate3\n",
      "Feature: 67, Score: 0.01809\n",
      "ThwNDEstTransPerRetrievRate4\n",
      "Feature: 68, Score: 0.00109\n",
      "ThwNDEstTransPerRetrievRate5\n",
      "Feature: 69, Score: 0.00039\n",
      "ThwNDEstTransPerRetrievRate6\n",
      "Feature: 70, Score: 0.00008\n",
      "ThwNDEmbryosRate1\n",
      "Feature: 71, Score: 0.00360\n",
      "ThwNDEmbryosRate2\n",
      "Feature: 72, Score: 0.00300\n",
      "ThwNDEmbryosRate3\n",
      "Feature: 73, Score: 0.00291\n",
      "ThwNDEmbryosRate4\n",
      "Feature: 74, Score: 0.00305\n",
      "ThwNDEmbryosRate5\n",
      "Feature: 75, Score: 0.00467\n",
      "ThwNDEmbryosRate6\n",
      "Feature: 76, Score: 0.00239\n",
      "ThwNDImplant1\n",
      "Feature: 77, Score: 0.00589\n",
      "ThwNDImplant2\n",
      "Feature: 78, Score: 0.00784\n",
      "ThwNDImplant3\n",
      "Feature: 79, Score: 0.00374\n",
      "ThwNDImplant4\n",
      "Feature: 80, Score: 0.00747\n",
      "ThwNDImplant5\n",
      "Feature: 81, Score: 0.00674\n",
      "ThwNDImplant6\n",
      "Feature: 82, Score: 0.00499\n",
      "ThwNDLvBirths_TransRate1\n",
      "Feature: 83, Score: 0.00815\n",
      "ThwNDLvBirths_TransRate2\n",
      "Feature: 84, Score: 0.00396\n",
      "ThwNDLvBirths_TransRate3\n",
      "Feature: 85, Score: 0.00264\n",
      "ThwNDLvBirths_TransRate4\n",
      "Feature: 86, Score: 0.00405\n",
      "ThwNDLvBirths_TransRate5\n",
      "Feature: 87, Score: 0.00362\n",
      "ThwNDLvBirths_TransRate6\n",
      "Feature: 88, Score: 0.00416\n",
      "TotBankingCycles1\n",
      "Feature: 89, Score: 0.03188\n",
      "TotBankingCycles2\n",
      "Feature: 90, Score: 0.00315\n",
      "TotBankingCycles3\n",
      "Feature: 91, Score: 0.00661\n",
      "TotBankingCycles4\n",
      "Feature: 92, Score: 0.00408\n",
      "TotBankingCycles5\n",
      "Feature: 93, Score: 0.00627\n",
      "TotBankingCycles6\n",
      "Feature: 94, Score: 0.00426\n",
      "FshDnrTotCycles\n",
      "Feature: 95, Score: 0.00000\n",
      "ThwDnrTotCycles\n",
      "Feature: 96, Score: 0.00005\n",
      "FshDnrTransfers\n",
      "Feature: 97, Score: 0.00856\n",
      "ThwDnrTransfers\n",
      "Feature: 98, Score: 0.00050\n",
      "FshDnrEmbryosRate\n",
      "Feature: 99, Score: 0.00031\n",
      "ThwDnrEmbryosRate\n",
      "Feature: 100, Score: 0.00026\n",
      "FshDnrImplant\n",
      "Feature: 101, Score: 0.00082\n",
      "ThwDnrImplant\n",
      "Feature: 102, Score: 0.00085\n",
      "FshDnrHealthSnglLB_TransRate\n",
      "Feature: 103, Score: 0.00006\n",
      "ThwDnrHealthSnglLB_TransRate\n",
      "Feature: 104, Score: 0.00008\n",
      "FshDnrSnglLB_TransRate\n",
      "Feature: 105, Score: 0.00052\n",
      "ThwDnrSnglLB_TransRate\n",
      "Feature: 106, Score: 0.00046\n",
      "FshDnrTwinLB_TransRate\n",
      "Feature: 107, Score: 0.00016\n",
      "ThwDnrTwinLB_TransRate\n",
      "Feature: 108, Score: 0.00009\n",
      "FshDnrLvBirths_TransRate\n"
     ]
    },
    {
     "data": {
      "image/png": "[encoded data removed]",
      "text/plain": [
       "<Figure size 432x288 with 1 Axes>"
      ]
     },
     "metadata": {
      "needs_background": "light"
     },
     "output_type": "display_data"
    }
   ],
   "source": [
    "importance = regressor.feature_importances_\n",
    "feature_name = x.columns\n",
    "# summarize feature importance\n",
    "for i,v in enumerate(importance):\n",
    "    print('Feature: %0d, Score: %.5f' % (i,v))\n",
    "    print(feature_name[i])\n",
    "# plot feature importance\n",
    "plt.bar([x for x in range(len(importance))], importance)\n",
    "plt.show()"
   ]
  },
  {
   "cell_type": "code",
   "execution_count": 255,
   "metadata": {},
   "outputs": [
    {
     "data": {
      "image/png": "[encoded data removed]",
      "text/plain": [
       "<Figure size 864x720 with 1 Axes>"
      ]
     },
     "metadata": {
      "needs_background": "light"
     },
     "output_type": "display_data"
    }
   ],
   "source": [
    "# plot feature importance\n",
    "plt.figure(figsize=(12,10))\n",
    "plt.bar([x for x in range(len(importance))], importance)\n",
    "plt.show()"
   ]
  },
  {
   "cell_type": "code",
   "execution_count": 204,
   "metadata": {},
   "outputs": [
    {
     "data": {
      "text/plain": [
       "[0.0,\n",
       " 2.04513520293619e-05,\n",
       " 5.498385536157205e-05,\n",
       " 5.740738371412075e-05,\n",
       " 7.556047187839385e-05,\n",
       " 7.919452407404619e-05,\n",
       " 9.032531350531015e-05,\n",
       " 9.114149717042153e-05,\n",
       " 0.00016001124678645845,\n",
       " 0.00026418646027369944,\n",
       " 0.0003105206251318606,\n",
       " 0.00039140010387756305,\n",
       " 0.00042400118104553866,\n",
       " 0.0004577155436004563,\n",
       " 0.000504399621715507,\n",
       " 0.0005170255447564319,\n",
       " 0.0007247180385969321,\n",
       " 0.0008150247752556101,\n",
       " 0.0008456653389740428,\n",
       " 0.0010932444895693423,\n",
       " 0.0015691971249693966,\n",
       " 0.001576841660111512,\n",
       " 0.0015801959643962009,\n",
       " 0.0017314894756178215,\n",
       " 0.0017703126637636593,\n",
       " 0.0018193075577917336,\n",
       " 0.0018410848260868638,\n",
       " 0.0019132158552681428,\n",
       " 0.002151774110893453,\n",
       " 0.0023926553925854494,\n",
       " 0.0024387867429690657,\n",
       " 0.002466121760946625,\n",
       " 0.0026241924543427995,\n",
       " 0.0026373552404689647,\n",
       " 0.002714726221294692,\n",
       " 0.0029078474594879454,\n",
       " 0.003002295621150966,\n",
       " 0.003012558685313539,\n",
       " 0.003051726612340441,\n",
       " 0.0031520312605975596,\n",
       " 0.0033347496293633723,\n",
       " 0.003373422998006619,\n",
       " 0.003597089055153127,\n",
       " 0.0036231479783346045,\n",
       " 0.003647703143477973,\n",
       " 0.0036535658738198473,\n",
       " 0.0037445781601228587,\n",
       " 0.0039042305903698488,\n",
       " 0.0039564226229376435,\n",
       " 0.0040520866355836715,\n",
       " 0.00405336234290161,\n",
       " 0.004082546214941689,\n",
       " 0.004161362531177494,\n",
       " 0.00419562654251236,\n",
       " 0.004239044877394776,\n",
       " 0.004262021179324047,\n",
       " 0.004536430046332408,\n",
       " 0.004583770517422395,\n",
       " 0.004674899422443773,\n",
       " 0.004681403461934674,\n",
       " 0.004717047677300972,\n",
       " 0.004881775516899991,\n",
       " 0.0049929061126908455,\n",
       " 0.005202443939200368,\n",
       " 0.005419203121194538,\n",
       " 0.005648580904998674,\n",
       " 0.005679875343616901,\n",
       " 0.0057030509928690945,\n",
       " 0.005806340306032008,\n",
       " 0.005822624510274194,\n",
       " 0.005891603976169543,\n",
       " 0.00619144380355436,\n",
       " 0.006267876468469149,\n",
       " 0.006454942328351391,\n",
       " 0.006606444464156541,\n",
       " 0.006735468631476196,\n",
       " 0.00674461589682389,\n",
       " 0.007473713584292279,\n",
       " 0.007829904722288523,\n",
       " 0.007843620458451607,\n",
       " 0.007978926146444527,\n",
       " 0.008153413747736956,\n",
       " 0.008559921937004404,\n",
       " 0.008807508169487837,\n",
       " 0.008819131115445026,\n",
       " 0.008989710273563871,\n",
       " 0.00937863787526643,\n",
       " 0.010065463152378438,\n",
       " 0.010143906000790542,\n",
       " 0.010282375493778742,\n",
       " 0.012469857787662124,\n",
       " 0.013232112347769179,\n",
       " 0.01326969542385274,\n",
       " 0.013692243111317722,\n",
       " 0.013827788604552659,\n",
       " 0.014328757640738106,\n",
       " 0.01486959350812482,\n",
       " 0.015092748301768783,\n",
       " 0.015801504409367163,\n",
       " 0.016806427299241346,\n",
       " 0.018090832244791737,\n",
       " 0.02150750947265942,\n",
       " 0.02540968529050044,\n",
       " 0.0300185479498823,\n",
       " 0.03188238189226672,\n",
       " 0.043063450517152733,\n",
       " 0.047266713724972625,\n",
       " 0.05273426675284199,\n",
       " 0.2398552491682615]"
      ]
     },
     "execution_count": 204,
     "metadata": {},
     "output_type": "execute_result"
    }
   ],
   "source": [
    "sorted(regressor.feature_importances_)"
   ]
  },
  {
   "cell_type": "code",
   "execution_count": 280,
   "metadata": {},
   "outputs": [
    {
     "data": {
      "text/plain": [
       "<matplotlib.axes._subplots.AxesSubplot at 0x1a38114a90>"
      ]
     },
     "execution_count": 280,
     "metadata": {},
     "output_type": "execute_result"
    },
    {
     "data": {
      "image/png": "[encoded data removed]",
      "text/plain": [
       "<Figure size 432x288 with 1 Axes>"
      ]
     },
     "metadata": {
      "needs_background": "light"
     },
     "output_type": "display_data"
    }
   ],
   "source": [
    "sns.scatterplot(data=df_model,x='FshNDCycle1',y='ThwNDLvBirths_TransRate1')"
   ]
  },
  {
   "cell_type": "code",
   "execution_count": 171,
   "metadata": {},
   "outputs": [
    {
     "data": {
      "text/plain": [
       "array([[100.,  71.,   0., ...,   1.,   0.,   1.],\n",
       "       [100.,  81.,   0., ...,   1.,   0.,   1.],\n",
       "       [100.,  67.,   0., ...,   1.,   0.,   1.],\n",
       "       ...,\n",
       "       [100.,  56.,   0., ...,   1.,   0.,   1.],\n",
       "       [100.,  67.,   0., ...,   1.,   0.,   1.],\n",
       "       [100.,  58.,   4., ...,   1.,   0.,   1.]])"
      ]
     },
     "execution_count": 171,
     "metadata": {},
     "output_type": "execute_result"
    }
   ],
   "source": []
  },
  {
   "cell_type": "code",
   "execution_count": 172,
   "metadata": {},
   "outputs": [],
   "source": [
    "x = df_model_rf.drop(columns=['PrevClinName1','FshNDLvBirthsRate1'],axis=1)"
   ]
  },
  {
   "cell_type": "code",
   "execution_count": 173,
   "metadata": {},
   "outputs": [
    {
     "data": {
      "text/plain": [
       "Index(['IVF_Rate', 'ICSI_Rate', 'Unstimulated_Rate', 'Gest_Rate', 'PGD_Rate',\n",
       "       'Diag_TubalRate', 'Diag_OvulatoryRate', 'Diag_DORRate',\n",
       "       'Diag_EndometriosisRate', 'Diag_UterineRate',\n",
       "       ...\n",
       "       'SART_Member_No', 'SART_Member_Yes', 'Surrogates_No', 'Surrogates_Yes',\n",
       "       'SingleWomen_No', 'SingleWomen_Yes', 'DonorEmbryo_No',\n",
       "       'DonorEmbryo_Yes', 'DonorEgg_No', 'DonorEgg_Yes'],\n",
       "      dtype='object', length=126)"
      ]
     },
     "execution_count": 173,
     "metadata": {},
     "output_type": "execute_result"
    }
   ],
   "source": [
    "x.columns"
   ]
  },
  {
   "cell_type": "code",
   "execution_count": null,
   "metadata": {},
   "outputs": [],
   "source": []
  }
 ],
 "metadata": {
  "kernelspec": {
   "display_name": "Python 3",
   "language": "python",
   "name": "python3"
  },
  "language_info": {
   "codemirror_mode": {
    "name": "ipython",
    "version": 3
   },
   "file_extension": ".py",
   "mimetype": "text/x-python",
   "name": "python",
   "nbconvert_exporter": "python",
   "pygments_lexer": "ipython3",
   "version": "3.7.6"
  }
 },
 "nbformat": 4,
 "nbformat_minor": 4
}
