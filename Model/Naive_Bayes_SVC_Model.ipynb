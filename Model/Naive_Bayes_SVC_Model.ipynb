{
 "cells": [
  {
   "cell_type": "code",
   "execution_count": 1,
   "metadata": {},
   "outputs": [],
   "source": [
    "# Train data with Naive Bayes Classifier"
   ]
  },
  {
   "cell_type": "code",
   "execution_count": 24,
   "metadata": {},
   "outputs": [
    {
     "name": "stderr",
     "output_type": "stream",
     "text": [
      "/Users/jacobberger/anaconda3/lib/python3.7/importlib/_bootstrap.py:219: RuntimeWarning: numpy.ufunc size changed, may indicate binary incompatibility. Expected 192 from C header, got 216 from PyObject\n",
      "  return f(*args, **kwds)\n",
      "/Users/jacobberger/anaconda3/lib/python3.7/importlib/_bootstrap.py:219: RuntimeWarning: numpy.ufunc size changed, may indicate binary incompatibility. Expected 192 from C header, got 216 from PyObject\n",
      "  return f(*args, **kwds)\n"
     ]
    }
   ],
   "source": [
    "import pandas as pd\n",
    "import numpy as np\n",
    "import re\n",
    "import seaborn as sns\n",
    "import matplotlib.pyplot as plt\n",
    "%matplotlib inline"
   ]
  },
  {
   "cell_type": "code",
   "execution_count": 32,
   "metadata": {},
   "outputs": [
    {
     "name": "stderr",
     "output_type": "stream",
     "text": [
      "/Users/jacobberger/anaconda3/lib/python3.7/importlib/_bootstrap.py:219: RuntimeWarning: numpy.ufunc size changed, may indicate binary incompatibility. Expected 192 from C header, got 216 from PyObject\n",
      "  return f(*args, **kwds)\n"
     ]
    }
   ],
   "source": [
    "from sklearn.model_selection import train_test_split\n",
    "from sklearn.feature_extraction.text import CountVectorizer\n",
    "from sklearn.feature_extraction.text import TfidfTransformer\n",
    "from sklearn.naive_bayes import MultinomialNB\n",
    "from sklearn.pipeline import Pipeline\n",
    "import nltk"
   ]
  },
  {
   "cell_type": "code",
   "execution_count": 26,
   "metadata": {},
   "outputs": [],
   "source": [
    "from sklearn.metrics import classification_report, confusion_matrix"
   ]
  },
  {
   "cell_type": "code",
   "execution_count": null,
   "metadata": {},
   "outputs": [],
   "source": []
  },
  {
   "cell_type": "code",
   "execution_count": 8,
   "metadata": {},
   "outputs": [],
   "source": [
    "data = pd.read_csv('../util/reviews_token.csv')"
   ]
  },
  {
   "cell_type": "code",
   "execution_count": 28,
   "metadata": {},
   "outputs": [],
   "source": [
    "df_fiq = pd.read_csv('../util/fiq_clean_text.csv')"
   ]
  },
  {
   "cell_type": "code",
   "execution_count": 70,
   "metadata": {},
   "outputs": [],
   "source": [
    "data.drop(['Unnamed: 0'],axis=1,inplace=True)\n",
    "data.dropna(inplace=True)"
   ]
  },
  {
   "cell_type": "code",
   "execution_count": 71,
   "metadata": {},
   "outputs": [
    {
     "data": {
      "text/plain": [
       "[Text(0, 0, 'experience with doctor'),\n",
       " Text(0, 0, 'advice give prospective patient'),\n",
       " Text(0, 0, 'experience with nurse'),\n",
       " Text(0, 0, 'experience with clinic'),\n",
       " Text(0, 0, 'protocols and success'),\n",
       " Text(0, 0, 'cost'),\n",
       " Text(0, 0, 'specific things went wrong')]"
      ]
     },
     "execution_count": 71,
     "metadata": {},
     "output_type": "execute_result"
    },
    {
     "data": {
      "image/png": "[encoded data removed]",
      "text/plain": [
       "<Figure size 432x288 with 1 Axes>"
      ]
     },
     "metadata": {
      "needs_background": "light"
     },
     "output_type": "display_data"
    }
   ],
   "source": [
    "chart = sns.countplot(data.Question)\n",
    "chart.set_xticklabels(chart.get_xticklabels(), rotation=45, horizontalalignment='right')\n"
   ]
  },
  {
   "cell_type": "markdown",
   "metadata": {},
   "source": [
    "# Cleaning pipeline"
   ]
  },
  {
   "cell_type": "code",
   "execution_count": 75,
   "metadata": {},
   "outputs": [],
   "source": [
    "pipeline = Pipeline([\n",
    "    ('bow', CountVectorizer()),  # strings to token integer counts\n",
    "    ('tfidf', TfidfTransformer()),  # integer counts to weighted TF-IDF scores\n",
    "    ('classifier', MultinomialNB()),  # train on TF-IDF vectors w/ Naive Bayes classifier\n",
    "])"
   ]
  },
  {
   "cell_type": "code",
   "execution_count": null,
   "metadata": {},
   "outputs": [],
   "source": []
  },
  {
   "cell_type": "code",
   "execution_count": 77,
   "metadata": {},
   "outputs": [],
   "source": [
    "msg_train, msg_test, label_train, label_test = train_test_split(data.clean_answers, data.Question, test_size=0.4)"
   ]
  },
  {
   "cell_type": "code",
   "execution_count": 78,
   "metadata": {},
   "outputs": [
    {
     "data": {
      "text/plain": [
       "Pipeline(steps=[('bow', CountVectorizer()), ('tfidf', TfidfTransformer()),\n",
       "                ('classifier', MultinomialNB())])"
      ]
     },
     "execution_count": 78,
     "metadata": {},
     "output_type": "execute_result"
    }
   ],
   "source": [
    "pipeline.fit(msg_train,label_train)"
   ]
  },
  {
   "cell_type": "code",
   "execution_count": 79,
   "metadata": {},
   "outputs": [],
   "source": [
    "predictions = pipeline.predict(msg_test)"
   ]
  },
  {
   "cell_type": "code",
   "execution_count": 80,
   "metadata": {
    "scrolled": false
   },
   "outputs": [
    {
     "name": "stdout",
     "output_type": "stream",
     "text": [
      "[[ 177    5   64  480    2    9    0]\n",
      " [   1  536   31   40    0   19    0]\n",
      " [   2    2 1069  237    0    7    0]\n",
      " [   0    0   70 1492    1   33    0]\n",
      " [   0    0  174  247   13    1    0]\n",
      " [   1    9    5  129    0  818    0]\n",
      " [   0    0    3    0    0    0  241]]\n",
      "\n",
      "\n",
      "                                 precision    recall  f1-score   support\n",
      "\n",
      "advice give prospective patient       0.98      0.24      0.39       737\n",
      "                           cost       0.97      0.85      0.91       627\n",
      "         experience with clinic       0.75      0.81      0.78      1317\n",
      "         experience with doctor       0.57      0.93      0.71      1596\n",
      "          experience with nurse       0.81      0.03      0.06       435\n",
      "          protocols and success       0.92      0.85      0.88       962\n",
      "     specific things went wrong       1.00      0.99      0.99       244\n",
      "\n",
      "                       accuracy                           0.73      5918\n",
      "                      macro avg       0.86      0.67      0.67      5918\n",
      "                   weighted avg       0.80      0.73      0.70      5918\n",
      "\n"
     ]
    }
   ],
   "source": [
    "print(confusion_matrix(label_test,predictions))\n",
    "print('\\n')\n",
    "print(classification_report(label_test,predictions))"
   ]
  },
  {
   "cell_type": "markdown",
   "metadata": {},
   "source": [
    "# SVC Model"
   ]
  },
  {
   "cell_type": "code",
   "execution_count": 81,
   "metadata": {},
   "outputs": [],
   "source": [
    "from sklearn import svm"
   ]
  },
  {
   "cell_type": "code",
   "execution_count": 101,
   "metadata": {},
   "outputs": [],
   "source": [
    "SVM = svm.SVC(C=2) # default kernel = ’rbf’"
   ]
  },
  {
   "cell_type": "code",
   "execution_count": 102,
   "metadata": {},
   "outputs": [],
   "source": [
    "pipeline1 = Pipeline([\n",
    "    ('bow', CountVectorizer()),  # strings to token integer counts\n",
    "    ('tfidf', TfidfTransformer()),  # integer counts to weighted TF-IDF scores\n",
    "    ('classifier', SVM),  # train on TF-IDF vectors w/ SVM\n",
    "])"
   ]
  },
  {
   "cell_type": "code",
   "execution_count": 103,
   "metadata": {},
   "outputs": [
    {
     "data": {
      "text/plain": [
       "Pipeline(steps=[('bow', CountVectorizer()), ('tfidf', TfidfTransformer()),\n",
       "                ('classifier', SVC(C=2))])"
      ]
     },
     "execution_count": 103,
     "metadata": {},
     "output_type": "execute_result"
    }
   ],
   "source": [
    "pipeline1.fit(msg_train,label_train)"
   ]
  },
  {
   "cell_type": "code",
   "execution_count": 104,
   "metadata": {},
   "outputs": [],
   "source": [
    "predictions1 = pipeline1.predict(msg_test)"
   ]
  },
  {
   "cell_type": "code",
   "execution_count": 105,
   "metadata": {},
   "outputs": [
    {
     "name": "stdout",
     "output_type": "stream",
     "text": [
      "[[ 537    8   55  108   11   18    0]\n",
      " [  10  578   17    6    0   16    0]\n",
      " [  32    3 1106  112   55    9    0]\n",
      " [  73    1   87 1371   18   46    0]\n",
      " [  15    1  139   77  199    4    0]\n",
      " [  26   12   13   44    0  867    0]\n",
      " [   0    0    0    0    0    0  244]]\n",
      "\n",
      "\n",
      "                                 precision    recall  f1-score   support\n",
      "\n",
      "advice give prospective patient       0.77      0.73      0.75       737\n",
      "                           cost       0.96      0.92      0.94       627\n",
      "         experience with clinic       0.78      0.84      0.81      1317\n",
      "         experience with doctor       0.80      0.86      0.83      1596\n",
      "          experience with nurse       0.70      0.46      0.55       435\n",
      "          protocols and success       0.90      0.90      0.90       962\n",
      "     specific things went wrong       1.00      1.00      1.00       244\n",
      "\n",
      "                       accuracy                           0.83      5918\n",
      "                      macro avg       0.85      0.82      0.83      5918\n",
      "                   weighted avg       0.83      0.83      0.82      5918\n",
      "\n"
     ]
    }
   ],
   "source": [
    "print(confusion_matrix(label_test,predictions1))\n",
    "print('\\n')\n",
    "print(classification_report(label_test,predictions1))"
   ]
  },
  {
   "cell_type": "code",
   "execution_count": 86,
   "metadata": {
    "scrolled": false
   },
   "outputs": [
    {
     "name": "stdout",
     "output_type": "stream",
     "text": [
      "[[ 507    8   58  137   11   16    0]\n",
      " [  10  573   19    8    0   17    0]\n",
      " [  26    3 1123  111   45    9    0]\n",
      " [  49    0   88 1393   17   49    0]\n",
      " [  10    1  151   80  189    4    0]\n",
      " [  22   12   13   49    0  866    0]\n",
      " [   0    0    0    0    0    0  244]]\n",
      "\n",
      "\n",
      "                                 precision    recall  f1-score   support\n",
      "\n",
      "advice give prospective patient       0.81      0.69      0.75       737\n",
      "                           cost       0.96      0.91      0.94       627\n",
      "         experience with clinic       0.77      0.85      0.81      1317\n",
      "         experience with doctor       0.78      0.87      0.83      1596\n",
      "          experience with nurse       0.72      0.43      0.54       435\n",
      "          protocols and success       0.90      0.90      0.90       962\n",
      "     specific things went wrong       1.00      1.00      1.00       244\n",
      "\n",
      "                       accuracy                           0.83      5918\n",
      "                      macro avg       0.85      0.81      0.82      5918\n",
      "                   weighted avg       0.83      0.83      0.82      5918\n",
      "\n"
     ]
    }
   ],
   "source": [
    "print(confusion_matrix(label_test,predictions1))\n",
    "print('\\n')\n",
    "print(classification_report(label_test,predictions1))"
   ]
  },
  {
   "cell_type": "markdown",
   "metadata": {},
   "source": [
    "# Use SVC Model on Yelp Data"
   ]
  },
  {
   "cell_type": "code",
   "execution_count": 122,
   "metadata": {},
   "outputs": [],
   "source": [
    "yelp = pd.read_csv('../util/yelp_clean.csv')"
   ]
  },
  {
   "cell_type": "code",
   "execution_count": 123,
   "metadata": {},
   "outputs": [],
   "source": [
    "yelp = yelp.dropna()\n",
    "yelp.reset_index(drop=True,inplace=True)"
   ]
  },
  {
   "cell_type": "code",
   "execution_count": null,
   "metadata": {},
   "outputs": [],
   "source": [
    "# Split some yelp reviews for manual "
   ]
  },
  {
   "cell_type": "code",
   "execution_count": null,
   "metadata": {},
   "outputs": [],
   "source": []
  },
  {
   "cell_type": "code",
   "execution_count": null,
   "metadata": {},
   "outputs": [],
   "source": []
  },
  {
   "cell_type": "code",
   "execution_count": 124,
   "metadata": {},
   "outputs": [],
   "source": [
    "yelp_predictions = pipeline1.predict(yelp.clean_answers)"
   ]
  },
  {
   "cell_type": "code",
   "execution_count": 130,
   "metadata": {
    "scrolled": true
   },
   "outputs": [
    {
     "data": {
      "text/html": [
       "<div>\n",
       "<style scoped>\n",
       "    .dataframe tbody tr th:only-of-type {\n",
       "        vertical-align: middle;\n",
       "    }\n",
       "\n",
       "    .dataframe tbody tr th {\n",
       "        vertical-align: top;\n",
       "    }\n",
       "\n",
       "    .dataframe thead th {\n",
       "        text-align: right;\n",
       "    }\n",
       "</style>\n",
       "<table border=\"1\" class=\"dataframe\">\n",
       "  <thead>\n",
       "    <tr style=\"text-align: right;\">\n",
       "      <th></th>\n",
       "      <th>Reviews_by_sentence</th>\n",
       "      <th>topics_predicted</th>\n",
       "    </tr>\n",
       "  </thead>\n",
       "  <tbody>\n",
       "    <tr>\n",
       "      <th>0</th>\n",
       "      <td>Columbia University Fertility center is an exc...</td>\n",
       "      <td>experience with clinic</td>\n",
       "    </tr>\n",
       "    <tr>\n",
       "      <th>1</th>\n",
       "      <td>We were seen by Dr Paula Brady at the Columbi...</td>\n",
       "      <td>experience with doctor</td>\n",
       "    </tr>\n",
       "    <tr>\n",
       "      <th>2</th>\n",
       "      <td>She is an excellent doctor, who treats her pa...</td>\n",
       "      <td>experience with doctor</td>\n",
       "    </tr>\n",
       "    <tr>\n",
       "      <th>3</th>\n",
       "      <td>Dr Brady took care of us and everything worke...</td>\n",
       "      <td>experience with doctor</td>\n",
       "    </tr>\n",
       "    <tr>\n",
       "      <th>4</th>\n",
       "      <td>The Clinic as a whole is also very good as it ...</td>\n",
       "      <td>experience with clinic</td>\n",
       "    </tr>\n",
       "  </tbody>\n",
       "</table>\n",
       "</div>"
      ],
      "text/plain": [
       "                                 Reviews_by_sentence        topics_predicted\n",
       "0  Columbia University Fertility center is an exc...  experience with clinic\n",
       "1   We were seen by Dr Paula Brady at the Columbi...  experience with doctor\n",
       "2   She is an excellent doctor, who treats her pa...  experience with doctor\n",
       "3   Dr Brady took care of us and everything worke...  experience with doctor\n",
       "4  The Clinic as a whole is also very good as it ...  experience with clinic"
      ]
     },
     "execution_count": 130,
     "metadata": {},
     "output_type": "execute_result"
    }
   ],
   "source": [
    "yelp[['Reviews_by_sentence','topics_predicted']].head()"
   ]
  },
  {
   "cell_type": "code",
   "execution_count": 125,
   "metadata": {},
   "outputs": [],
   "source": [
    "yelp['topics_predicted'] = yelp_predictions"
   ]
  },
  {
   "cell_type": "code",
   "execution_count": 126,
   "metadata": {
    "scrolled": true
   },
   "outputs": [
    {
     "data": {
      "text/plain": [
       "[Text(0, 0, 'experience with doctor'),\n",
       " Text(0, 0, 'advice give prospective patient'),\n",
       " Text(0, 0, 'experience with nurse'),\n",
       " Text(0, 0, 'experience with clinic'),\n",
       " Text(0, 0, 'protocols and success'),\n",
       " Text(0, 0, 'cost')]"
      ]
     },
     "execution_count": 126,
     "metadata": {},
     "output_type": "execute_result"
    },
    {
     "data": {
      "image/png": "[encoded data removed]",
      "text/plain": [
       "<Figure size 432x288 with 1 Axes>"
      ]
     },
     "metadata": {
      "needs_background": "light"
     },
     "output_type": "display_data"
    }
   ],
   "source": [
    "g = sns.countplot(yelp.topics_predicted)\n",
    "g.set_xticklabels(chart.get_xticklabels(), rotation=45, horizontalalignment='right')"
   ]
  },
  {
   "cell_type": "code",
   "execution_count": 132,
   "metadata": {},
   "outputs": [
    {
     "data": {
      "text/html": [
       "<div>\n",
       "<style scoped>\n",
       "    .dataframe tbody tr th:only-of-type {\n",
       "        vertical-align: middle;\n",
       "    }\n",
       "\n",
       "    .dataframe tbody tr th {\n",
       "        vertical-align: top;\n",
       "    }\n",
       "\n",
       "    .dataframe thead th {\n",
       "        text-align: right;\n",
       "    }\n",
       "</style>\n",
       "<table border=\"1\" class=\"dataframe\">\n",
       "  <thead>\n",
       "    <tr style=\"text-align: right;\">\n",
       "      <th></th>\n",
       "      <th>Unnamed: 0</th>\n",
       "      <th>Reviews_by_sentence</th>\n",
       "      <th>Clinic</th>\n",
       "      <th>clean_answers</th>\n",
       "      <th>topics_predicted</th>\n",
       "    </tr>\n",
       "  </thead>\n",
       "  <tbody>\n",
       "    <tr>\n",
       "      <th>0</th>\n",
       "      <td>0</td>\n",
       "      <td>Columbia University Fertility center is an exc...</td>\n",
       "      <td>Columbia University Fertility</td>\n",
       "      <td>columbia university fertility center excellent...</td>\n",
       "      <td>experience with clinic</td>\n",
       "    </tr>\n",
       "    <tr>\n",
       "      <th>1</th>\n",
       "      <td>1</td>\n",
       "      <td>We were seen by Dr Paula Brady at the Columbi...</td>\n",
       "      <td>Columbia University Fertility</td>\n",
       "      <td>see dr paula brady columbia university clinic</td>\n",
       "      <td>experience with doctor</td>\n",
       "    </tr>\n",
       "    <tr>\n",
       "      <th>2</th>\n",
       "      <td>2</td>\n",
       "      <td>She is an excellent doctor, who treats her pa...</td>\n",
       "      <td>Columbia University Fertility</td>\n",
       "      <td>excellent doctor treat patient personal level</td>\n",
       "      <td>experience with doctor</td>\n",
       "    </tr>\n",
       "    <tr>\n",
       "      <th>3</th>\n",
       "      <td>3</td>\n",
       "      <td>Dr Brady took care of us and everything worke...</td>\n",
       "      <td>Columbia University Fertility</td>\n",
       "      <td>dr brady take care work great</td>\n",
       "      <td>experience with doctor</td>\n",
       "    </tr>\n",
       "    <tr>\n",
       "      <th>4</th>\n",
       "      <td>4</td>\n",
       "      <td>The Clinic as a whole is also very good as it ...</td>\n",
       "      <td>Columbia University Fertility</td>\n",
       "      <td>clinic good open patient holiday weekend new y...</td>\n",
       "      <td>experience with clinic</td>\n",
       "    </tr>\n",
       "    <tr>\n",
       "      <th>...</th>\n",
       "      <td>...</td>\n",
       "      <td>...</td>\n",
       "      <td>...</td>\n",
       "      <td>...</td>\n",
       "      <td>...</td>\n",
       "    </tr>\n",
       "    <tr>\n",
       "      <th>5881</th>\n",
       "      <td>5897</td>\n",
       "      <td>I'm in the middle of my treatments with them ...</td>\n",
       "      <td>Penn Fertility Care</td>\n",
       "      <td>middle treatment pregnant consider go else sen...</td>\n",
       "      <td>experience with doctor</td>\n",
       "    </tr>\n",
       "    <tr>\n",
       "      <th>5882</th>\n",
       "      <td>5898</td>\n",
       "      <td>They have also been individualized in their b...</td>\n",
       "      <td>Penn Fertility Care</td>\n",
       "      <td>individualize bill approaches explain bill ask...</td>\n",
       "      <td>experience with clinic</td>\n",
       "    </tr>\n",
       "    <tr>\n",
       "      <th>5883</th>\n",
       "      <td>5899</td>\n",
       "      <td>The doctors are all excellent-- we've gotten ...</td>\n",
       "      <td>Penn Fertility Care</td>\n",
       "      <td>doctor excellent get treatment inclement weath...</td>\n",
       "      <td>experience with doctor</td>\n",
       "    </tr>\n",
       "    <tr>\n",
       "      <th>5884</th>\n",
       "      <td>5900</td>\n",
       "      <td>The nursing staff is the same way</td>\n",
       "      <td>Penn Fertility Care</td>\n",
       "      <td>nurse staff way</td>\n",
       "      <td>experience with clinic</td>\n",
       "    </tr>\n",
       "    <tr>\n",
       "      <th>5885</th>\n",
       "      <td>5901</td>\n",
       "      <td>My nurse communicates via text when I need to...</td>\n",
       "      <td>Penn Fertility Care</td>\n",
       "      <td>nurse communicate text need realize process nu...</td>\n",
       "      <td>experience with nurse</td>\n",
       "    </tr>\n",
       "  </tbody>\n",
       "</table>\n",
       "<p>5886 rows × 5 columns</p>\n",
       "</div>"
      ],
      "text/plain": [
       "      Unnamed: 0                                Reviews_by_sentence  \\\n",
       "0              0  Columbia University Fertility center is an exc...   \n",
       "1              1   We were seen by Dr Paula Brady at the Columbi...   \n",
       "2              2   She is an excellent doctor, who treats her pa...   \n",
       "3              3   Dr Brady took care of us and everything worke...   \n",
       "4              4  The Clinic as a whole is also very good as it ...   \n",
       "...          ...                                                ...   \n",
       "5881        5897   I'm in the middle of my treatments with them ...   \n",
       "5882        5898   They have also been individualized in their b...   \n",
       "5883        5899   The doctors are all excellent-- we've gotten ...   \n",
       "5884        5900                  The nursing staff is the same way   \n",
       "5885        5901   My nurse communicates via text when I need to...   \n",
       "\n",
       "                             Clinic  \\\n",
       "0     Columbia University Fertility   \n",
       "1     Columbia University Fertility   \n",
       "2     Columbia University Fertility   \n",
       "3     Columbia University Fertility   \n",
       "4     Columbia University Fertility   \n",
       "...                             ...   \n",
       "5881            Penn Fertility Care   \n",
       "5882            Penn Fertility Care   \n",
       "5883            Penn Fertility Care   \n",
       "5884            Penn Fertility Care   \n",
       "5885            Penn Fertility Care   \n",
       "\n",
       "                                          clean_answers  \\\n",
       "0     columbia university fertility center excellent...   \n",
       "1         see dr paula brady columbia university clinic   \n",
       "2         excellent doctor treat patient personal level   \n",
       "3                         dr brady take care work great   \n",
       "4     clinic good open patient holiday weekend new y...   \n",
       "...                                                 ...   \n",
       "5881  middle treatment pregnant consider go else sen...   \n",
       "5882  individualize bill approaches explain bill ask...   \n",
       "5883  doctor excellent get treatment inclement weath...   \n",
       "5884                                    nurse staff way   \n",
       "5885  nurse communicate text need realize process nu...   \n",
       "\n",
       "            topics_predicted  \n",
       "0     experience with clinic  \n",
       "1     experience with doctor  \n",
       "2     experience with doctor  \n",
       "3     experience with doctor  \n",
       "4     experience with clinic  \n",
       "...                      ...  \n",
       "5881  experience with doctor  \n",
       "5882  experience with clinic  \n",
       "5883  experience with doctor  \n",
       "5884  experience with clinic  \n",
       "5885   experience with nurse  \n",
       "\n",
       "[5886 rows x 5 columns]"
      ]
     },
     "execution_count": 132,
     "metadata": {},
     "output_type": "execute_result"
    }
   ],
   "source": [
    "yelp"
   ]
  },
  {
   "cell_type": "code",
   "execution_count": 127,
   "metadata": {},
   "outputs": [],
   "source": [
    "yelp.to_csv(\"yelp_model_results.csv\")"
   ]
  },
  {
   "cell_type": "markdown",
   "metadata": {},
   "source": [
    "# Model with word embedding"
   ]
  },
  {
   "cell_type": "code",
   "execution_count": 60,
   "metadata": {},
   "outputs": [],
   "source": [
    "import gensim\n",
    "from gensim.models import Word2Vec\n",
    "# let X be a list of tokenized texts (i.e. list of lists of tokens)\n",
    "#model = gensim.models.Word2Vec(X, size=100)\n",
    "#w2v = dict(zip(model.wv.index2word, model.wv.syn0))"
   ]
  },
  {
   "cell_type": "code",
   "execution_count": 61,
   "metadata": {},
   "outputs": [
    {
     "data": {
      "text/plain": [
       "<gensim.models.keyedvectors.Word2VecKeyedVectors at 0x1a358c4cd0>"
      ]
     },
     "execution_count": 61,
     "metadata": {},
     "output_type": "execute_result"
    }
   ],
   "source": [
    "wv"
   ]
  },
  {
   "cell_type": "code",
   "execution_count": 57,
   "metadata": {},
   "outputs": [
    {
     "name": "stdout",
     "output_type": "stream",
     "text": [
      "[==================================================] 100.0% 1662.8/1662.8MB downloaded\n"
     ]
    }
   ],
   "source": [
    "import gensim.downloader as api\n",
    "\n",
    "wv = api.load('word2vec-google-news-300')"
   ]
  },
  {
   "cell_type": "code",
   "execution_count": null,
   "metadata": {},
   "outputs": [],
   "source": []
  },
  {
   "cell_type": "code",
   "execution_count": null,
   "metadata": {},
   "outputs": [],
   "source": []
  },
  {
   "cell_type": "code",
   "execution_count": null,
   "metadata": {},
   "outputs": [],
   "source": []
  },
  {
   "cell_type": "code",
   "execution_count": null,
   "metadata": {},
   "outputs": [],
   "source": []
  },
  {
   "cell_type": "markdown",
   "metadata": {},
   "source": [
    "# Random Forest"
   ]
  },
  {
   "cell_type": "code",
   "execution_count": 1,
   "metadata": {},
   "outputs": [],
   "source": [
    "from sklearn.ensemble import RandomForestClassifier"
   ]
  },
  {
   "cell_type": "code",
   "execution_count": 2,
   "metadata": {},
   "outputs": [],
   "source": [
    "rf = RandomForestClassifier()"
   ]
  },
  {
   "cell_type": "code",
   "execution_count": 6,
   "metadata": {},
   "outputs": [],
   "source": [
    "pipeline = Pipeline([\n",
    "    ('bow', CountVectorizer()),  # strings to token integer counts\n",
    "    ('tfidf', TfidfTransformer()),  # integer counts to weighted TF-IDF scores\n",
    "    ('classifier', rf),  # train on TF-IDF vectors w/ SVM\n",
    "])"
   ]
  },
  {
   "cell_type": "code",
   "execution_count": 7,
   "metadata": {},
   "outputs": [
    {
     "ename": "NameError",
     "evalue": "name 'msg_train' is not defined",
     "output_type": "error",
     "traceback": [
      "\u001b[0;31m---------------------------------------------------------------------------\u001b[0m",
      "\u001b[0;31mNameError\u001b[0m                                 Traceback (most recent call last)",
      "\u001b[0;32m<ipython-input-7-0cc5bab2e5f4>\u001b[0m in \u001b[0;36m<module>\u001b[0;34m\u001b[0m\n\u001b[0;32m----> 1\u001b[0;31m \u001b[0mpipeline\u001b[0m\u001b[0;34m.\u001b[0m\u001b[0mfit\u001b[0m\u001b[0;34m(\u001b[0m\u001b[0mmsg_train\u001b[0m\u001b[0;34m,\u001b[0m\u001b[0mlabel_train\u001b[0m\u001b[0;34m)\u001b[0m\u001b[0;34m\u001b[0m\u001b[0;34m\u001b[0m\u001b[0m\n\u001b[0m",
      "\u001b[0;31mNameError\u001b[0m: name 'msg_train' is not defined"
     ]
    }
   ],
   "source": [
    "pipeline.fit(msg_train,label_train)"
   ]
  },
  {
   "cell_type": "code",
   "execution_count": null,
   "metadata": {},
   "outputs": [],
   "source": [
    "predictions = pipeline.predict(msg_test)"
   ]
  },
  {
   "cell_type": "code",
   "execution_count": null,
   "metadata": {},
   "outputs": [],
   "source": [
    "print(confusion_matrix(label_test,predictions))\n",
    "print('\\n')\n",
    "print(classification_report(label_test,predictions))"
   ]
  },
  {
   "cell_type": "code",
   "execution_count": 25,
   "metadata": {},
   "outputs": [
    {
     "name": "stderr",
     "output_type": "stream",
     "text": [
      "[nltk_data] Downloading package wordnet to\n",
      "[nltk_data]     /Users/jacobberger/nltk_data...\n",
      "[nltk_data]   Package wordnet is already up-to-date!\n"
     ]
    }
   ],
   "source": [
    "from sklearn.linear_model import LogisticRegression\n",
    "from sklearn.ensemble import RandomForestClassifier\n",
    "from sklearn.svm import LinearSVC\n",
    "from sklearn.model_selection import cross_val_score\n",
    "models = [\n",
    "    RandomForestClassifier(n_estimators=200, max_depth=3, random_state=0),\n",
    "    LinearSVC(),\n",
    "    MultinomialNB(),\n",
    "    LogisticRegression(random_state=0),\n",
    "]\n",
    "CV = 5\n",
    "cv_df = pd.DataFrame(index=range(CV * len(models)))\n",
    "entries = []\n",
    "for model in models:\n",
    "  model_name = model.__class__.__name__\n",
    "  accuracies = cross_val_score(model, features, labels, scoring='accuracy', cv=CV)\n",
    "  for fold_idx, accuracy in enumerate(accuracies):\n",
    "    entries.append((model_name, fold_idx, accuracy))\n",
    "cv_df = pd.DataFrame(entries, columns=['model_name', 'fold_idx', 'accuracy'])\n",
    "import seaborn as sns\n",
    "sns.boxplot(x='model_name', y='accuracy', data=cv_df)\n",
    "sns.stripplot(x='model_name', y='accuracy', data=cv_df, \n",
    "              size=8, jitter=True, edgecolor=\"gray\", linewidth=2)\n",
    "plt.show()"
   ]
  },
  {
   "cell_type": "code",
   "execution_count": null,
   "metadata": {},
   "outputs": [],
   "source": []
  },
  {
   "cell_type": "markdown",
   "metadata": {},
   "source": [
    "# WORD2VEC WITH GENSIM"
   ]
  },
  {
   "cell_type": "code",
   "execution_count": 41,
   "metadata": {},
   "outputs": [],
   "source": [
    "import gensim\n",
    "import gensim.downloader as api\n",
    "#wv = api.load('word2vec-google-news-300')\n",
    "from gensim.models import Word2Vec\n",
    "wv = gensim.models.KeyedVectors.load_word2vec_format(\"https://s3.amazonaws.com/dl4j-distribution/GoogleNews-vectors-negative300.bin.gz\", binary=True)\n",
    "\n",
    "wv.init_sims(replace=True)"
   ]
  },
  {
   "cell_type": "code",
   "execution_count": 35,
   "metadata": {},
   "outputs": [
    {
     "name": "stderr",
     "output_type": "stream",
     "text": [
      "[nltk_data] Downloading package punkt to\n",
      "[nltk_data]     /Users/jacobberger/nltk_data...\n",
      "[nltk_data]   Unzipping tokenizers/punkt.zip.\n"
     ]
    },
    {
     "data": {
      "text/plain": [
       "True"
      ]
     },
     "execution_count": 35,
     "metadata": {},
     "output_type": "execute_result"
    }
   ],
   "source": [
    "nltk.download('punkt')"
   ]
  },
  {
   "cell_type": "code",
   "execution_count": null,
   "metadata": {},
   "outputs": [],
   "source": []
  },
  {
   "cell_type": "code",
   "execution_count": 22,
   "metadata": {},
   "outputs": [],
   "source": [
    "def word_averaging(wv, words):\n",
    "    all_words, mean = set(), []\n",
    "    \n",
    "    for word in words:\n",
    "        if isinstance(word, np.ndarray):\n",
    "            mean.append(word)\n",
    "        elif word in wv.vocab:\n",
    "            mean.append(wv.syn0norm[wv.vocab[word].index])\n",
    "            all_words.add(wv.vocab[word].index)\n",
    "\n",
    "    if not mean:\n",
    "        logging.warning(\"cannot compute similarity with no input %s\", words)\n",
    "        # FIXME: remove these examples in pre-processing\n",
    "        return np.zeros(wv.vector_size,)\n",
    "\n",
    "    mean = gensim.matutils.unitvec(np.array(mean).mean(axis=0)).astype(np.float32)\n",
    "    return mean\n",
    "\n",
    "def  word_averaging_list(wv, text_list):\n",
    "    return np.vstack([word_averaging(wv, post) for post in text_list ])"
   ]
  },
  {
   "cell_type": "code",
   "execution_count": 23,
   "metadata": {},
   "outputs": [],
   "source": [
    "def w2v_tokenize_text(text):\n",
    "    tokens = []\n",
    "    for sent in nltk.sent_tokenize(text, language='english'):\n",
    "        for word in nltk.word_tokenize(sent, language='english'):\n",
    "            if len(word) < 2:\n",
    "                continue\n",
    "            tokens.append(word)\n",
    "    return tokens"
   ]
  },
  {
   "cell_type": "code",
   "execution_count": 29,
   "metadata": {},
   "outputs": [],
   "source": [
    "train, test = train_test_split(df_fiq, test_size=0.3, random_state = 42)"
   ]
  },
  {
   "cell_type": "code",
   "execution_count": 51,
   "metadata": {},
   "outputs": [],
   "source": [
    "#df_fiq"
   ]
  },
  {
   "cell_type": "code",
   "execution_count": 47,
   "metadata": {},
   "outputs": [],
   "source": [
    "test_tokenized = test.apply(lambda r: w2v_tokenize_text(r['Answer']), axis=1).values\n",
    "train_tokenized = train.apply(lambda r: w2v_tokenize_text(r['Answer']), axis=1).values"
   ]
  },
  {
   "cell_type": "code",
   "execution_count": 49,
   "metadata": {},
   "outputs": [
    {
     "name": "stderr",
     "output_type": "stream",
     "text": [
      "/Users/jacobberger/anaconda3/lib/python3.7/site-packages/ipykernel_launcher.py:8: DeprecationWarning: Call to deprecated `syn0norm` (Attribute will be removed in 4.0.0, use self.vectors_norm instead).\n",
      "  \n",
      "WARNING:root:cannot compute similarity with no input ['30K']\n",
      "WARNING:root:cannot compute similarity with no input ['N/a']\n",
      "WARNING:root:cannot compute similarity with no input ['N/a']\n",
      "WARNING:root:cannot compute similarity with no input ['15,000']\n",
      "WARNING:root:cannot compute similarity with no input ['N/a']\n",
      "WARNING:root:cannot compute similarity with no input ['N/A']\n",
      "WARNING:root:cannot compute similarity with no input ['Nuetral']\n",
      "WARNING:root:cannot compute similarity with no input ['N/a']\n",
      "WARNING:root:cannot compute similarity with no input ['15k']\n",
      "WARNING:root:cannot compute similarity with no input ['~15k']\n",
      "WARNING:root:cannot compute similarity with no input ['250']\n",
      "WARNING:root:cannot compute similarity with no input ['N/a']\n",
      "WARNING:root:cannot compute similarity with no input ['N/a']\n",
      "WARNING:root:cannot compute similarity with no input ['dontknow']\n",
      "WARNING:root:cannot compute similarity with no input ['N/a']\n",
      "WARNING:root:cannot compute similarity with no input ['5-10K']\n",
      "WARNING:root:cannot compute similarity with no input ['40,000+']\n",
      "WARNING:root:cannot compute similarity with no input ['18,000']\n",
      "WARNING:root:cannot compute similarity with no input ['23k']\n",
      "WARNING:root:cannot compute similarity with no input ['60000-75000']\n",
      "WARNING:root:cannot compute similarity with no input ['40k']\n",
      "WARNING:root:cannot compute similarity with no input ['20K+']\n",
      "WARNING:root:cannot compute similarity with no input ['N/a']\n",
      "WARNING:root:cannot compute similarity with no input ['22,000']\n",
      "WARNING:root:cannot compute similarity with no input ['24,000']\n",
      "WARNING:root:cannot compute similarity with no input ['N/a']\n",
      "WARNING:root:cannot compute similarity with no input ['20k']\n",
      "WARNING:root:cannot compute similarity with no input ['15000']\n",
      "WARNING:root:cannot compute similarity with no input ['15k+']\n",
      "WARNING:root:cannot compute similarity with no input ['10', '15k']\n",
      "WARNING:root:cannot compute similarity with no input ['30,000']\n",
      "WARNING:root:cannot compute similarity with no input ['13,500']\n",
      "WARNING:root:cannot compute similarity with no input ['N/a']\n",
      "WARNING:root:cannot compute similarity with no input ['17,000']\n",
      "WARNING:root:cannot compute similarity with no input ['4500/IVF']\n",
      "WARNING:root:cannot compute similarity with no input ['20k']\n",
      "WARNING:root:cannot compute similarity with no input ['60K']\n",
      "WARNING:root:cannot compute similarity with no input ['375-', '30,000']\n",
      "WARNING:root:cannot compute similarity with no input ['15,000-', '16,000']\n",
      "WARNING:root:cannot compute similarity with no input ['12,000']\n",
      "WARNING:root:cannot compute similarity with no input ['20,000']\n",
      "WARNING:root:cannot compute similarity with no input ['30K+']\n",
      "WARNING:root:cannot compute similarity with no input ['Menopur']\n",
      "WARNING:root:cannot compute similarity with no input ['35K']\n",
      "WARNING:root:cannot compute similarity with no input ['15,000.00']\n",
      "WARNING:root:cannot compute similarity with no input ['N/a']\n",
      "WARNING:root:cannot compute similarity with no input ['14000']\n",
      "WARNING:root:cannot compute similarity with no input ['N/a']\n",
      "WARNING:root:cannot compute similarity with no input []\n",
      "WARNING:root:cannot compute similarity with no input ['30,000']\n",
      "WARNING:root:cannot compute similarity with no input ['60000']\n",
      "WARNING:root:cannot compute similarity with no input ['12,000']\n",
      "WARNING:root:cannot compute similarity with no input ['N/a']\n",
      "WARNING:root:cannot compute similarity with no input ['10,000']\n",
      "WARNING:root:cannot compute similarity with no input ['4,795.00']\n",
      "WARNING:root:cannot compute similarity with no input ['9,200']\n",
      "WARNING:root:cannot compute similarity with no input ['20,000']\n",
      "WARNING:root:cannot compute similarity with no input ['N/a']\n",
      "WARNING:root:cannot compute similarity with no input ['N/a']\n",
      "WARNING:root:cannot compute similarity with no input ['15K']\n",
      "WARNING:root:cannot compute similarity with no input ['17K']\n",
      "WARNING:root:cannot compute similarity with no input ['17750']\n"
     ]
    }
   ],
   "source": [
    "import logging\n",
    "X_train_word_average = word_averaging_list(wv,train_tokenized)\n",
    "X_test_word_average = word_averaging_list(wv,test_tokenized)"
   ]
  },
  {
   "cell_type": "code",
   "execution_count": 83,
   "metadata": {
    "scrolled": true
   },
   "outputs": [
    {
     "name": "stdout",
     "output_type": "stream",
     "text": [
      "accuracy 0.8655877725331536\n",
      "              precision    recall  f1-score   support\n",
      "\n",
      "      Advice       0.86      0.85      0.86       590\n",
      "      Clinic       0.80      0.88      0.84       998\n",
      "        Cost       0.93      0.95      0.94       461\n",
      "      Doctor       0.87      0.88      0.88      1180\n",
      "       Nurse       0.73      0.55      0.63       343\n",
      "    Problems       1.00      1.00      1.00       159\n",
      "   Protocols       0.93      0.90      0.92       718\n",
      "\n",
      "    accuracy                           0.87      4449\n",
      "   macro avg       0.88      0.86      0.86      4449\n",
      "weighted avg       0.86      0.87      0.86      4449\n",
      "\n"
     ]
    }
   ],
   "source": [
    "# svc classifier\n",
    "from sklearn.metrics import accuracy_score\n",
    "from sklearn import svm\n",
    "SVM = svm.SVC(C=10) # default kernel = ’rbf’\n",
    "svm = SVM.fit(X_train_word_average, train['Question'])\n",
    "y_pred = svm.predict(X_test_word_average)\n",
    "print('accuracy %s' % accuracy_score(y_pred, test.Question))\n",
    "print(classification_report(test.Question, y_pred))"
   ]
  },
  {
   "cell_type": "code",
   "execution_count": 88,
   "metadata": {},
   "outputs": [],
   "source": [
    "from sklearn import svm\n",
    "SVM = svm.SVC(C=10) # default kernel = ’rbf’\n",
    "wv_pipeline = Pipeline([\n",
    "    #('tfidf', TfidfTransformer()),  # integer counts to weighted TF-IDF scores\n",
    "    ('classifier', SVM)  # train on TF-IDF vectors w/ SVM\n",
    "])"
   ]
  },
  {
   "cell_type": "code",
   "execution_count": 89,
   "metadata": {},
   "outputs": [
    {
     "data": {
      "text/plain": [
       "Pipeline(steps=[('classifier', SVC(C=10))])"
      ]
     },
     "execution_count": 89,
     "metadata": {},
     "output_type": "execute_result"
    }
   ],
   "source": [
    "wv_pipeline.fit(X_train_word_average, train['Question'])"
   ]
  },
  {
   "cell_type": "code",
   "execution_count": 90,
   "metadata": {},
   "outputs": [
    {
     "name": "stdout",
     "output_type": "stream",
     "text": [
      "accuracy 0.8655877725331536\n",
      "              precision    recall  f1-score   support\n",
      "\n",
      "      Advice       0.86      0.85      0.86       590\n",
      "      Clinic       0.80      0.88      0.84       998\n",
      "        Cost       0.93      0.95      0.94       461\n",
      "      Doctor       0.87      0.88      0.88      1180\n",
      "       Nurse       0.73      0.55      0.63       343\n",
      "    Problems       1.00      1.00      1.00       159\n",
      "   Protocols       0.93      0.90      0.92       718\n",
      "\n",
      "    accuracy                           0.87      4449\n",
      "   macro avg       0.88      0.86      0.86      4449\n",
      "weighted avg       0.86      0.87      0.86      4449\n",
      "\n"
     ]
    }
   ],
   "source": [
    "y_pred = wv_pipeline.predict(X_test_word_average)\n",
    "print('accuracy %s' % accuracy_score(y_pred, test.Question))\n",
    "print(classification_report(test.Question, y_pred))"
   ]
  },
  {
   "cell_type": "code",
   "execution_count": null,
   "metadata": {},
   "outputs": [],
   "source": []
  },
  {
   "cell_type": "code",
   "execution_count": null,
   "metadata": {},
   "outputs": [],
   "source": [
    "SVM = svm.SVC(C=5) # default kernel = ’rbf’\n",
    "svm = SVM.fit(X_train_word_average, train['Question'])\n",
    "y_pred = svm.predict(X_test_word_average)\n",
    "print('accuracy %s' % accuracy_score(y_pred, test.Question))\n",
    "print(classification_report(test.Question, y_pred))"
   ]
  },
  {
   "cell_type": "code",
   "execution_count": null,
   "metadata": {},
   "outputs": [],
   "source": [
    "pipeline = Pipeline([\n",
    "    ('tfidf', TfidfTransformer()),  # integer counts to weighted TF-IDF scores\n",
    "    ('classifier', SVM),  # train on TF-IDF vectors w/ SVM\n",
    "])"
   ]
  },
  {
   "cell_type": "code",
   "execution_count": 84,
   "metadata": {},
   "outputs": [],
   "source": [
    "#Import Yelp\n",
    "yelp = pd.read_csv('../util/y_clean_reviews.csv')"
   ]
  },
  {
   "cell_type": "code",
   "execution_count": 85,
   "metadata": {},
   "outputs": [
    {
     "data": {
      "text/html": [
       "<div>\n",
       "<style scoped>\n",
       "    .dataframe tbody tr th:only-of-type {\n",
       "        vertical-align: middle;\n",
       "    }\n",
       "\n",
       "    .dataframe tbody tr th {\n",
       "        vertical-align: top;\n",
       "    }\n",
       "\n",
       "    .dataframe thead th {\n",
       "        text-align: right;\n",
       "    }\n",
       "</style>\n",
       "<table border=\"1\" class=\"dataframe\">\n",
       "  <thead>\n",
       "    <tr style=\"text-align: right;\">\n",
       "      <th></th>\n",
       "      <th>Unnamed: 0</th>\n",
       "      <th>Reviews_by_sentence</th>\n",
       "      <th>Clinic</th>\n",
       "      <th>Ratings</th>\n",
       "      <th>clean_answers</th>\n",
       "    </tr>\n",
       "  </thead>\n",
       "  <tbody>\n",
       "    <tr>\n",
       "      <th>0</th>\n",
       "      <td>0</td>\n",
       "      <td>Columbia University Fertility center is an exc...</td>\n",
       "      <td>Columbia University Fertility</td>\n",
       "      <td>5</td>\n",
       "      <td>columbia university fertility center excellent...</td>\n",
       "    </tr>\n",
       "    <tr>\n",
       "      <th>1</th>\n",
       "      <td>1</td>\n",
       "      <td>We were seen by Dr Paula Brady at the Columbi...</td>\n",
       "      <td>Columbia University Fertility</td>\n",
       "      <td>5</td>\n",
       "      <td>see dr paula brady columbia university clinic</td>\n",
       "    </tr>\n",
       "    <tr>\n",
       "      <th>2</th>\n",
       "      <td>2</td>\n",
       "      <td>She is an excellent doctor, who treats her pa...</td>\n",
       "      <td>Columbia University Fertility</td>\n",
       "      <td>5</td>\n",
       "      <td>excellent doctor treat patient personal level</td>\n",
       "    </tr>\n",
       "    <tr>\n",
       "      <th>3</th>\n",
       "      <td>3</td>\n",
       "      <td>Dr Brady took care of us and everything worke...</td>\n",
       "      <td>Columbia University Fertility</td>\n",
       "      <td>5</td>\n",
       "      <td>dr brady take care us everything work great us</td>\n",
       "    </tr>\n",
       "    <tr>\n",
       "      <th>4</th>\n",
       "      <td>4</td>\n",
       "      <td>The Clinic as a whole is also very good as it ...</td>\n",
       "      <td>Columbia University Fertility</td>\n",
       "      <td>5</td>\n",
       "      <td>clinic whole also good open patient holiday we...</td>\n",
       "    </tr>\n",
       "    <tr>\n",
       "      <th>...</th>\n",
       "      <td>...</td>\n",
       "      <td>...</td>\n",
       "      <td>...</td>\n",
       "      <td>...</td>\n",
       "      <td>...</td>\n",
       "    </tr>\n",
       "    <tr>\n",
       "      <th>5932</th>\n",
       "      <td>5934</td>\n",
       "      <td>I'm in the middle of my treatments with them ...</td>\n",
       "      <td>Penn Fertility Care</td>\n",
       "      <td>5</td>\n",
       "      <td>' middle treatment not pregnant yet never cons...</td>\n",
       "    </tr>\n",
       "    <tr>\n",
       "      <th>5933</th>\n",
       "      <td>5935</td>\n",
       "      <td>They have also been individualized in their b...</td>\n",
       "      <td>Penn Fertility Care</td>\n",
       "      <td>5</td>\n",
       "      <td>also individualize billing approach -- explain...</td>\n",
       "    </tr>\n",
       "    <tr>\n",
       "      <th>5934</th>\n",
       "      <td>5936</td>\n",
       "      <td>The doctors are all excellent-- we've gotten ...</td>\n",
       "      <td>Penn Fertility Care</td>\n",
       "      <td>5</td>\n",
       "      <td>doctor excellent -- get treatment inclement we...</td>\n",
       "    </tr>\n",
       "    <tr>\n",
       "      <th>5935</th>\n",
       "      <td>5937</td>\n",
       "      <td>The nursing staff is the same way</td>\n",
       "      <td>Penn Fertility Care</td>\n",
       "      <td>5</td>\n",
       "      <td>nursing staff way</td>\n",
       "    </tr>\n",
       "    <tr>\n",
       "      <th>5936</th>\n",
       "      <td>5938</td>\n",
       "      <td>My nurse communicates via text when I need to...</td>\n",
       "      <td>Penn Fertility Care</td>\n",
       "      <td>5</td>\n",
       "      <td>nurse communicate via text need although not r...</td>\n",
       "    </tr>\n",
       "  </tbody>\n",
       "</table>\n",
       "<p>5937 rows × 5 columns</p>\n",
       "</div>"
      ],
      "text/plain": [
       "      Unnamed: 0                                Reviews_by_sentence  \\\n",
       "0              0  Columbia University Fertility center is an exc...   \n",
       "1              1   We were seen by Dr Paula Brady at the Columbi...   \n",
       "2              2   She is an excellent doctor, who treats her pa...   \n",
       "3              3   Dr Brady took care of us and everything worke...   \n",
       "4              4  The Clinic as a whole is also very good as it ...   \n",
       "...          ...                                                ...   \n",
       "5932        5934   I'm in the middle of my treatments with them ...   \n",
       "5933        5935   They have also been individualized in their b...   \n",
       "5934        5936   The doctors are all excellent-- we've gotten ...   \n",
       "5935        5937                  The nursing staff is the same way   \n",
       "5936        5938   My nurse communicates via text when I need to...   \n",
       "\n",
       "                             Clinic  Ratings  \\\n",
       "0     Columbia University Fertility        5   \n",
       "1     Columbia University Fertility        5   \n",
       "2     Columbia University Fertility        5   \n",
       "3     Columbia University Fertility        5   \n",
       "4     Columbia University Fertility        5   \n",
       "...                             ...      ...   \n",
       "5932            Penn Fertility Care        5   \n",
       "5933            Penn Fertility Care        5   \n",
       "5934            Penn Fertility Care        5   \n",
       "5935            Penn Fertility Care        5   \n",
       "5936            Penn Fertility Care        5   \n",
       "\n",
       "                                          clean_answers  \n",
       "0     columbia university fertility center excellent...  \n",
       "1         see dr paula brady columbia university clinic  \n",
       "2         excellent doctor treat patient personal level  \n",
       "3        dr brady take care us everything work great us  \n",
       "4     clinic whole also good open patient holiday we...  \n",
       "...                                                 ...  \n",
       "5932  ' middle treatment not pregnant yet never cons...  \n",
       "5933  also individualize billing approach -- explain...  \n",
       "5934  doctor excellent -- get treatment inclement we...  \n",
       "5935                                  nursing staff way  \n",
       "5936  nurse communicate via text need although not r...  \n",
       "\n",
       "[5937 rows x 5 columns]"
      ]
     },
     "execution_count": 85,
     "metadata": {},
     "output_type": "execute_result"
    }
   ],
   "source": [
    "yelp"
   ]
  },
  {
   "cell_type": "code",
   "execution_count": 86,
   "metadata": {},
   "outputs": [
    {
     "name": "stderr",
     "output_type": "stream",
     "text": [
      "/Users/jacobberger/anaconda3/lib/python3.7/site-packages/ipykernel_launcher.py:8: DeprecationWarning: Call to deprecated `syn0norm` (Attribute will be removed in 4.0.0, use self.vectors_norm instead).\n",
      "  \n",
      "WARNING:root:cannot compute similarity with no input ['medicallawperspectives']\n",
      "WARNING:root:cannot compute similarity with no input ['com/2016/08/10/e…theguardian']\n",
      "WARNING:root:cannot compute similarity with no input ['com/business…nbcnewyork']\n",
      "WARNING:root:cannot compute similarity with no input ['com/news/loca…']\n"
     ]
    }
   ],
   "source": [
    "# Predict Yelp Labels\n",
    "yelp_tokenized = yelp.apply(lambda r: w2v_tokenize_text(r['Reviews_by_sentence']), axis=1).values\n",
    "X_yelp_word_average = word_averaging_list(wv,yelp_tokenized)"
   ]
  },
  {
   "cell_type": "code",
   "execution_count": 91,
   "metadata": {},
   "outputs": [],
   "source": [
    "yelp_pred = wv_pipeline.predict(X_yelp_word_average)"
   ]
  },
  {
   "cell_type": "code",
   "execution_count": 93,
   "metadata": {},
   "outputs": [],
   "source": [
    "yelp['Topics'] = yelp_pred"
   ]
  },
  {
   "cell_type": "code",
   "execution_count": 95,
   "metadata": {},
   "outputs": [],
   "source": [
    "yelp.to_csv('yelp_wv_model.csv')"
   ]
  },
  {
   "cell_type": "code",
   "execution_count": null,
   "metadata": {},
   "outputs": [],
   "source": []
  }
 ],
 "metadata": {
  "kernelspec": {
   "display_name": "Python 3",
   "language": "python",
   "name": "python3"
  },
  "language_info": {
   "codemirror_mode": {
    "name": "ipython",
    "version": 3
   },
   "file_extension": ".py",
   "mimetype": "text/x-python",
   "name": "python",
   "nbconvert_exporter": "python",
   "pygments_lexer": "ipython3",
   "version": "3.7.6"
  }
 },
 "nbformat": 4,
 "nbformat_minor": 4
}
